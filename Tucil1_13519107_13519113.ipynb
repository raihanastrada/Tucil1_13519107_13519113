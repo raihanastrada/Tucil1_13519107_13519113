{
 "cells": [
  {
   "cell_type": "markdown",
   "id": "bda0e08d",
   "metadata": {},
   "source": [
    "# Tugas Kecil 1\n",
    "## Eksplorasi library Decision Tree Learning pada Jupyter Notebook"
   ]
  },
  {
   "cell_type": "code",
   "execution_count": null,
   "id": "800c450e",
   "metadata": {},
   "outputs": [],
   "source": [
    "import pandas as pd\n",
    "import numpy as np\n",
    "import matplotlib.pyplot as plt\n",
    "\n",
    "# Modul six untuk Id3Estimator\n",
    "import six\n",
    "import sys\n",
    "sys.modules['sklearn.externals.six'] = six\n",
    "\n",
    "# Modul-modul pengolahan data\n",
    "from sklearn.datasets import load_breast_cancer\n",
    "from sklearn.model_selection import train_test_split\n",
    "from sklearn.preprocessing import LabelEncoder, StandardScaler\n",
    "from sklearn.pipeline import make_pipeline\n",
    "\n",
    "# Modul model algoritma machine learning\n",
    "from sklearn.tree import DecisionTreeClassifier, export_text, export_graphviz\n",
    "from id3 import Id3Estimator\n",
    "from sklearn.cluster import KMeans\n",
    "from sklearn.linear_model import LogisticRegression\n",
    "from sklearn.neural_network import MLPClassifier\n",
    "from sklearn.svm import SVC\n",
    "\n",
    "# Modul pengecekan akurasi\n",
    "from sklearn.metrics import accuracy_score, f1_score"
   ]
  },
  {
   "cell_type": "code",
   "execution_count": null,
   "id": "a1ad8ddf",
   "metadata": {},
   "outputs": [],
   "source": [
    "breast_cancer = load_breast_cancer()\n",
    "df_breast_cancer = pd.DataFrame(breast_cancer.data, \n",
    "                                columns=breast_cancer.feature_names)\n",
    "df_breast_cancer['target'] = breast_cancer.target\n",
    "df_breast_cancer.head()"
   ]
  },
  {
   "cell_type": "code",
   "execution_count": null,
   "id": "4ef69ab2",
   "metadata": {},
   "outputs": [],
   "source": [
    "df_play_tennis = pd.read_csv('PlayTennis.csv')\n",
    "\n",
    "leO = LabelEncoder()\n",
    "df_play_tennis['Outlook'] = leO.fit_transform(df_play_tennis['Outlook'])\n",
    "\n",
    "leT = LabelEncoder()\n",
    "df_play_tennis['Temperature'] = leT.fit_transform(df_play_tennis['Temperature'])\n",
    "\n",
    "leH = LabelEncoder()\n",
    "df_play_tennis['Humidity'] = leH.fit_transform(df_play_tennis['Humidity'])\n",
    "\n",
    "leW = LabelEncoder()\n",
    "df_play_tennis['Wind'] = leW.fit_transform(df_play_tennis['Wind'])\n",
    "\n",
    "lePT = LabelEncoder()\n",
    "df_play_tennis['Play Tennis'] = lePT.fit_transform(df_play_tennis['Play Tennis'])\n",
    "\n",
    "df_play_tennis.head()"
   ]
  },
  {
   "cell_type": "code",
   "execution_count": null,
   "id": "e3897155",
   "metadata": {},
   "outputs": [],
   "source": [
    "X_breast_cancer = df_breast_cancer[breast_cancer.feature_names]\n",
    "y_breast_cancer = df_breast_cancer['target']"
   ]
  },
  {
   "cell_type": "code",
   "execution_count": null,
   "id": "200ab02a",
   "metadata": {},
   "outputs": [],
   "source": [
    "X_bc_train, X_bc_test, y_bc_train, y_bc_test = train_test_split(\n",
    "    X_breast_cancer, y_breast_cancer, test_size=0.2, random_state=42)"
   ]
  },
  {
   "cell_type": "code",
   "execution_count": null,
   "id": "4a1b4da1",
   "metadata": {},
   "outputs": [],
   "source": [
    "X_play_tennis = df_play_tennis[['Outlook', 'Temperature', 'Humidity', 'Wind']]\n",
    "y_play_tennis = df_play_tennis['Play Tennis']"
   ]
  },
  {
   "cell_type": "code",
   "execution_count": null,
   "id": "4601fffc",
   "metadata": {},
   "outputs": [],
   "source": [
    "X_pt_train, X_pt_test, y_pt_train, y_pt_test = train_test_split(\n",
    "    X_play_tennis, y_play_tennis, test_size=0.2, random_state=42)"
   ]
  },
  {
   "cell_type": "markdown",
   "id": "82eb99dd",
   "metadata": {},
   "source": [
    "### Decision Tree Classifier"
   ]
  },
  {
   "cell_type": "markdown",
   "id": "acd9c5ed",
   "metadata": {},
   "source": [
    "#### 1. Dataset Breast Cancer"
   ]
  },
  {
   "cell_type": "code",
   "execution_count": null,
   "id": "1e66919b",
   "metadata": {},
   "outputs": [],
   "source": [
    "decision_tree = DecisionTreeClassifier(random_state=42)\n",
    "decision_tree = decision_tree.fit(X_bc_train, y_bc_train)\n",
    "\n",
    "r = export_text(decision_tree, feature_names=breast_cancer['feature_names'].tolist())\n",
    "print(r)"
   ]
  },
  {
   "cell_type": "code",
   "execution_count": null,
   "id": "6fb52624",
   "metadata": {},
   "outputs": [],
   "source": [
    "#visualisasi tree\n",
    "#import graphviz\n",
    "\n",
    "#dot_data = export_graphviz(decision_tree, out_file=None) \n",
    "#graph = graphviz.Source(dot_data) \n"
   ]
  },
  {
   "cell_type": "code",
   "execution_count": null,
   "id": "829e9581",
   "metadata": {},
   "outputs": [],
   "source": [
    "# Memprediksi hasil dari model\n",
    "y_bc_pred = decision_tree.predict(X_bc_test)\n",
    "\n",
    "# Mengevaluasi hasil prediksi\n",
    "# Menggunakan metric Accuracy\n",
    "print(\"Evaluasi hasil prediksi menggunakan metric Accuracy: {}\".format(accuracy_score(y_bc_test, y_bc_pred)))\n",
    "\n",
    "# Menggunakan metric F1\n",
    "print(\"Evaluasi hasil prediksi menggunakan metric F1: {}\".format(f1_score(y_bc_test, y_bc_pred)))"
   ]
  },
  {
   "cell_type": "markdown",
   "id": "03bb262a",
   "metadata": {},
   "source": [
    "#### 2. Dataset Play Tennis"
   ]
  },
  {
   "cell_type": "code",
   "execution_count": null,
   "id": "aafbc49f",
   "metadata": {},
   "outputs": [],
   "source": [
    "tennis_decision_tree = DecisionTreeClassifier(random_state=42)\n",
    "tennis_decision_tree.fit(X_pt_train, y_pt_train)\n",
    "\n",
    "res = export_text(tennis_decision_tree, feature_names=['Outlook', 'Temperature', 'Humidity', 'Wind'])\n",
    "print(res)"
   ]
  },
  {
   "cell_type": "code",
   "execution_count": null,
   "id": "321c46a9",
   "metadata": {},
   "outputs": [],
   "source": [
    "# Memprediksi hasil dari model\n",
    "y_pt_pred = tennis_decision_tree.predict(X_pt_test)\n",
    "\n",
    "# Mengevaluasi hasil prediksi\n",
    "# Menggunakan metric Accuracy\n",
    "print(\"Evaluasi hasil prediksi menggunakan metric Accuracy: {}\".format(accuracy_score(y_pt_test, y_pt_pred)))\n",
    "\n",
    "# Menggunakan metric F1\n",
    "print(\"Evaluasi hasil prediksi menggunakan metric F1: {}\".format(f1_score(y_pt_test, y_pt_pred)))"
   ]
  },
  {
   "cell_type": "markdown",
   "id": "1b83f130",
   "metadata": {},
   "source": [
    "### Id3Estimator"
   ]
  },
  {
   "cell_type": "code",
   "execution_count": null,
   "id": "2cec5318",
   "metadata": {},
   "outputs": [],
   "source": [
    "pass"
   ]
  },
  {
   "cell_type": "markdown",
   "id": "c403002a",
   "metadata": {},
   "source": [
    "#### 1. Dataset Breast Cancer"
   ]
  },
  {
   "cell_type": "markdown",
   "id": "9846ea75",
   "metadata": {},
   "source": [
    "#### 2. Dataset Play Tennis"
   ]
  },
  {
   "cell_type": "code",
   "execution_count": null,
   "id": "a0a29ed9",
   "metadata": {},
   "outputs": [],
   "source": [
    "from id3 import export_text\n",
    "\n",
    "tennis_id3_estimator = Id3Estimator()\n",
    "tennis_id3_estimator.fit(X_pt_train, y_pt_train)\n",
    "\n",
    "res = export_text(tennis_id3_estimator.tree_, feature_names=['Outlook', 'Temperature', 'Humidity', 'Wind'])\n",
    "print(res)"
   ]
  },
  {
   "cell_type": "code",
   "execution_count": null,
   "id": "d142703d",
   "metadata": {},
   "outputs": [],
   "source": [
    "# Memprediksi hasil dari model\n",
    "y_pt_pred = tennis_id3_estimator.predict(X_pt_test)\n",
    "\n",
    "# Mengevaluasi hasil prediksi\n",
    "# Menggunakan metric Accuracy\n",
    "print(\"Evaluasi hasil prediksi menggunakan metric Accuracy: {}\".format(accuracy_score(y_pt_test, y_pt_pred)))\n",
    "\n",
    "# Menggunakan metric F1\n",
    "print(\"Evaluasi hasil prediksi menggunakan metric F1: {}\".format(f1_score(y_pt_test, y_pt_pred)))"
   ]
  },
  {
   "cell_type": "markdown",
   "id": "934169c1",
   "metadata": {},
   "source": [
    "### K Means"
   ]
  },
  {
   "cell_type": "code",
   "execution_count": null,
   "id": "a24d85f2",
   "metadata": {},
   "outputs": [],
   "source": [
    "pass"
   ]
  },
  {
   "cell_type": "markdown",
   "id": "2aadb7e4",
   "metadata": {},
   "source": [
    "#### 1. Dataset Breast Cancer"
   ]
  },
  {
   "cell_type": "markdown",
   "id": "1b58706f",
   "metadata": {},
   "source": [
    "#### 2. Dataset Play Tennis"
   ]
  },
  {
   "cell_type": "code",
   "execution_count": null,
   "id": "2782da7c",
   "metadata": {},
   "outputs": [],
   "source": [
    "tennis_k_means = KMeans(random_state=42)\n",
    "tennis_k_means.fit(X_pt_train)\n",
    "\n",
    "# res = export_text(tennis_k_means, feature_names=['Outlook', 'Temperature', 'Humidity', 'Wind'])\n",
    "# print(res)"
   ]
  },
  {
   "cell_type": "code",
   "execution_count": null,
   "id": "e3f1cd33",
   "metadata": {},
   "outputs": [],
   "source": [
    "# # Memprediksi hasil dari model\n",
    "# y_pt_pred = tennis_k_means.predict(X_pt_test)\n",
    "\n",
    "# # Mengevaluasi hasil prediksi\n",
    "# # Menggunakan metric Accuracy\n",
    "# print(\"Evaluasi hasil prediksi menggunakan metric Accuracy: {}\".format(accuracy_score(y_pt_test, y_pt_pred)))\n",
    "\n",
    "# # Menggunakan metric F1\n",
    "# print(\"Evaluasi hasil prediksi menggunakan metric F1: {}\".format(f1_score(y_pt_test, y_pt_pred)))"
   ]
  },
  {
   "cell_type": "markdown",
   "id": "63e581e7",
   "metadata": {},
   "source": [
    "### LogisticRegression"
   ]
  },
  {
   "cell_type": "code",
   "execution_count": null,
   "id": "bf41c30a",
   "metadata": {},
   "outputs": [],
   "source": [
    "pass"
   ]
  },
  {
   "cell_type": "markdown",
   "id": "1adf85c6",
   "metadata": {},
   "source": [
    "#### 1. Dataset Breast Cancer"
   ]
  },
  {
   "cell_type": "code",
   "execution_count": null,
   "id": "7420ea62",
   "metadata": {},
   "outputs": [],
   "source": [
    "bc_log_regression = LogisticRegression(max_iter=10000)\n",
    "bc_log_regression.fit(X_bc_train, y_bc_train)\n",
    "\n",
    "# res = export_text(bc_log_regression, feature_names=['Outlook', 'Temperature', 'Humidity', 'Wind'])\n",
    "# print(res)"
   ]
  },
  {
   "cell_type": "code",
   "execution_count": null,
   "id": "77c462da",
   "metadata": {},
   "outputs": [],
   "source": [
    "# Memprediksi hasil dari model\n",
    "y_bc_pred = bc_log_regression.predict(X_bc_test)\n",
    "\n",
    "# Mengevaluasi hasil prediksi\n",
    "# Menggunakan metric Accuracy\n",
    "print(\"Evaluasi hasil prediksi menggunakan metric Accuracy: {}\".format(accuracy_score(y_bc_test, y_bc_pred)))\n",
    "\n",
    "# Menggunakan metric F1\n",
    "print(\"Evaluasi hasil prediksi menggunakan metric F1: {}\".format(f1_score(y_bc_test, y_bc_pred)))"
   ]
  },
  {
   "cell_type": "markdown",
   "id": "1e5f3a4c",
   "metadata": {},
   "source": [
    "#### 2. Dataset Play Tennis"
   ]
  },
  {
   "cell_type": "markdown",
   "id": "a8dd5510",
   "metadata": {},
   "source": [
    "### Neural Network"
   ]
  },
  {
   "cell_type": "code",
   "execution_count": null,
   "id": "6021b76d",
   "metadata": {},
   "outputs": [],
   "source": [
    "pass"
   ]
  },
  {
   "cell_type": "markdown",
   "id": "3b9b240c",
   "metadata": {},
   "source": [
    "#### 1. Dataset Breast Cancer"
   ]
  },
  {
   "cell_type": "code",
   "execution_count": null,
   "id": "726c7fed",
   "metadata": {},
   "outputs": [],
   "source": [
    "bc_neural_network = MLPClassifier(random_state=42)\n",
    "bc_neural_network.fit(X_bc_train, y_bc_train)"
   ]
  },
  {
   "cell_type": "code",
   "execution_count": null,
   "id": "15f89e2e",
   "metadata": {},
   "outputs": [],
   "source": [
    "y_bc_pred = bc_neural_network.predict(X_bc_test)\n",
    "\n",
    "# Mengevaluasi hasil prediksi\n",
    "# Menggunakan metric Accuracy\n",
    "print(\"Evaluasi hasil prediksi menggunakan metric Accuracy: {}\".format(accuracy_score(y_bc_test, y_bc_pred)))\n",
    "\n",
    "# Menggunakan metric F1\n",
    "print(\"Evaluasi hasil prediksi menggunakan metric F1: {}\".format(f1_score(y_bc_test, y_bc_pred)))"
   ]
  },
  {
   "cell_type": "markdown",
   "id": "e88c0153",
   "metadata": {},
   "source": [
    "#### 2. Dataset Play Tennis"
   ]
  },
  {
   "cell_type": "markdown",
   "id": "a7ef2ca6",
   "metadata": {},
   "source": [
    "### SVM"
   ]
  },
  {
   "cell_type": "code",
   "execution_count": null,
   "id": "be4b3300",
   "metadata": {},
   "outputs": [],
   "source": [
    "pass"
   ]
  },
  {
   "cell_type": "markdown",
   "id": "9eaac185",
   "metadata": {},
   "source": [
    "#### 1. Dataset Breast Cancer"
   ]
  },
  {
   "cell_type": "code",
   "execution_count": null,
   "id": "5d78ca20",
   "metadata": {},
   "outputs": [],
   "source": [
    "bc_clf = make_pipeline(StandardScaler(), SVC(gamma='auto'))\n",
    "bc_clf.fit(X_bc_train, y_bc_train)"
   ]
  },
  {
   "cell_type": "code",
   "execution_count": null,
   "id": "64abfdb3",
   "metadata": {},
   "outputs": [],
   "source": [
    "y_bc_pred = bc_clf.predict(X_bc_test)\n",
    "\n",
    "# Mengevaluasi hasil prediksi\n",
    "# Menggunakan metric Accuracy\n",
    "print(\"Evaluasi hasil prediksi menggunakan metric Accuracy: {}\".format(accuracy_score(y_bc_test, y_bc_pred)))\n",
    "\n",
    "# Menggunakan metric F1\n",
    "print(\"Evaluasi hasil prediksi menggunakan metric F1: {}\".format(f1_score(y_bc_test, y_bc_pred)))"
   ]
  },
  {
   "cell_type": "markdown",
   "id": "0a8c87d6",
   "metadata": {},
   "source": [
    "#### 2. Dataset Play Tennis"
   ]
  },
  {
   "cell_type": "markdown",
   "id": "7a3b1b10",
   "metadata": {},
   "source": [
    "Pembagian Tugas\n",
    "- Raihan Astrada (1,2,3 dataset breast cancer & 4,5,6 dataset play tennis)\n",
    "- Daffa Ananda (4,5,6 dataset breast cancer & 1,2,3 dataset play tennis)"
   ]
  }
 ],
 "metadata": {
  "kernelspec": {
   "display_name": "Python 3 (ipykernel)",
   "language": "python",
   "name": "python3"
  },
  "language_info": {
   "codemirror_mode": {
    "name": "ipython",
    "version": 3
   },
   "file_extension": ".py",
   "mimetype": "text/x-python",
   "name": "python",
   "nbconvert_exporter": "python",
   "pygments_lexer": "ipython3",
   "version": "3.9.0"
  }
 },
 "nbformat": 4,
 "nbformat_minor": 5
}
