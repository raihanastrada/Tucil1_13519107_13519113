{
 "cells": [
  {
   "cell_type": "markdown",
   "id": "bda0e08d",
   "metadata": {},
   "source": [
    "# Tugas Kecil 1\n",
    "## Eksplorasi library Decision Tree Learning pada Jupyter Notebook"
   ]
  },
  {
   "cell_type": "code",
   "execution_count": 1,
   "id": "800c450e",
   "metadata": {},
   "outputs": [],
   "source": [
    "import pandas as pd\n",
    "import numpy as np\n",
    "import matplotlib.pyplot as plt\n",
    "\n",
    "# Modul six untuk Id3Estimator\n",
    "import six, sys\n",
    "sys.modules['sklearn.externals.six'] = six\n",
    "\n",
    "# Modul-modul pengolahan data\n",
    "from sklearn.datasets import load_breast_cancer\n",
    "from sklearn.model_selection import train_test_split\n",
    "from sklearn.preprocessing import LabelEncoder, StandardScaler\n",
    "from sklearn.pipeline import make_pipeline\n",
    "\n",
    "# Modul model algoritma machine learning\n",
    "from sklearn.tree import DecisionTreeClassifier, export_text, export_graphviz\n",
    "from id3 import Id3Estimator\n",
    "from sklearn.cluster import KMeans\n",
    "from sklearn.linear_model import LogisticRegression\n",
    "from sklearn.neural_network import MLPClassifier\n",
    "from sklearn.svm import SVC\n",
    "\n",
    "# Modul pengecekan akurasi\n",
    "from sklearn.metrics import accuracy_score, f1_score"
   ]
  },
  {
   "cell_type": "markdown",
   "id": "1d5c7112",
   "metadata": {},
   "source": [
    "### Load dataset"
   ]
  },
  {
   "cell_type": "code",
   "execution_count": 2,
   "id": "a1ad8ddf",
   "metadata": {},
   "outputs": [
    {
     "data": {
      "text/html": [
       "<div>\n",
       "<style scoped>\n",
       "    .dataframe tbody tr th:only-of-type {\n",
       "        vertical-align: middle;\n",
       "    }\n",
       "\n",
       "    .dataframe tbody tr th {\n",
       "        vertical-align: top;\n",
       "    }\n",
       "\n",
       "    .dataframe thead th {\n",
       "        text-align: right;\n",
       "    }\n",
       "</style>\n",
       "<table border=\"1\" class=\"dataframe\">\n",
       "  <thead>\n",
       "    <tr style=\"text-align: right;\">\n",
       "      <th></th>\n",
       "      <th>mean radius</th>\n",
       "      <th>mean texture</th>\n",
       "      <th>mean perimeter</th>\n",
       "      <th>mean area</th>\n",
       "      <th>mean smoothness</th>\n",
       "      <th>mean compactness</th>\n",
       "      <th>mean concavity</th>\n",
       "      <th>mean concave points</th>\n",
       "      <th>mean symmetry</th>\n",
       "      <th>mean fractal dimension</th>\n",
       "      <th>...</th>\n",
       "      <th>worst texture</th>\n",
       "      <th>worst perimeter</th>\n",
       "      <th>worst area</th>\n",
       "      <th>worst smoothness</th>\n",
       "      <th>worst compactness</th>\n",
       "      <th>worst concavity</th>\n",
       "      <th>worst concave points</th>\n",
       "      <th>worst symmetry</th>\n",
       "      <th>worst fractal dimension</th>\n",
       "      <th>target</th>\n",
       "    </tr>\n",
       "  </thead>\n",
       "  <tbody>\n",
       "    <tr>\n",
       "      <th>0</th>\n",
       "      <td>17.99</td>\n",
       "      <td>10.38</td>\n",
       "      <td>122.80</td>\n",
       "      <td>1001.0</td>\n",
       "      <td>0.11840</td>\n",
       "      <td>0.27760</td>\n",
       "      <td>0.3001</td>\n",
       "      <td>0.14710</td>\n",
       "      <td>0.2419</td>\n",
       "      <td>0.07871</td>\n",
       "      <td>...</td>\n",
       "      <td>17.33</td>\n",
       "      <td>184.60</td>\n",
       "      <td>2019.0</td>\n",
       "      <td>0.1622</td>\n",
       "      <td>0.6656</td>\n",
       "      <td>0.7119</td>\n",
       "      <td>0.2654</td>\n",
       "      <td>0.4601</td>\n",
       "      <td>0.11890</td>\n",
       "      <td>0</td>\n",
       "    </tr>\n",
       "    <tr>\n",
       "      <th>1</th>\n",
       "      <td>20.57</td>\n",
       "      <td>17.77</td>\n",
       "      <td>132.90</td>\n",
       "      <td>1326.0</td>\n",
       "      <td>0.08474</td>\n",
       "      <td>0.07864</td>\n",
       "      <td>0.0869</td>\n",
       "      <td>0.07017</td>\n",
       "      <td>0.1812</td>\n",
       "      <td>0.05667</td>\n",
       "      <td>...</td>\n",
       "      <td>23.41</td>\n",
       "      <td>158.80</td>\n",
       "      <td>1956.0</td>\n",
       "      <td>0.1238</td>\n",
       "      <td>0.1866</td>\n",
       "      <td>0.2416</td>\n",
       "      <td>0.1860</td>\n",
       "      <td>0.2750</td>\n",
       "      <td>0.08902</td>\n",
       "      <td>0</td>\n",
       "    </tr>\n",
       "    <tr>\n",
       "      <th>2</th>\n",
       "      <td>19.69</td>\n",
       "      <td>21.25</td>\n",
       "      <td>130.00</td>\n",
       "      <td>1203.0</td>\n",
       "      <td>0.10960</td>\n",
       "      <td>0.15990</td>\n",
       "      <td>0.1974</td>\n",
       "      <td>0.12790</td>\n",
       "      <td>0.2069</td>\n",
       "      <td>0.05999</td>\n",
       "      <td>...</td>\n",
       "      <td>25.53</td>\n",
       "      <td>152.50</td>\n",
       "      <td>1709.0</td>\n",
       "      <td>0.1444</td>\n",
       "      <td>0.4245</td>\n",
       "      <td>0.4504</td>\n",
       "      <td>0.2430</td>\n",
       "      <td>0.3613</td>\n",
       "      <td>0.08758</td>\n",
       "      <td>0</td>\n",
       "    </tr>\n",
       "    <tr>\n",
       "      <th>3</th>\n",
       "      <td>11.42</td>\n",
       "      <td>20.38</td>\n",
       "      <td>77.58</td>\n",
       "      <td>386.1</td>\n",
       "      <td>0.14250</td>\n",
       "      <td>0.28390</td>\n",
       "      <td>0.2414</td>\n",
       "      <td>0.10520</td>\n",
       "      <td>0.2597</td>\n",
       "      <td>0.09744</td>\n",
       "      <td>...</td>\n",
       "      <td>26.50</td>\n",
       "      <td>98.87</td>\n",
       "      <td>567.7</td>\n",
       "      <td>0.2098</td>\n",
       "      <td>0.8663</td>\n",
       "      <td>0.6869</td>\n",
       "      <td>0.2575</td>\n",
       "      <td>0.6638</td>\n",
       "      <td>0.17300</td>\n",
       "      <td>0</td>\n",
       "    </tr>\n",
       "    <tr>\n",
       "      <th>4</th>\n",
       "      <td>20.29</td>\n",
       "      <td>14.34</td>\n",
       "      <td>135.10</td>\n",
       "      <td>1297.0</td>\n",
       "      <td>0.10030</td>\n",
       "      <td>0.13280</td>\n",
       "      <td>0.1980</td>\n",
       "      <td>0.10430</td>\n",
       "      <td>0.1809</td>\n",
       "      <td>0.05883</td>\n",
       "      <td>...</td>\n",
       "      <td>16.67</td>\n",
       "      <td>152.20</td>\n",
       "      <td>1575.0</td>\n",
       "      <td>0.1374</td>\n",
       "      <td>0.2050</td>\n",
       "      <td>0.4000</td>\n",
       "      <td>0.1625</td>\n",
       "      <td>0.2364</td>\n",
       "      <td>0.07678</td>\n",
       "      <td>0</td>\n",
       "    </tr>\n",
       "  </tbody>\n",
       "</table>\n",
       "<p>5 rows × 31 columns</p>\n",
       "</div>"
      ],
      "text/plain": [
       "   mean radius  mean texture  mean perimeter  mean area  mean smoothness  \\\n",
       "0        17.99         10.38          122.80     1001.0          0.11840   \n",
       "1        20.57         17.77          132.90     1326.0          0.08474   \n",
       "2        19.69         21.25          130.00     1203.0          0.10960   \n",
       "3        11.42         20.38           77.58      386.1          0.14250   \n",
       "4        20.29         14.34          135.10     1297.0          0.10030   \n",
       "\n",
       "   mean compactness  mean concavity  mean concave points  mean symmetry  \\\n",
       "0           0.27760          0.3001              0.14710         0.2419   \n",
       "1           0.07864          0.0869              0.07017         0.1812   \n",
       "2           0.15990          0.1974              0.12790         0.2069   \n",
       "3           0.28390          0.2414              0.10520         0.2597   \n",
       "4           0.13280          0.1980              0.10430         0.1809   \n",
       "\n",
       "   mean fractal dimension  ...  worst texture  worst perimeter  worst area  \\\n",
       "0                 0.07871  ...          17.33           184.60      2019.0   \n",
       "1                 0.05667  ...          23.41           158.80      1956.0   \n",
       "2                 0.05999  ...          25.53           152.50      1709.0   \n",
       "3                 0.09744  ...          26.50            98.87       567.7   \n",
       "4                 0.05883  ...          16.67           152.20      1575.0   \n",
       "\n",
       "   worst smoothness  worst compactness  worst concavity  worst concave points  \\\n",
       "0            0.1622             0.6656           0.7119                0.2654   \n",
       "1            0.1238             0.1866           0.2416                0.1860   \n",
       "2            0.1444             0.4245           0.4504                0.2430   \n",
       "3            0.2098             0.8663           0.6869                0.2575   \n",
       "4            0.1374             0.2050           0.4000                0.1625   \n",
       "\n",
       "   worst symmetry  worst fractal dimension  target  \n",
       "0          0.4601                  0.11890       0  \n",
       "1          0.2750                  0.08902       0  \n",
       "2          0.3613                  0.08758       0  \n",
       "3          0.6638                  0.17300       0  \n",
       "4          0.2364                  0.07678       0  \n",
       "\n",
       "[5 rows x 31 columns]"
      ]
     },
     "execution_count": 2,
     "metadata": {},
     "output_type": "execute_result"
    }
   ],
   "source": [
    "# Dataset breast cancer\n",
    "breast_cancer = load_breast_cancer()\n",
    "df_breast_cancer = pd.DataFrame(breast_cancer.data, \n",
    "                                columns=breast_cancer.feature_names)\n",
    "df_breast_cancer['target'] = breast_cancer.target\n",
    "\n",
    "df_breast_cancer.head()"
   ]
  },
  {
   "cell_type": "code",
   "execution_count": 3,
   "id": "4ef69ab2",
   "metadata": {},
   "outputs": [
    {
     "data": {
      "text/html": [
       "<div>\n",
       "<style scoped>\n",
       "    .dataframe tbody tr th:only-of-type {\n",
       "        vertical-align: middle;\n",
       "    }\n",
       "\n",
       "    .dataframe tbody tr th {\n",
       "        vertical-align: top;\n",
       "    }\n",
       "\n",
       "    .dataframe thead th {\n",
       "        text-align: right;\n",
       "    }\n",
       "</style>\n",
       "<table border=\"1\" class=\"dataframe\">\n",
       "  <thead>\n",
       "    <tr style=\"text-align: right;\">\n",
       "      <th></th>\n",
       "      <th>Outlook</th>\n",
       "      <th>Temperature</th>\n",
       "      <th>Humidity</th>\n",
       "      <th>Wind</th>\n",
       "      <th>Play Tennis</th>\n",
       "    </tr>\n",
       "  </thead>\n",
       "  <tbody>\n",
       "    <tr>\n",
       "      <th>0</th>\n",
       "      <td>2</td>\n",
       "      <td>1</td>\n",
       "      <td>0</td>\n",
       "      <td>1</td>\n",
       "      <td>0</td>\n",
       "    </tr>\n",
       "    <tr>\n",
       "      <th>1</th>\n",
       "      <td>2</td>\n",
       "      <td>1</td>\n",
       "      <td>0</td>\n",
       "      <td>0</td>\n",
       "      <td>0</td>\n",
       "    </tr>\n",
       "    <tr>\n",
       "      <th>2</th>\n",
       "      <td>0</td>\n",
       "      <td>1</td>\n",
       "      <td>0</td>\n",
       "      <td>1</td>\n",
       "      <td>1</td>\n",
       "    </tr>\n",
       "    <tr>\n",
       "      <th>3</th>\n",
       "      <td>1</td>\n",
       "      <td>2</td>\n",
       "      <td>0</td>\n",
       "      <td>1</td>\n",
       "      <td>1</td>\n",
       "    </tr>\n",
       "    <tr>\n",
       "      <th>4</th>\n",
       "      <td>1</td>\n",
       "      <td>0</td>\n",
       "      <td>1</td>\n",
       "      <td>1</td>\n",
       "      <td>1</td>\n",
       "    </tr>\n",
       "  </tbody>\n",
       "</table>\n",
       "</div>"
      ],
      "text/plain": [
       "   Outlook  Temperature  Humidity  Wind  Play Tennis\n",
       "0        2            1         0     1            0\n",
       "1        2            1         0     0            0\n",
       "2        0            1         0     1            1\n",
       "3        1            2         0     1            1\n",
       "4        1            0         1     1            1"
      ]
     },
     "execution_count": 3,
     "metadata": {},
     "output_type": "execute_result"
    }
   ],
   "source": [
    "# Dataset play tennis\n",
    "df_play_tennis = pd.read_csv('PlayTennis.csv')\n",
    "\n",
    "# Melakukan encoding pada data-data kategorial\n",
    "le = LabelEncoder()\n",
    "\n",
    "df_play_tennis['Outlook'] = le.fit_transform(df_play_tennis['Outlook'])\n",
    "df_play_tennis['Temperature'] = le.fit_transform(df_play_tennis['Temperature'])\n",
    "df_play_tennis['Humidity'] = le.fit_transform(df_play_tennis['Humidity'])\n",
    "df_play_tennis['Wind'] = le.fit_transform(df_play_tennis['Wind'])\n",
    "df_play_tennis['Play Tennis'] = le.fit_transform(df_play_tennis['Play Tennis'])\n",
    "\n",
    "df_play_tennis.head()"
   ]
  },
  {
   "cell_type": "code",
   "execution_count": 4,
   "id": "e3897155",
   "metadata": {},
   "outputs": [],
   "source": [
    "X_breast_cancer = df_breast_cancer[breast_cancer.feature_names]\n",
    "y_breast_cancer = df_breast_cancer['target']"
   ]
  },
  {
   "cell_type": "code",
   "execution_count": 5,
   "id": "200ab02a",
   "metadata": {},
   "outputs": [],
   "source": [
    "X_bc_train, X_bc_test, y_bc_train, y_bc_test = train_test_split(\n",
    "    X_breast_cancer, y_breast_cancer, test_size=0.2, random_state=42)"
   ]
  },
  {
   "cell_type": "code",
   "execution_count": 6,
   "id": "4a1b4da1",
   "metadata": {},
   "outputs": [],
   "source": [
    "X_play_tennis = df_play_tennis[['Outlook', 'Temperature', 'Humidity', 'Wind']]\n",
    "y_play_tennis = df_play_tennis['Play Tennis']"
   ]
  },
  {
   "cell_type": "code",
   "execution_count": 7,
   "id": "4601fffc",
   "metadata": {},
   "outputs": [],
   "source": [
    "X_pt_train, X_pt_test, y_pt_train, y_pt_test = train_test_split(\n",
    "    X_play_tennis, y_play_tennis, test_size=0.2, random_state=42)"
   ]
  },
  {
   "cell_type": "markdown",
   "id": "82eb99dd",
   "metadata": {},
   "source": [
    "### Decision Tree Classifier"
   ]
  },
  {
   "cell_type": "markdown",
   "id": "acd9c5ed",
   "metadata": {},
   "source": [
    "#### 1. Dataset Breast Cancer"
   ]
  },
  {
   "cell_type": "code",
   "execution_count": 8,
   "id": "1e66919b",
   "metadata": {},
   "outputs": [
    {
     "name": "stdout",
     "output_type": "stream",
     "text": [
      "|--- mean concave points <= 0.05\n",
      "|   |--- worst radius <= 16.83\n",
      "|   |   |--- area error <= 48.70\n",
      "|   |   |   |--- worst smoothness <= 0.18\n",
      "|   |   |   |   |--- smoothness error <= 0.00\n",
      "|   |   |   |   |   |--- worst texture <= 27.76\n",
      "|   |   |   |   |   |   |--- class: 1\n",
      "|   |   |   |   |   |--- worst texture >  27.76\n",
      "|   |   |   |   |   |   |--- class: 0\n",
      "|   |   |   |   |--- smoothness error >  0.00\n",
      "|   |   |   |   |   |--- worst texture <= 33.35\n",
      "|   |   |   |   |   |   |--- class: 1\n",
      "|   |   |   |   |   |--- worst texture >  33.35\n",
      "|   |   |   |   |   |   |--- worst texture <= 33.56\n",
      "|   |   |   |   |   |   |   |--- class: 0\n",
      "|   |   |   |   |   |   |--- worst texture >  33.56\n",
      "|   |   |   |   |   |   |   |--- class: 1\n",
      "|   |   |   |--- worst smoothness >  0.18\n",
      "|   |   |   |   |--- class: 0\n",
      "|   |   |--- area error >  48.70\n",
      "|   |   |   |--- concavity error <= 0.02\n",
      "|   |   |   |   |--- class: 0\n",
      "|   |   |   |--- concavity error >  0.02\n",
      "|   |   |   |   |--- class: 1\n",
      "|   |--- worst radius >  16.83\n",
      "|   |   |--- mean texture <= 16.19\n",
      "|   |   |   |--- class: 1\n",
      "|   |   |--- mean texture >  16.19\n",
      "|   |   |   |--- concave points error <= 0.01\n",
      "|   |   |   |   |--- class: 0\n",
      "|   |   |   |--- concave points error >  0.01\n",
      "|   |   |   |   |--- class: 1\n",
      "|--- mean concave points >  0.05\n",
      "|   |--- worst concave points <= 0.15\n",
      "|   |   |--- worst perimeter <= 115.25\n",
      "|   |   |   |--- mean texture <= 21.06\n",
      "|   |   |   |   |--- class: 1\n",
      "|   |   |   |--- mean texture >  21.06\n",
      "|   |   |   |   |--- class: 0\n",
      "|   |   |--- worst perimeter >  115.25\n",
      "|   |   |   |--- class: 0\n",
      "|   |--- worst concave points >  0.15\n",
      "|   |   |--- fractal dimension error <= 0.01\n",
      "|   |   |   |--- class: 0\n",
      "|   |   |--- fractal dimension error >  0.01\n",
      "|   |   |   |--- class: 1\n",
      "\n"
     ]
    }
   ],
   "source": [
    "decision_tree = DecisionTreeClassifier(random_state=42)\n",
    "decision_tree = decision_tree.fit(X_bc_train, y_bc_train)\n",
    "\n",
    "res = export_text(decision_tree, feature_names=breast_cancer['feature_names'].tolist())\n",
    "print(res)"
   ]
  },
  {
   "cell_type": "code",
   "execution_count": 9,
   "id": "6fb52624",
   "metadata": {},
   "outputs": [],
   "source": [
    "#visualisasi tree\n",
    "#import graphviz\n",
    "\n",
    "#dot_data = export_graphviz(decision_tree, out_file=None) \n",
    "#graph = graphviz.Source(dot_data) \n"
   ]
  },
  {
   "cell_type": "code",
   "execution_count": 10,
   "id": "829e9581",
   "metadata": {},
   "outputs": [
    {
     "name": "stdout",
     "output_type": "stream",
     "text": [
      "Evaluasi hasil prediksi menggunakan metric Accuracy: 0.9473684210526315\n",
      "Evaluasi hasil prediksi menggunakan metric F1: 0.9577464788732394\n"
     ]
    }
   ],
   "source": [
    "# Memprediksi hasil dari model\n",
    "y_bc_pred = decision_tree.predict(X_bc_test)\n",
    "\n",
    "# Mengevaluasi hasil prediksi\n",
    "# Menggunakan metric Accuracy\n",
    "print(\"Evaluasi hasil prediksi menggunakan metric Accuracy: {}\".format(accuracy_score(y_bc_test, y_bc_pred)))\n",
    "\n",
    "# Menggunakan metric F1\n",
    "print(\"Evaluasi hasil prediksi menggunakan metric F1: {}\".format(f1_score(y_bc_test, y_bc_pred)))"
   ]
  },
  {
   "cell_type": "markdown",
   "id": "03bb262a",
   "metadata": {},
   "source": [
    "#### 2. Dataset Play Tennis"
   ]
  },
  {
   "cell_type": "code",
   "execution_count": 11,
   "id": "aafbc49f",
   "metadata": {},
   "outputs": [
    {
     "name": "stdout",
     "output_type": "stream",
     "text": [
      "|--- Outlook <= 0.50\n",
      "|   |--- class: 1\n",
      "|--- Outlook >  0.50\n",
      "|   |--- Humidity <= 0.50\n",
      "|   |   |--- Wind <= 0.50\n",
      "|   |   |   |--- class: 0\n",
      "|   |   |--- Wind >  0.50\n",
      "|   |   |   |--- Outlook <= 1.50\n",
      "|   |   |   |   |--- class: 1\n",
      "|   |   |   |--- Outlook >  1.50\n",
      "|   |   |   |   |--- class: 0\n",
      "|   |--- Humidity >  0.50\n",
      "|   |   |--- Wind <= 0.50\n",
      "|   |   |   |--- Outlook <= 1.50\n",
      "|   |   |   |   |--- class: 0\n",
      "|   |   |   |--- Outlook >  1.50\n",
      "|   |   |   |   |--- class: 1\n",
      "|   |   |--- Wind >  0.50\n",
      "|   |   |   |--- class: 1\n",
      "\n"
     ]
    }
   ],
   "source": [
    "tennis_decision_tree = DecisionTreeClassifier(random_state=42)\n",
    "tennis_decision_tree.fit(X_pt_train, y_pt_train)\n",
    "\n",
    "res = export_text(tennis_decision_tree, feature_names=['Outlook', 'Temperature', 'Humidity', 'Wind'])\n",
    "print(res)"
   ]
  },
  {
   "cell_type": "code",
   "execution_count": 12,
   "id": "321c46a9",
   "metadata": {},
   "outputs": [
    {
     "name": "stdout",
     "output_type": "stream",
     "text": [
      "Evaluasi hasil prediksi menggunakan metric Accuracy: 1.0\n",
      "Evaluasi hasil prediksi menggunakan metric F1: 1.0\n"
     ]
    }
   ],
   "source": [
    "# Memprediksi hasil dari model\n",
    "y_pt_pred = tennis_decision_tree.predict(X_pt_test)\n",
    "\n",
    "# Mengevaluasi hasil prediksi\n",
    "# Menggunakan metric Accuracy\n",
    "print(\"Evaluasi hasil prediksi menggunakan metric Accuracy: {}\".format(accuracy_score(y_pt_test, y_pt_pred)))\n",
    "\n",
    "# Menggunakan metric F1\n",
    "print(\"Evaluasi hasil prediksi menggunakan metric F1: {}\".format(f1_score(y_pt_test, y_pt_pred)))"
   ]
  },
  {
   "cell_type": "markdown",
   "id": "1b83f130",
   "metadata": {},
   "source": [
    "### Id3Estimator"
   ]
  },
  {
   "cell_type": "code",
   "execution_count": 13,
   "id": "d5176bdb",
   "metadata": {},
   "outputs": [],
   "source": [
    "from id3 import export_text"
   ]
  },
  {
   "cell_type": "markdown",
   "id": "c403002a",
   "metadata": {},
   "source": [
    "#### 1. Dataset Breast Cancer"
   ]
  },
  {
   "cell_type": "code",
   "execution_count": 14,
   "id": "68c45e05",
   "metadata": {},
   "outputs": [
    {
     "name": "stdout",
     "output_type": "stream",
     "text": [
      "\n",
      "mean concave points <=0.05\n",
      "|   worst radius <=16.83\n",
      "|   |   radius error <=0.63\n",
      "|   |   |   worst texture <=30.15: 1 (225) \n",
      "|   |   |   worst texture >30.15\n",
      "|   |   |   |   worst area <=641.60: 1 (25) \n",
      "|   |   |   |   worst area >641.60\n",
      "|   |   |   |   |   mean radius <=13.45\n",
      "|   |   |   |   |   |   mean texture <=28.79: 0 (3) \n",
      "|   |   |   |   |   |   mean texture >28.79: 1 (1) \n",
      "|   |   |   |   |   mean radius >13.45: 1 (6) \n",
      "|   |   radius error >0.63\n",
      "|   |   |   mean smoothness <=0.09: 1 (1) \n",
      "|   |   |   mean smoothness >0.09: 0 (2) \n",
      "|   worst radius >16.83\n",
      "|   |   mean texture <=16.19: 1 (6) \n",
      "|   |   mean texture >16.19\n",
      "|   |   |   concave points error <=0.01: 0 (11) \n",
      "|   |   |   concave points error >0.01: 1 (2) \n",
      "mean concave points >0.05\n",
      "|   worst perimeter <=114.45\n",
      "|   |   worst texture <=25.65\n",
      "|   |   |   worst concave points <=0.17: 1 (19) \n",
      "|   |   |   worst concave points >0.17: 0 (2) \n",
      "|   |   worst texture >25.65\n",
      "|   |   |   perimeter error <=1.56\n",
      "|   |   |   |   mean radius <=13.34: 0 (1) \n",
      "|   |   |   |   mean radius >13.34: 1 (1) \n",
      "|   |   |   perimeter error >1.56: 0 (21) \n",
      "|   worst perimeter >114.45: 0 (129) \n",
      "\n"
     ]
    }
   ],
   "source": [
    "estimator = Id3Estimator()\n",
    "estimator = estimator.fit(X_bc_train, y_bc_train)\n",
    "\n",
    "res = export_text(estimator.tree_, feature_names=breast_cancer['feature_names'].tolist())\n",
    "print(res)"
   ]
  },
  {
   "cell_type": "code",
   "execution_count": 15,
   "id": "a19c7857",
   "metadata": {},
   "outputs": [
    {
     "name": "stdout",
     "output_type": "stream",
     "text": [
      "Evaluasi hasil prediksi menggunakan metric Accuracy: 0.9385964912280702\n",
      "Evaluasi hasil prediksi menggunakan metric F1: 0.9517241379310345\n"
     ]
    }
   ],
   "source": [
    "# Memprediksi hasil dari model\n",
    "y_bc_pred = estimator.predict(X_bc_test)\n",
    "\n",
    "# Mengevaluasi hasil prediksi\n",
    "# Menggunakan metric Accuracy\n",
    "print(\"Evaluasi hasil prediksi menggunakan metric Accuracy: {}\".format(accuracy_score(y_bc_test, y_bc_pred)))\n",
    "\n",
    "# Menggunakan metric F1\n",
    "print(\"Evaluasi hasil prediksi menggunakan metric F1: {}\".format(f1_score(y_bc_test, y_bc_pred)))"
   ]
  },
  {
   "cell_type": "markdown",
   "id": "9846ea75",
   "metadata": {},
   "source": [
    "#### 2. Dataset Play Tennis"
   ]
  },
  {
   "cell_type": "code",
   "execution_count": 16,
   "id": "a0a29ed9",
   "metadata": {},
   "outputs": [
    {
     "name": "stdout",
     "output_type": "stream",
     "text": [
      "\n",
      "Outlook <=0.50: 1 (3) \n",
      "Outlook >0.50\n",
      "|   Humidity <=0.50\n",
      "|   |   Wind <=0.50: 0 (2) \n",
      "|   |   Wind >0.50: 0 (1/1) \n",
      "|   Humidity >0.50\n",
      "|   |   Wind <=0.50\n",
      "|   |   |   Temperature <=1.00: 0 (1) \n",
      "|   |   |   Temperature >1.00: 1 (1) \n",
      "|   |   Wind >0.50: 1 (2) \n",
      "\n"
     ]
    }
   ],
   "source": [
    "tennis_id3_estimator = Id3Estimator()\n",
    "tennis_id3_estimator.fit(X_pt_train, y_pt_train)\n",
    "\n",
    "res = export_text(tennis_id3_estimator.tree_, feature_names=['Outlook', 'Temperature', 'Humidity', 'Wind'])\n",
    "print(res)"
   ]
  },
  {
   "cell_type": "code",
   "execution_count": 17,
   "id": "d142703d",
   "metadata": {},
   "outputs": [
    {
     "name": "stdout",
     "output_type": "stream",
     "text": [
      "Evaluasi hasil prediksi menggunakan metric Accuracy: 1.0\n",
      "Evaluasi hasil prediksi menggunakan metric F1: 1.0\n"
     ]
    }
   ],
   "source": [
    "# Memprediksi hasil dari model\n",
    "y_pt_pred = tennis_id3_estimator.predict(X_pt_test)\n",
    "\n",
    "# Mengevaluasi hasil prediksi\n",
    "# Menggunakan metric Accuracy\n",
    "print(\"Evaluasi hasil prediksi menggunakan metric Accuracy: {}\".format(accuracy_score(y_pt_test, y_pt_pred)))\n",
    "\n",
    "# Menggunakan metric F1\n",
    "print(\"Evaluasi hasil prediksi menggunakan metric F1: {}\".format(f1_score(y_pt_test, y_pt_pred)))"
   ]
  },
  {
   "cell_type": "markdown",
   "id": "934169c1",
   "metadata": {},
   "source": [
    "### K Means"
   ]
  },
  {
   "cell_type": "markdown",
   "id": "2aadb7e4",
   "metadata": {},
   "source": [
    "#### 1. Dataset Breast Cancer"
   ]
  },
  {
   "cell_type": "code",
   "execution_count": 18,
   "id": "1a475b67",
   "metadata": {},
   "outputs": [
    {
     "data": {
      "text/plain": [
       "KMeans(n_clusters=2, random_state=42)"
      ]
     },
     "execution_count": 18,
     "metadata": {},
     "output_type": "execute_result"
    }
   ],
   "source": [
    "kmeans = KMeans(n_clusters=2, random_state=42)\n",
    "kmeans.fit(X_bc_train)"
   ]
  },
  {
   "cell_type": "code",
   "execution_count": 19,
   "id": "14dc9471",
   "metadata": {},
   "outputs": [],
   "source": [
    "# import seaborn as sns\n",
    "# X_copy = X_bc_train\n",
    "# X_copy['Labels'] = kmeans.labels_\n",
    "\n",
    "# # membuat plot KMeans dengan 5 klaster\n",
    "# plt.figure(figsize=(8,4))\n",
    "# sns.scatterplot(X_copy[''], X[''], hue=X_copy['Labels'],\n",
    "#                 palette=sns.color_palette('hls', 5))\n",
    "# plt.title('KMeans dengan 2 Cluster')\n",
    "# plt.show()"
   ]
  },
  {
   "cell_type": "code",
   "execution_count": 20,
   "id": "2c29bba5",
   "metadata": {},
   "outputs": [
    {
     "name": "stdout",
     "output_type": "stream",
     "text": [
      "Evaluasi hasil prediksi menggunakan metric Accuracy: 0.12280701754385964\n",
      "Evaluasi hasil prediksi menggunakan metric F1: 0.0\n"
     ]
    }
   ],
   "source": [
    "# Memprediksi hasil dari model\n",
    "y_bc_pred = kmeans.predict(X_bc_test)\n",
    "y_bc_pred\n",
    "\n",
    "# Mengevaluasi hasil prediksi\n",
    "# Menggunakan metric Accuracy\n",
    "print(\"Evaluasi hasil prediksi menggunakan metric Accuracy: {}\".format(accuracy_score(y_bc_test, y_bc_pred)))\n",
    "\n",
    "# Menggunakan metric F1\n",
    "print(\"Evaluasi hasil prediksi menggunakan metric F1: {}\".format(f1_score(y_bc_test, y_bc_pred)))"
   ]
  },
  {
   "cell_type": "markdown",
   "id": "1b58706f",
   "metadata": {},
   "source": [
    "#### 2. Dataset Play Tennis"
   ]
  },
  {
   "cell_type": "code",
   "execution_count": 21,
   "id": "2782da7c",
   "metadata": {},
   "outputs": [
    {
     "data": {
      "text/plain": [
       "KMeans(random_state=42)"
      ]
     },
     "execution_count": 21,
     "metadata": {},
     "output_type": "execute_result"
    }
   ],
   "source": [
    "tennis_k_means = KMeans(random_state=42)\n",
    "tennis_k_means.fit(X_pt_train)\n",
    "\n",
    "# res = export_text(tennis_k_means, feature_names=['Outlook', 'Temperature', 'Humidity', 'Wind'])\n",
    "# print(res)"
   ]
  },
  {
   "cell_type": "code",
   "execution_count": 22,
   "id": "e3f1cd33",
   "metadata": {},
   "outputs": [],
   "source": [
    "# # Memprediksi hasil dari model\n",
    "# y_pt_pred = tennis_k_means.predict(X_pt_test)\n",
    "\n",
    "# # Mengevaluasi hasil prediksi\n",
    "# # Menggunakan metric Accuracy\n",
    "# print(\"Evaluasi hasil prediksi menggunakan metric Accuracy: {}\".format(accuracy_score(y_pt_test, y_pt_pred)))\n",
    "\n",
    "# # Menggunakan metric F1\n",
    "# print(\"Evaluasi hasil prediksi menggunakan metric F1: {}\".format(f1_score(y_pt_test, y_pt_pred)))"
   ]
  },
  {
   "cell_type": "markdown",
   "id": "63e581e7",
   "metadata": {},
   "source": [
    "### LogisticRegression"
   ]
  },
  {
   "cell_type": "markdown",
   "id": "1adf85c6",
   "metadata": {},
   "source": [
    "#### 1. Dataset Breast Cancer"
   ]
  },
  {
   "cell_type": "code",
   "execution_count": 23,
   "id": "7420ea62",
   "metadata": {},
   "outputs": [
    {
     "data": {
      "text/plain": [
       "LogisticRegression(max_iter=10000, random_state=42)"
      ]
     },
     "execution_count": 23,
     "metadata": {},
     "output_type": "execute_result"
    }
   ],
   "source": [
    "bc_log_regression = LogisticRegression(random_state=42, max_iter=10000)\n",
    "bc_log_regression.fit(X_bc_train, y_bc_train)"
   ]
  },
  {
   "cell_type": "code",
   "execution_count": 24,
   "id": "77c462da",
   "metadata": {},
   "outputs": [
    {
     "name": "stdout",
     "output_type": "stream",
     "text": [
      "Evaluasi hasil prediksi menggunakan metric Accuracy: 0.956140350877193\n",
      "Evaluasi hasil prediksi menggunakan metric F1: 0.9655172413793103\n"
     ]
    }
   ],
   "source": [
    "# Memprediksi hasil dari model\n",
    "y_bc_pred = bc_log_regression.predict(X_bc_test)\n",
    "\n",
    "# Mengevaluasi hasil prediksi\n",
    "# Menggunakan metric Accuracy\n",
    "print(\"Evaluasi hasil prediksi menggunakan metric Accuracy: {}\".format(accuracy_score(y_bc_test, y_bc_pred)))\n",
    "\n",
    "# Menggunakan metric F1\n",
    "print(\"Evaluasi hasil prediksi menggunakan metric F1: {}\".format(f1_score(y_bc_test, y_bc_pred)))"
   ]
  },
  {
   "cell_type": "markdown",
   "id": "1e5f3a4c",
   "metadata": {},
   "source": [
    "#### 2. Dataset Play Tennis"
   ]
  },
  {
   "cell_type": "code",
   "execution_count": 25,
   "id": "01408f88",
   "metadata": {},
   "outputs": [
    {
     "data": {
      "text/plain": [
       "LogisticRegression(max_iter=10000, random_state=42)"
      ]
     },
     "execution_count": 25,
     "metadata": {},
     "output_type": "execute_result"
    }
   ],
   "source": [
    "clf = LogisticRegression(random_state=42, max_iter=10000)\n",
    "clf.fit(X_pt_train, y_pt_train)"
   ]
  },
  {
   "cell_type": "code",
   "execution_count": 26,
   "id": "8c7365e5",
   "metadata": {},
   "outputs": [
    {
     "name": "stdout",
     "output_type": "stream",
     "text": [
      "Evaluasi hasil prediksi menggunakan metric Accuracy: 0.6666666666666666\n",
      "Evaluasi hasil prediksi menggunakan metric F1: 0.8\n"
     ]
    }
   ],
   "source": [
    "# Memprediksi hasil dari model\n",
    "y_pt_pred = clf.predict(X_pt_test)\n",
    "\n",
    "# Mengevaluasi hasil prediksi\n",
    "# Menggunakan metric Accuracy\n",
    "print(\"Evaluasi hasil prediksi menggunakan metric Accuracy: {}\".format(accuracy_score(y_pt_test, y_pt_pred)))\n",
    "\n",
    "# Menggunakan metric F1\n",
    "print(\"Evaluasi hasil prediksi menggunakan metric F1: {}\".format(f1_score(y_pt_test, y_pt_pred)))"
   ]
  },
  {
   "cell_type": "markdown",
   "id": "a8dd5510",
   "metadata": {},
   "source": [
    "### Neural Network"
   ]
  },
  {
   "cell_type": "markdown",
   "id": "3b9b240c",
   "metadata": {},
   "source": [
    "#### 1. Dataset Breast Cancer"
   ]
  },
  {
   "cell_type": "code",
   "execution_count": 27,
   "id": "726c7fed",
   "metadata": {},
   "outputs": [
    {
     "data": {
      "text/plain": [
       "MLPClassifier(random_state=42)"
      ]
     },
     "execution_count": 27,
     "metadata": {},
     "output_type": "execute_result"
    }
   ],
   "source": [
    "bc_neural_network = MLPClassifier(random_state=42)\n",
    "bc_neural_network.fit(X_bc_train, y_bc_train)"
   ]
  },
  {
   "cell_type": "code",
   "execution_count": 28,
   "id": "15f89e2e",
   "metadata": {},
   "outputs": [
    {
     "name": "stdout",
     "output_type": "stream",
     "text": [
      "Evaluasi hasil prediksi menggunakan metric Accuracy: 0.9385964912280702\n",
      "Evaluasi hasil prediksi menggunakan metric F1: 0.953020134228188\n"
     ]
    }
   ],
   "source": [
    "y_bc_pred = bc_neural_network.predict(X_bc_test)\n",
    "\n",
    "# Mengevaluasi hasil prediksi\n",
    "# Menggunakan metric Accuracy\n",
    "print(\"Evaluasi hasil prediksi menggunakan metric Accuracy: {}\".format(accuracy_score(y_bc_test, y_bc_pred)))\n",
    "\n",
    "# Menggunakan metric F1\n",
    "print(\"Evaluasi hasil prediksi menggunakan metric F1: {}\".format(f1_score(y_bc_test, y_bc_pred)))"
   ]
  },
  {
   "cell_type": "markdown",
   "id": "e88c0153",
   "metadata": {},
   "source": [
    "#### 2. Dataset Play Tennis"
   ]
  },
  {
   "cell_type": "code",
   "execution_count": 29,
   "id": "327b98ce",
   "metadata": {},
   "outputs": [
    {
     "data": {
      "text/plain": [
       "MLPClassifier(max_iter=1000, random_state=42)"
      ]
     },
     "execution_count": 29,
     "metadata": {},
     "output_type": "execute_result"
    }
   ],
   "source": [
    "clf = MLPClassifier(random_state=42, max_iter=1000)\n",
    "clf.fit(X_pt_train, y_pt_train)"
   ]
  },
  {
   "cell_type": "code",
   "execution_count": 30,
   "id": "7f24de29",
   "metadata": {},
   "outputs": [
    {
     "name": "stdout",
     "output_type": "stream",
     "text": [
      "Evaluasi hasil prediksi menggunakan metric Accuracy: 1.0\n",
      "Evaluasi hasil prediksi menggunakan metric F1: 1.0\n"
     ]
    }
   ],
   "source": [
    "# Memprediksi hasil dari model\n",
    "y_pt_pred = clf.predict(X_pt_test)\n",
    "\n",
    "# Mengevaluasi hasil prediksi\n",
    "# Menggunakan metric Accuracy\n",
    "print(\"Evaluasi hasil prediksi menggunakan metric Accuracy: {}\".format(accuracy_score(y_pt_test, y_pt_pred)))\n",
    "\n",
    "# Menggunakan metric F1\n",
    "print(\"Evaluasi hasil prediksi menggunakan metric F1: {}\".format(f1_score(y_pt_test, y_pt_pred)))"
   ]
  },
  {
   "cell_type": "markdown",
   "id": "a7ef2ca6",
   "metadata": {},
   "source": [
    "### SVM"
   ]
  },
  {
   "cell_type": "markdown",
   "id": "9eaac185",
   "metadata": {},
   "source": [
    "#### 1. Dataset Breast Cancer"
   ]
  },
  {
   "cell_type": "code",
   "execution_count": 31,
   "id": "5d78ca20",
   "metadata": {},
   "outputs": [
    {
     "data": {
      "text/plain": [
       "Pipeline(steps=[('standardscaler', StandardScaler()),\n",
       "                ('svc', SVC(gamma='auto'))])"
      ]
     },
     "execution_count": 31,
     "metadata": {},
     "output_type": "execute_result"
    }
   ],
   "source": [
    "bc_clf = make_pipeline(StandardScaler(), SVC(gamma='auto'))\n",
    "bc_clf.fit(X_bc_train, y_bc_train)"
   ]
  },
  {
   "cell_type": "code",
   "execution_count": 32,
   "id": "64abfdb3",
   "metadata": {},
   "outputs": [
    {
     "name": "stdout",
     "output_type": "stream",
     "text": [
      "Evaluasi hasil prediksi menggunakan metric Accuracy: 0.9824561403508771\n",
      "Evaluasi hasil prediksi menggunakan metric F1: 0.9861111111111112\n"
     ]
    }
   ],
   "source": [
    "y_bc_pred = bc_clf.predict(X_bc_test)\n",
    "\n",
    "# Mengevaluasi hasil prediksi\n",
    "# Menggunakan metric Accuracy\n",
    "print(\"Evaluasi hasil prediksi menggunakan metric Accuracy: {}\".format(accuracy_score(y_bc_test, y_bc_pred)))\n",
    "\n",
    "# Menggunakan metric F1\n",
    "print(\"Evaluasi hasil prediksi menggunakan metric F1: {}\".format(f1_score(y_bc_test, y_bc_pred)))"
   ]
  },
  {
   "cell_type": "markdown",
   "id": "0a8c87d6",
   "metadata": {},
   "source": [
    "#### 2. Dataset Play Tennis"
   ]
  },
  {
   "cell_type": "code",
   "execution_count": 33,
   "id": "eb3f5250",
   "metadata": {},
   "outputs": [
    {
     "data": {
      "text/plain": [
       "SVC(random_state=42)"
      ]
     },
     "execution_count": 33,
     "metadata": {},
     "output_type": "execute_result"
    }
   ],
   "source": [
    "svc = SVC(random_state=42)\n",
    "svc.fit(X_pt_train, y_pt_train)"
   ]
  },
  {
   "cell_type": "code",
   "execution_count": 34,
   "id": "66fc2688",
   "metadata": {},
   "outputs": [
    {
     "name": "stdout",
     "output_type": "stream",
     "text": [
      "Evaluasi hasil prediksi menggunakan metric Accuracy: 0.6666666666666666\n",
      "Evaluasi hasil prediksi menggunakan metric F1: 0.8\n"
     ]
    }
   ],
   "source": [
    "# Memprediksi hasil dari model\n",
    "y_pt_pred = svc.predict(X_pt_test)\n",
    "\n",
    "# Mengevaluasi hasil prediksi\n",
    "# Menggunakan metric Accuracy\n",
    "print(\"Evaluasi hasil prediksi menggunakan metric Accuracy: {}\".format(accuracy_score(y_pt_test, y_pt_pred)))\n",
    "\n",
    "# Menggunakan metric F1\n",
    "print(\"Evaluasi hasil prediksi menggunakan metric F1: {}\".format(f1_score(y_pt_test, y_pt_pred)))"
   ]
  },
  {
   "cell_type": "markdown",
   "id": "7a3b1b10",
   "metadata": {},
   "source": [
    "Made by: \n",
    "- 13519107 Daffa Ananda \n",
    "(4,5,6 breast cancer dataset & 1,2,3 play tennis dataset)\n",
    "- 13519113 Raihan Astrada Fathurrahman (1,2,3 breast cancer dataset  & 4,5,6 play tennis dataset)"
   ]
  }
 ],
 "metadata": {
  "kernelspec": {
   "display_name": "Python 3 (ipykernel)",
   "language": "python",
   "name": "python3"
  },
  "language_info": {
   "codemirror_mode": {
    "name": "ipython",
    "version": 3
   },
   "file_extension": ".py",
   "mimetype": "text/x-python",
   "name": "python",
   "nbconvert_exporter": "python",
   "pygments_lexer": "ipython3",
   "version": "3.9.7"
  }
 },
 "nbformat": 4,
 "nbformat_minor": 5
}
