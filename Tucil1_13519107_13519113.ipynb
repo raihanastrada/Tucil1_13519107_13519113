{
  "cells": [
    {
      "cell_type": "markdown",
      "id": "bda0e08d",
      "metadata": {
        "id": "bda0e08d"
      },
      "source": [
        "# Tugas Kecil 1\n",
        "## Eksplorasi library Decision Tree Learning pada Jupyter Notebook"
      ]
    },
    {
      "cell_type": "code",
      "execution_count": 3,
      "id": "800c450e",
      "metadata": {
        "id": "800c450e"
      },
      "outputs": [],
      "source": [
        "import pandas as pd\n",
        "import numpy as np\n",
        "import matplotlib.pyplot as plt\n",
        "\n",
        "# Modul six untuk Id3Estimator\n",
        "import six, sys\n",
        "sys.modules['sklearn.externals.six'] = six\n",
        "\n",
        "# Modul-modul pengolahan data\n",
        "from sklearn.datasets import load_breast_cancer\n",
        "from sklearn.model_selection import train_test_split\n",
        "from sklearn.preprocessing import LabelEncoder, StandardScaler\n",
        "from sklearn.pipeline import make_pipeline\n",
        "\n",
        "# Modul model algoritma machine learning\n",
        "from sklearn.tree import DecisionTreeClassifier, export_text, export_graphviz\n",
        "from id3 import Id3Estimator\n",
        "from sklearn.cluster import KMeans\n",
        "from sklearn.linear_model import LogisticRegression\n",
        "from sklearn.neural_network import MLPClassifier\n",
        "from sklearn.svm import SVC\n",
        "import graphviz\n",
        "\n",
        "# Modul pengecekan akurasi\n",
        "from sklearn.metrics import accuracy_score, f1_score"
      ]
    },
    {
      "cell_type": "markdown",
      "id": "b294d4c1",
      "metadata": {
        "id": "b294d4c1"
      },
      "source": [
        "### Load dataset"
      ]
    },
    {
      "cell_type": "code",
      "execution_count": 4,
      "id": "a1ad8ddf",
      "metadata": {
        "colab": {
          "base_uri": "https://localhost:8080/",
          "height": 305
        },
        "id": "a1ad8ddf",
        "outputId": "3cd3fa35-2114-4b8a-c65e-2531fad3d51f"
      },
      "outputs": [
        {
          "output_type": "execute_result",
          "data": {
            "text/html": [
              "\n",
              "  <div id=\"df-065c1fd4-7a5e-4f4c-8170-5214b9131f76\">\n",
              "    <div class=\"colab-df-container\">\n",
              "      <div>\n",
              "<style scoped>\n",
              "    .dataframe tbody tr th:only-of-type {\n",
              "        vertical-align: middle;\n",
              "    }\n",
              "\n",
              "    .dataframe tbody tr th {\n",
              "        vertical-align: top;\n",
              "    }\n",
              "\n",
              "    .dataframe thead th {\n",
              "        text-align: right;\n",
              "    }\n",
              "</style>\n",
              "<table border=\"1\" class=\"dataframe\">\n",
              "  <thead>\n",
              "    <tr style=\"text-align: right;\">\n",
              "      <th></th>\n",
              "      <th>mean radius</th>\n",
              "      <th>mean texture</th>\n",
              "      <th>mean perimeter</th>\n",
              "      <th>mean area</th>\n",
              "      <th>mean smoothness</th>\n",
              "      <th>mean compactness</th>\n",
              "      <th>mean concavity</th>\n",
              "      <th>mean concave points</th>\n",
              "      <th>mean symmetry</th>\n",
              "      <th>mean fractal dimension</th>\n",
              "      <th>radius error</th>\n",
              "      <th>texture error</th>\n",
              "      <th>perimeter error</th>\n",
              "      <th>area error</th>\n",
              "      <th>smoothness error</th>\n",
              "      <th>compactness error</th>\n",
              "      <th>concavity error</th>\n",
              "      <th>concave points error</th>\n",
              "      <th>symmetry error</th>\n",
              "      <th>fractal dimension error</th>\n",
              "      <th>worst radius</th>\n",
              "      <th>worst texture</th>\n",
              "      <th>worst perimeter</th>\n",
              "      <th>worst area</th>\n",
              "      <th>worst smoothness</th>\n",
              "      <th>worst compactness</th>\n",
              "      <th>worst concavity</th>\n",
              "      <th>worst concave points</th>\n",
              "      <th>worst symmetry</th>\n",
              "      <th>worst fractal dimension</th>\n",
              "      <th>target</th>\n",
              "    </tr>\n",
              "  </thead>\n",
              "  <tbody>\n",
              "    <tr>\n",
              "      <th>0</th>\n",
              "      <td>17.99</td>\n",
              "      <td>10.38</td>\n",
              "      <td>122.80</td>\n",
              "      <td>1001.0</td>\n",
              "      <td>0.11840</td>\n",
              "      <td>0.27760</td>\n",
              "      <td>0.3001</td>\n",
              "      <td>0.14710</td>\n",
              "      <td>0.2419</td>\n",
              "      <td>0.07871</td>\n",
              "      <td>1.0950</td>\n",
              "      <td>0.9053</td>\n",
              "      <td>8.589</td>\n",
              "      <td>153.40</td>\n",
              "      <td>0.006399</td>\n",
              "      <td>0.04904</td>\n",
              "      <td>0.05373</td>\n",
              "      <td>0.01587</td>\n",
              "      <td>0.03003</td>\n",
              "      <td>0.006193</td>\n",
              "      <td>25.38</td>\n",
              "      <td>17.33</td>\n",
              "      <td>184.60</td>\n",
              "      <td>2019.0</td>\n",
              "      <td>0.1622</td>\n",
              "      <td>0.6656</td>\n",
              "      <td>0.7119</td>\n",
              "      <td>0.2654</td>\n",
              "      <td>0.4601</td>\n",
              "      <td>0.11890</td>\n",
              "      <td>0</td>\n",
              "    </tr>\n",
              "    <tr>\n",
              "      <th>1</th>\n",
              "      <td>20.57</td>\n",
              "      <td>17.77</td>\n",
              "      <td>132.90</td>\n",
              "      <td>1326.0</td>\n",
              "      <td>0.08474</td>\n",
              "      <td>0.07864</td>\n",
              "      <td>0.0869</td>\n",
              "      <td>0.07017</td>\n",
              "      <td>0.1812</td>\n",
              "      <td>0.05667</td>\n",
              "      <td>0.5435</td>\n",
              "      <td>0.7339</td>\n",
              "      <td>3.398</td>\n",
              "      <td>74.08</td>\n",
              "      <td>0.005225</td>\n",
              "      <td>0.01308</td>\n",
              "      <td>0.01860</td>\n",
              "      <td>0.01340</td>\n",
              "      <td>0.01389</td>\n",
              "      <td>0.003532</td>\n",
              "      <td>24.99</td>\n",
              "      <td>23.41</td>\n",
              "      <td>158.80</td>\n",
              "      <td>1956.0</td>\n",
              "      <td>0.1238</td>\n",
              "      <td>0.1866</td>\n",
              "      <td>0.2416</td>\n",
              "      <td>0.1860</td>\n",
              "      <td>0.2750</td>\n",
              "      <td>0.08902</td>\n",
              "      <td>0</td>\n",
              "    </tr>\n",
              "    <tr>\n",
              "      <th>2</th>\n",
              "      <td>19.69</td>\n",
              "      <td>21.25</td>\n",
              "      <td>130.00</td>\n",
              "      <td>1203.0</td>\n",
              "      <td>0.10960</td>\n",
              "      <td>0.15990</td>\n",
              "      <td>0.1974</td>\n",
              "      <td>0.12790</td>\n",
              "      <td>0.2069</td>\n",
              "      <td>0.05999</td>\n",
              "      <td>0.7456</td>\n",
              "      <td>0.7869</td>\n",
              "      <td>4.585</td>\n",
              "      <td>94.03</td>\n",
              "      <td>0.006150</td>\n",
              "      <td>0.04006</td>\n",
              "      <td>0.03832</td>\n",
              "      <td>0.02058</td>\n",
              "      <td>0.02250</td>\n",
              "      <td>0.004571</td>\n",
              "      <td>23.57</td>\n",
              "      <td>25.53</td>\n",
              "      <td>152.50</td>\n",
              "      <td>1709.0</td>\n",
              "      <td>0.1444</td>\n",
              "      <td>0.4245</td>\n",
              "      <td>0.4504</td>\n",
              "      <td>0.2430</td>\n",
              "      <td>0.3613</td>\n",
              "      <td>0.08758</td>\n",
              "      <td>0</td>\n",
              "    </tr>\n",
              "    <tr>\n",
              "      <th>3</th>\n",
              "      <td>11.42</td>\n",
              "      <td>20.38</td>\n",
              "      <td>77.58</td>\n",
              "      <td>386.1</td>\n",
              "      <td>0.14250</td>\n",
              "      <td>0.28390</td>\n",
              "      <td>0.2414</td>\n",
              "      <td>0.10520</td>\n",
              "      <td>0.2597</td>\n",
              "      <td>0.09744</td>\n",
              "      <td>0.4956</td>\n",
              "      <td>1.1560</td>\n",
              "      <td>3.445</td>\n",
              "      <td>27.23</td>\n",
              "      <td>0.009110</td>\n",
              "      <td>0.07458</td>\n",
              "      <td>0.05661</td>\n",
              "      <td>0.01867</td>\n",
              "      <td>0.05963</td>\n",
              "      <td>0.009208</td>\n",
              "      <td>14.91</td>\n",
              "      <td>26.50</td>\n",
              "      <td>98.87</td>\n",
              "      <td>567.7</td>\n",
              "      <td>0.2098</td>\n",
              "      <td>0.8663</td>\n",
              "      <td>0.6869</td>\n",
              "      <td>0.2575</td>\n",
              "      <td>0.6638</td>\n",
              "      <td>0.17300</td>\n",
              "      <td>0</td>\n",
              "    </tr>\n",
              "    <tr>\n",
              "      <th>4</th>\n",
              "      <td>20.29</td>\n",
              "      <td>14.34</td>\n",
              "      <td>135.10</td>\n",
              "      <td>1297.0</td>\n",
              "      <td>0.10030</td>\n",
              "      <td>0.13280</td>\n",
              "      <td>0.1980</td>\n",
              "      <td>0.10430</td>\n",
              "      <td>0.1809</td>\n",
              "      <td>0.05883</td>\n",
              "      <td>0.7572</td>\n",
              "      <td>0.7813</td>\n",
              "      <td>5.438</td>\n",
              "      <td>94.44</td>\n",
              "      <td>0.011490</td>\n",
              "      <td>0.02461</td>\n",
              "      <td>0.05688</td>\n",
              "      <td>0.01885</td>\n",
              "      <td>0.01756</td>\n",
              "      <td>0.005115</td>\n",
              "      <td>22.54</td>\n",
              "      <td>16.67</td>\n",
              "      <td>152.20</td>\n",
              "      <td>1575.0</td>\n",
              "      <td>0.1374</td>\n",
              "      <td>0.2050</td>\n",
              "      <td>0.4000</td>\n",
              "      <td>0.1625</td>\n",
              "      <td>0.2364</td>\n",
              "      <td>0.07678</td>\n",
              "      <td>0</td>\n",
              "    </tr>\n",
              "  </tbody>\n",
              "</table>\n",
              "</div>\n",
              "      <button class=\"colab-df-convert\" onclick=\"convertToInteractive('df-065c1fd4-7a5e-4f4c-8170-5214b9131f76')\"\n",
              "              title=\"Convert this dataframe to an interactive table.\"\n",
              "              style=\"display:none;\">\n",
              "        \n",
              "  <svg xmlns=\"http://www.w3.org/2000/svg\" height=\"24px\"viewBox=\"0 0 24 24\"\n",
              "       width=\"24px\">\n",
              "    <path d=\"M0 0h24v24H0V0z\" fill=\"none\"/>\n",
              "    <path d=\"M18.56 5.44l.94 2.06.94-2.06 2.06-.94-2.06-.94-.94-2.06-.94 2.06-2.06.94zm-11 1L8.5 8.5l.94-2.06 2.06-.94-2.06-.94L8.5 2.5l-.94 2.06-2.06.94zm10 10l.94 2.06.94-2.06 2.06-.94-2.06-.94-.94-2.06-.94 2.06-2.06.94z\"/><path d=\"M17.41 7.96l-1.37-1.37c-.4-.4-.92-.59-1.43-.59-.52 0-1.04.2-1.43.59L10.3 9.45l-7.72 7.72c-.78.78-.78 2.05 0 2.83L4 21.41c.39.39.9.59 1.41.59.51 0 1.02-.2 1.41-.59l7.78-7.78 2.81-2.81c.8-.78.8-2.07 0-2.86zM5.41 20L4 18.59l7.72-7.72 1.47 1.35L5.41 20z\"/>\n",
              "  </svg>\n",
              "      </button>\n",
              "      \n",
              "  <style>\n",
              "    .colab-df-container {\n",
              "      display:flex;\n",
              "      flex-wrap:wrap;\n",
              "      gap: 12px;\n",
              "    }\n",
              "\n",
              "    .colab-df-convert {\n",
              "      background-color: #E8F0FE;\n",
              "      border: none;\n",
              "      border-radius: 50%;\n",
              "      cursor: pointer;\n",
              "      display: none;\n",
              "      fill: #1967D2;\n",
              "      height: 32px;\n",
              "      padding: 0 0 0 0;\n",
              "      width: 32px;\n",
              "    }\n",
              "\n",
              "    .colab-df-convert:hover {\n",
              "      background-color: #E2EBFA;\n",
              "      box-shadow: 0px 1px 2px rgba(60, 64, 67, 0.3), 0px 1px 3px 1px rgba(60, 64, 67, 0.15);\n",
              "      fill: #174EA6;\n",
              "    }\n",
              "\n",
              "    [theme=dark] .colab-df-convert {\n",
              "      background-color: #3B4455;\n",
              "      fill: #D2E3FC;\n",
              "    }\n",
              "\n",
              "    [theme=dark] .colab-df-convert:hover {\n",
              "      background-color: #434B5C;\n",
              "      box-shadow: 0px 1px 3px 1px rgba(0, 0, 0, 0.15);\n",
              "      filter: drop-shadow(0px 1px 2px rgba(0, 0, 0, 0.3));\n",
              "      fill: #FFFFFF;\n",
              "    }\n",
              "  </style>\n",
              "\n",
              "      <script>\n",
              "        const buttonEl =\n",
              "          document.querySelector('#df-065c1fd4-7a5e-4f4c-8170-5214b9131f76 button.colab-df-convert');\n",
              "        buttonEl.style.display =\n",
              "          google.colab.kernel.accessAllowed ? 'block' : 'none';\n",
              "\n",
              "        async function convertToInteractive(key) {\n",
              "          const element = document.querySelector('#df-065c1fd4-7a5e-4f4c-8170-5214b9131f76');\n",
              "          const dataTable =\n",
              "            await google.colab.kernel.invokeFunction('convertToInteractive',\n",
              "                                                     [key], {});\n",
              "          if (!dataTable) return;\n",
              "\n",
              "          const docLinkHtml = 'Like what you see? Visit the ' +\n",
              "            '<a target=\"_blank\" href=https://colab.research.google.com/notebooks/data_table.ipynb>data table notebook</a>'\n",
              "            + ' to learn more about interactive tables.';\n",
              "          element.innerHTML = '';\n",
              "          dataTable['output_type'] = 'display_data';\n",
              "          await google.colab.output.renderOutput(dataTable, element);\n",
              "          const docLink = document.createElement('div');\n",
              "          docLink.innerHTML = docLinkHtml;\n",
              "          element.appendChild(docLink);\n",
              "        }\n",
              "      </script>\n",
              "    </div>\n",
              "  </div>\n",
              "  "
            ],
            "text/plain": [
              "   mean radius  mean texture  ...  worst fractal dimension  target\n",
              "0        17.99         10.38  ...                  0.11890       0\n",
              "1        20.57         17.77  ...                  0.08902       0\n",
              "2        19.69         21.25  ...                  0.08758       0\n",
              "3        11.42         20.38  ...                  0.17300       0\n",
              "4        20.29         14.34  ...                  0.07678       0\n",
              "\n",
              "[5 rows x 31 columns]"
            ]
          },
          "metadata": {},
          "execution_count": 4
        }
      ],
      "source": [
        "# Dataset breast cancer\n",
        "breast_cancer = load_breast_cancer()\n",
        "df_breast_cancer = pd.DataFrame(breast_cancer.data, \n",
        "                                columns=breast_cancer.feature_names)\n",
        "df_breast_cancer['target'] = breast_cancer.target\n",
        "\n",
        "df_breast_cancer.head()"
      ]
    },
    {
      "cell_type": "code",
      "execution_count": 5,
      "id": "4ef69ab2",
      "metadata": {
        "colab": {
          "base_uri": "https://localhost:8080/",
          "height": 206
        },
        "id": "4ef69ab2",
        "outputId": "93068aee-413f-4ab9-fe3d-c6c6329bfb84"
      },
      "outputs": [
        {
          "output_type": "execute_result",
          "data": {
            "text/html": [
              "\n",
              "  <div id=\"df-dad32657-76ac-41be-806f-7bd38e864ccd\">\n",
              "    <div class=\"colab-df-container\">\n",
              "      <div>\n",
              "<style scoped>\n",
              "    .dataframe tbody tr th:only-of-type {\n",
              "        vertical-align: middle;\n",
              "    }\n",
              "\n",
              "    .dataframe tbody tr th {\n",
              "        vertical-align: top;\n",
              "    }\n",
              "\n",
              "    .dataframe thead th {\n",
              "        text-align: right;\n",
              "    }\n",
              "</style>\n",
              "<table border=\"1\" class=\"dataframe\">\n",
              "  <thead>\n",
              "    <tr style=\"text-align: right;\">\n",
              "      <th></th>\n",
              "      <th>Outlook</th>\n",
              "      <th>Temperature</th>\n",
              "      <th>Humidity</th>\n",
              "      <th>Wind</th>\n",
              "      <th>Play Tennis</th>\n",
              "    </tr>\n",
              "  </thead>\n",
              "  <tbody>\n",
              "    <tr>\n",
              "      <th>0</th>\n",
              "      <td>2</td>\n",
              "      <td>1</td>\n",
              "      <td>0</td>\n",
              "      <td>1</td>\n",
              "      <td>0</td>\n",
              "    </tr>\n",
              "    <tr>\n",
              "      <th>1</th>\n",
              "      <td>2</td>\n",
              "      <td>1</td>\n",
              "      <td>0</td>\n",
              "      <td>0</td>\n",
              "      <td>0</td>\n",
              "    </tr>\n",
              "    <tr>\n",
              "      <th>2</th>\n",
              "      <td>0</td>\n",
              "      <td>1</td>\n",
              "      <td>0</td>\n",
              "      <td>1</td>\n",
              "      <td>1</td>\n",
              "    </tr>\n",
              "    <tr>\n",
              "      <th>3</th>\n",
              "      <td>1</td>\n",
              "      <td>2</td>\n",
              "      <td>0</td>\n",
              "      <td>1</td>\n",
              "      <td>1</td>\n",
              "    </tr>\n",
              "    <tr>\n",
              "      <th>4</th>\n",
              "      <td>1</td>\n",
              "      <td>0</td>\n",
              "      <td>1</td>\n",
              "      <td>1</td>\n",
              "      <td>1</td>\n",
              "    </tr>\n",
              "  </tbody>\n",
              "</table>\n",
              "</div>\n",
              "      <button class=\"colab-df-convert\" onclick=\"convertToInteractive('df-dad32657-76ac-41be-806f-7bd38e864ccd')\"\n",
              "              title=\"Convert this dataframe to an interactive table.\"\n",
              "              style=\"display:none;\">\n",
              "        \n",
              "  <svg xmlns=\"http://www.w3.org/2000/svg\" height=\"24px\"viewBox=\"0 0 24 24\"\n",
              "       width=\"24px\">\n",
              "    <path d=\"M0 0h24v24H0V0z\" fill=\"none\"/>\n",
              "    <path d=\"M18.56 5.44l.94 2.06.94-2.06 2.06-.94-2.06-.94-.94-2.06-.94 2.06-2.06.94zm-11 1L8.5 8.5l.94-2.06 2.06-.94-2.06-.94L8.5 2.5l-.94 2.06-2.06.94zm10 10l.94 2.06.94-2.06 2.06-.94-2.06-.94-.94-2.06-.94 2.06-2.06.94z\"/><path d=\"M17.41 7.96l-1.37-1.37c-.4-.4-.92-.59-1.43-.59-.52 0-1.04.2-1.43.59L10.3 9.45l-7.72 7.72c-.78.78-.78 2.05 0 2.83L4 21.41c.39.39.9.59 1.41.59.51 0 1.02-.2 1.41-.59l7.78-7.78 2.81-2.81c.8-.78.8-2.07 0-2.86zM5.41 20L4 18.59l7.72-7.72 1.47 1.35L5.41 20z\"/>\n",
              "  </svg>\n",
              "      </button>\n",
              "      \n",
              "  <style>\n",
              "    .colab-df-container {\n",
              "      display:flex;\n",
              "      flex-wrap:wrap;\n",
              "      gap: 12px;\n",
              "    }\n",
              "\n",
              "    .colab-df-convert {\n",
              "      background-color: #E8F0FE;\n",
              "      border: none;\n",
              "      border-radius: 50%;\n",
              "      cursor: pointer;\n",
              "      display: none;\n",
              "      fill: #1967D2;\n",
              "      height: 32px;\n",
              "      padding: 0 0 0 0;\n",
              "      width: 32px;\n",
              "    }\n",
              "\n",
              "    .colab-df-convert:hover {\n",
              "      background-color: #E2EBFA;\n",
              "      box-shadow: 0px 1px 2px rgba(60, 64, 67, 0.3), 0px 1px 3px 1px rgba(60, 64, 67, 0.15);\n",
              "      fill: #174EA6;\n",
              "    }\n",
              "\n",
              "    [theme=dark] .colab-df-convert {\n",
              "      background-color: #3B4455;\n",
              "      fill: #D2E3FC;\n",
              "    }\n",
              "\n",
              "    [theme=dark] .colab-df-convert:hover {\n",
              "      background-color: #434B5C;\n",
              "      box-shadow: 0px 1px 3px 1px rgba(0, 0, 0, 0.15);\n",
              "      filter: drop-shadow(0px 1px 2px rgba(0, 0, 0, 0.3));\n",
              "      fill: #FFFFFF;\n",
              "    }\n",
              "  </style>\n",
              "\n",
              "      <script>\n",
              "        const buttonEl =\n",
              "          document.querySelector('#df-dad32657-76ac-41be-806f-7bd38e864ccd button.colab-df-convert');\n",
              "        buttonEl.style.display =\n",
              "          google.colab.kernel.accessAllowed ? 'block' : 'none';\n",
              "\n",
              "        async function convertToInteractive(key) {\n",
              "          const element = document.querySelector('#df-dad32657-76ac-41be-806f-7bd38e864ccd');\n",
              "          const dataTable =\n",
              "            await google.colab.kernel.invokeFunction('convertToInteractive',\n",
              "                                                     [key], {});\n",
              "          if (!dataTable) return;\n",
              "\n",
              "          const docLinkHtml = 'Like what you see? Visit the ' +\n",
              "            '<a target=\"_blank\" href=https://colab.research.google.com/notebooks/data_table.ipynb>data table notebook</a>'\n",
              "            + ' to learn more about interactive tables.';\n",
              "          element.innerHTML = '';\n",
              "          dataTable['output_type'] = 'display_data';\n",
              "          await google.colab.output.renderOutput(dataTable, element);\n",
              "          const docLink = document.createElement('div');\n",
              "          docLink.innerHTML = docLinkHtml;\n",
              "          element.appendChild(docLink);\n",
              "        }\n",
              "      </script>\n",
              "    </div>\n",
              "  </div>\n",
              "  "
            ],
            "text/plain": [
              "   Outlook  Temperature  Humidity  Wind  Play Tennis\n",
              "0        2            1         0     1            0\n",
              "1        2            1         0     0            0\n",
              "2        0            1         0     1            1\n",
              "3        1            2         0     1            1\n",
              "4        1            0         1     1            1"
            ]
          },
          "metadata": {},
          "execution_count": 5
        }
      ],
      "source": [
        "# Dataset play tennis\n",
        "df_play_tennis = pd.read_csv('/content/drive/MyDrive/PlayTennis.csv')\n",
        "\n",
        "# Melakukan encoding pada data-data kategorial\n",
        "le = LabelEncoder()\n",
        "\n",
        "df_play_tennis['Outlook'] = le.fit_transform(df_play_tennis['Outlook'])\n",
        "df_play_tennis['Temperature'] = le.fit_transform(df_play_tennis['Temperature'])\n",
        "df_play_tennis['Humidity'] = le.fit_transform(df_play_tennis['Humidity'])\n",
        "df_play_tennis['Wind'] = le.fit_transform(df_play_tennis['Wind'])\n",
        "df_play_tennis['Play Tennis'] = le.fit_transform(df_play_tennis['Play Tennis'])\n",
        "\n",
        "df_play_tennis.head()"
      ]
    },
    {
      "cell_type": "code",
      "execution_count": 6,
      "id": "e3897155",
      "metadata": {
        "id": "e3897155"
      },
      "outputs": [],
      "source": [
        "X_breast_cancer = df_breast_cancer[breast_cancer.feature_names]\n",
        "y_breast_cancer = df_breast_cancer['target']"
      ]
    },
    {
      "cell_type": "code",
      "execution_count": 7,
      "id": "200ab02a",
      "metadata": {
        "id": "200ab02a"
      },
      "outputs": [],
      "source": [
        "X_bc_train, X_bc_test, y_bc_train, y_bc_test = train_test_split(\n",
        "    X_breast_cancer, y_breast_cancer, test_size=0.2, random_state=42)"
      ]
    },
    {
      "cell_type": "code",
      "execution_count": 8,
      "id": "4a1b4da1",
      "metadata": {
        "id": "4a1b4da1"
      },
      "outputs": [],
      "source": [
        "X_play_tennis = df_play_tennis[['Outlook', 'Temperature', 'Humidity', 'Wind']]\n",
        "y_play_tennis = df_play_tennis['Play Tennis']"
      ]
    },
    {
      "cell_type": "code",
      "execution_count": 9,
      "id": "4601fffc",
      "metadata": {
        "id": "4601fffc"
      },
      "outputs": [],
      "source": [
        "X_pt_train, X_pt_test, y_pt_train, y_pt_test = train_test_split(\n",
        "    X_play_tennis, y_play_tennis, test_size=0.2, random_state=42)"
      ]
    },
    {
      "cell_type": "markdown",
      "id": "82eb99dd",
      "metadata": {
        "id": "82eb99dd"
      },
      "source": [
        "### Decision Tree Classifier"
      ]
    },
    {
      "cell_type": "markdown",
      "id": "acd9c5ed",
      "metadata": {
        "id": "acd9c5ed"
      },
      "source": [
        "#### 1. Dataset Breast Cancer"
      ]
    },
    {
      "cell_type": "code",
      "execution_count": 10,
      "id": "1e66919b",
      "metadata": {
        "id": "1e66919b",
        "colab": {
          "base_uri": "https://localhost:8080/"
        },
        "outputId": "8dcbc2fd-8e88-4fce-c6bf-d7c5bd0bf09c"
      },
      "outputs": [
        {
          "output_type": "stream",
          "name": "stdout",
          "text": [
            "|--- mean concave points <= 0.05\n",
            "|   |--- worst radius <= 16.83\n",
            "|   |   |--- area error <= 48.70\n",
            "|   |   |   |--- worst smoothness <= 0.18\n",
            "|   |   |   |   |--- smoothness error <= 0.00\n",
            "|   |   |   |   |   |--- worst texture <= 27.76\n",
            "|   |   |   |   |   |   |--- class: 1\n",
            "|   |   |   |   |   |--- worst texture >  27.76\n",
            "|   |   |   |   |   |   |--- class: 0\n",
            "|   |   |   |   |--- smoothness error >  0.00\n",
            "|   |   |   |   |   |--- worst texture <= 33.35\n",
            "|   |   |   |   |   |   |--- class: 1\n",
            "|   |   |   |   |   |--- worst texture >  33.35\n",
            "|   |   |   |   |   |   |--- worst texture <= 33.56\n",
            "|   |   |   |   |   |   |   |--- class: 0\n",
            "|   |   |   |   |   |   |--- worst texture >  33.56\n",
            "|   |   |   |   |   |   |   |--- class: 1\n",
            "|   |   |   |--- worst smoothness >  0.18\n",
            "|   |   |   |   |--- class: 0\n",
            "|   |   |--- area error >  48.70\n",
            "|   |   |   |--- concavity error <= 0.02\n",
            "|   |   |   |   |--- class: 0\n",
            "|   |   |   |--- concavity error >  0.02\n",
            "|   |   |   |   |--- class: 1\n",
            "|   |--- worst radius >  16.83\n",
            "|   |   |--- mean texture <= 16.19\n",
            "|   |   |   |--- class: 1\n",
            "|   |   |--- mean texture >  16.19\n",
            "|   |   |   |--- concave points error <= 0.01\n",
            "|   |   |   |   |--- class: 0\n",
            "|   |   |   |--- concave points error >  0.01\n",
            "|   |   |   |   |--- class: 1\n",
            "|--- mean concave points >  0.05\n",
            "|   |--- worst concave points <= 0.15\n",
            "|   |   |--- worst perimeter <= 115.25\n",
            "|   |   |   |--- mean texture <= 21.06\n",
            "|   |   |   |   |--- class: 1\n",
            "|   |   |   |--- mean texture >  21.06\n",
            "|   |   |   |   |--- class: 0\n",
            "|   |   |--- worst perimeter >  115.25\n",
            "|   |   |   |--- class: 0\n",
            "|   |--- worst concave points >  0.15\n",
            "|   |   |--- fractal dimension error <= 0.01\n",
            "|   |   |   |--- class: 0\n",
            "|   |   |--- fractal dimension error >  0.01\n",
            "|   |   |   |--- class: 1\n",
            "\n"
          ]
        }
      ],
      "source": [
        "bc_decision_tree = DecisionTreeClassifier(random_state=42)\n",
        "bc_decision_tree = bc_decision_tree.fit(X_bc_train, y_bc_train)\n",
        "\n",
        "res = export_text(bc_decision_tree, feature_names=breast_cancer['feature_names'].tolist())\n",
        "print(res)"
      ]
    },
    {
      "cell_type": "code",
      "execution_count": 11,
      "id": "6fb52624",
      "metadata": {
        "id": "6fb52624",
        "colab": {
          "base_uri": "https://localhost:8080/",
          "height": 1000
        },
        "outputId": "7bb373a1-064e-478b-f93b-bc8736ae17d2"
      },
      "outputs": [
        {
          "output_type": "execute_result",
          "data": {
            "text/plain": [
              "<graphviz.files.Source at 0x7f42016cadd0>"
            ],
            "image/svg+xml": "<?xml version=\"1.0\" encoding=\"UTF-8\" standalone=\"no\"?>\n<!DOCTYPE svg PUBLIC \"-//W3C//DTD SVG 1.1//EN\"\n \"http://www.w3.org/Graphics/SVG/1.1/DTD/svg11.dtd\">\n<!-- Generated by graphviz version 2.40.1 (20161225.0304)\n -->\n<!-- Title: Tree Pages: 1 -->\n<svg width=\"1659pt\" height=\"909pt\"\n viewBox=\"0.00 0.00 1659.00 909.00\" xmlns=\"http://www.w3.org/2000/svg\" xmlns:xlink=\"http://www.w3.org/1999/xlink\">\n<g id=\"graph0\" class=\"graph\" transform=\"scale(1 1) rotate(0) translate(4 905)\">\n<title>Tree</title>\n<polygon fill=\"#ffffff\" stroke=\"transparent\" points=\"-4,4 -4,-905 1655,-905 1655,4 -4,4\"/>\n<!-- 0 -->\n<g id=\"node1\" class=\"node\">\n<title>0</title>\n<path fill=\"#aed7f4\" stroke=\"#000000\" d=\"M1141.5,-901C1141.5,-901 958.5,-901 958.5,-901 952.5,-901 946.5,-895 946.5,-889 946.5,-889 946.5,-830 946.5,-830 946.5,-824 952.5,-818 958.5,-818 958.5,-818 1141.5,-818 1141.5,-818 1147.5,-818 1153.5,-824 1153.5,-830 1153.5,-830 1153.5,-889 1153.5,-889 1153.5,-895 1147.5,-901 1141.5,-901\"/>\n<text text-anchor=\"start\" x=\"954.5\" y=\"-885.8\" font-family=\"Helvetica,sans-Serif\" font-size=\"14.00\" fill=\"#000000\">mean concave points ≤ 0.051</text>\n<text text-anchor=\"start\" x=\"1012\" y=\"-870.8\" font-family=\"Helvetica,sans-Serif\" font-size=\"14.00\" fill=\"#000000\">gini = 0.467</text>\n<text text-anchor=\"start\" x=\"1002\" y=\"-855.8\" font-family=\"Helvetica,sans-Serif\" font-size=\"14.00\" fill=\"#000000\">samples = 455</text>\n<text text-anchor=\"start\" x=\"992\" y=\"-840.8\" font-family=\"Helvetica,sans-Serif\" font-size=\"14.00\" fill=\"#000000\">value = [169, 286]</text>\n<text text-anchor=\"start\" x=\"1003\" y=\"-825.8\" font-family=\"Helvetica,sans-Serif\" font-size=\"14.00\" fill=\"#000000\">class = benign</text>\n</g>\n<!-- 1 -->\n<g id=\"node2\" class=\"node\">\n<title>1</title>\n<path fill=\"#45a3e7\" stroke=\"#000000\" d=\"M932,-782C932,-782 810,-782 810,-782 804,-782 798,-776 798,-770 798,-770 798,-711 798,-711 798,-705 804,-699 810,-699 810,-699 932,-699 932,-699 938,-699 944,-705 944,-711 944,-711 944,-770 944,-770 944,-776 938,-782 932,-782\"/>\n<text text-anchor=\"start\" x=\"806\" y=\"-766.8\" font-family=\"Helvetica,sans-Serif\" font-size=\"14.00\" fill=\"#000000\">worst radius ≤ 16.83</text>\n<text text-anchor=\"start\" x=\"833\" y=\"-751.8\" font-family=\"Helvetica,sans-Serif\" font-size=\"14.00\" fill=\"#000000\">gini = 0.107</text>\n<text text-anchor=\"start\" x=\"823\" y=\"-736.8\" font-family=\"Helvetica,sans-Serif\" font-size=\"14.00\" fill=\"#000000\">samples = 282</text>\n<text text-anchor=\"start\" x=\"817\" y=\"-721.8\" font-family=\"Helvetica,sans-Serif\" font-size=\"14.00\" fill=\"#000000\">value = [16, 266]</text>\n<text text-anchor=\"start\" x=\"824\" y=\"-706.8\" font-family=\"Helvetica,sans-Serif\" font-size=\"14.00\" fill=\"#000000\">class = benign</text>\n</g>\n<!-- 0&#45;&gt;1 -->\n<g id=\"edge1\" class=\"edge\">\n<title>0&#45;&gt;1</title>\n<path fill=\"none\" stroke=\"#000000\" d=\"M987.3945,-817.8796C972.8146,-808.1868 957.1849,-797.7961 942.2618,-787.8752\"/>\n<polygon fill=\"#000000\" stroke=\"#000000\" points=\"943.8355,-784.7185 933.5702,-782.0969 939.9601,-790.5479 943.8355,-784.7185\"/>\n<text text-anchor=\"middle\" x=\"938.5047\" y=\"-802.9051\" font-family=\"Helvetica,sans-Serif\" font-size=\"14.00\" fill=\"#000000\">True</text>\n</g>\n<!-- 22 -->\n<g id=\"node23\" class=\"node\">\n<title>22</title>\n<path fill=\"#e89153\" stroke=\"#000000\" d=\"M1287.5,-782C1287.5,-782 1106.5,-782 1106.5,-782 1100.5,-782 1094.5,-776 1094.5,-770 1094.5,-770 1094.5,-711 1094.5,-711 1094.5,-705 1100.5,-699 1106.5,-699 1106.5,-699 1287.5,-699 1287.5,-699 1293.5,-699 1299.5,-705 1299.5,-711 1299.5,-711 1299.5,-770 1299.5,-770 1299.5,-776 1293.5,-782 1287.5,-782\"/>\n<text text-anchor=\"start\" x=\"1102.5\" y=\"-766.8\" font-family=\"Helvetica,sans-Serif\" font-size=\"14.00\" fill=\"#000000\">worst concave points ≤ 0.147</text>\n<text text-anchor=\"start\" x=\"1159\" y=\"-751.8\" font-family=\"Helvetica,sans-Serif\" font-size=\"14.00\" fill=\"#000000\">gini = 0.204</text>\n<text text-anchor=\"start\" x=\"1149\" y=\"-736.8\" font-family=\"Helvetica,sans-Serif\" font-size=\"14.00\" fill=\"#000000\">samples = 173</text>\n<text text-anchor=\"start\" x=\"1143\" y=\"-721.8\" font-family=\"Helvetica,sans-Serif\" font-size=\"14.00\" fill=\"#000000\">value = [153, 20]</text>\n<text text-anchor=\"start\" x=\"1140.5\" y=\"-706.8\" font-family=\"Helvetica,sans-Serif\" font-size=\"14.00\" fill=\"#000000\">class = malignant</text>\n</g>\n<!-- 0&#45;&gt;22 -->\n<g id=\"edge22\" class=\"edge\">\n<title>0&#45;&gt;22</title>\n<path fill=\"none\" stroke=\"#000000\" d=\"M1101.4135,-817.8796C1113.0952,-808.4229 1125.5975,-798.302 1137.581,-788.6011\"/>\n<polygon fill=\"#000000\" stroke=\"#000000\" points=\"1139.7968,-791.3105 1145.3671,-782.2981 1135.3924,-785.8697 1139.7968,-791.3105\"/>\n<text text-anchor=\"middle\" x=\"1142.75\" y=\"-803.4607\" font-family=\"Helvetica,sans-Serif\" font-size=\"14.00\" fill=\"#000000\">False</text>\n</g>\n<!-- 2 -->\n<g id=\"node3\" class=\"node\">\n<title>2</title>\n<path fill=\"#3d9fe6\" stroke=\"#000000\" d=\"M682.5,-663C682.5,-663 583.5,-663 583.5,-663 577.5,-663 571.5,-657 571.5,-651 571.5,-651 571.5,-592 571.5,-592 571.5,-586 577.5,-580 583.5,-580 583.5,-580 682.5,-580 682.5,-580 688.5,-580 694.5,-586 694.5,-592 694.5,-592 694.5,-651 694.5,-651 694.5,-657 688.5,-663 682.5,-663\"/>\n<text text-anchor=\"start\" x=\"579.5\" y=\"-647.8\" font-family=\"Helvetica,sans-Serif\" font-size=\"14.00\" fill=\"#000000\">area error ≤ 48.7</text>\n<text text-anchor=\"start\" x=\"595\" y=\"-632.8\" font-family=\"Helvetica,sans-Serif\" font-size=\"14.00\" fill=\"#000000\">gini = 0.037</text>\n<text text-anchor=\"start\" x=\"585\" y=\"-617.8\" font-family=\"Helvetica,sans-Serif\" font-size=\"14.00\" fill=\"#000000\">samples = 263</text>\n<text text-anchor=\"start\" x=\"583\" y=\"-602.8\" font-family=\"Helvetica,sans-Serif\" font-size=\"14.00\" fill=\"#000000\">value = [5, 258]</text>\n<text text-anchor=\"start\" x=\"586\" y=\"-587.8\" font-family=\"Helvetica,sans-Serif\" font-size=\"14.00\" fill=\"#000000\">class = benign</text>\n</g>\n<!-- 1&#45;&gt;2 -->\n<g id=\"edge2\" class=\"edge\">\n<title>1&#45;&gt;2</title>\n<path fill=\"none\" stroke=\"#000000\" d=\"M797.9747,-703.9874C768.0072,-689.0036 733.4431,-671.7216 703.7187,-656.8594\"/>\n<polygon fill=\"#000000\" stroke=\"#000000\" points=\"705.1693,-653.6716 694.6597,-652.3299 702.0387,-659.9326 705.1693,-653.6716\"/>\n</g>\n<!-- 17 -->\n<g id=\"node18\" class=\"node\">\n<title>17</title>\n<path fill=\"#f8ddc9\" stroke=\"#000000\" d=\"M935.5,-663C935.5,-663 806.5,-663 806.5,-663 800.5,-663 794.5,-657 794.5,-651 794.5,-651 794.5,-592 794.5,-592 794.5,-586 800.5,-580 806.5,-580 806.5,-580 935.5,-580 935.5,-580 941.5,-580 947.5,-586 947.5,-592 947.5,-592 947.5,-651 947.5,-651 947.5,-657 941.5,-663 935.5,-663\"/>\n<text text-anchor=\"start\" x=\"802.5\" y=\"-647.8\" font-family=\"Helvetica,sans-Serif\" font-size=\"14.00\" fill=\"#000000\">mean texture ≤ 16.19</text>\n<text text-anchor=\"start\" x=\"833\" y=\"-632.8\" font-family=\"Helvetica,sans-Serif\" font-size=\"14.00\" fill=\"#000000\">gini = 0.488</text>\n<text text-anchor=\"start\" x=\"827\" y=\"-617.8\" font-family=\"Helvetica,sans-Serif\" font-size=\"14.00\" fill=\"#000000\">samples = 19</text>\n<text text-anchor=\"start\" x=\"825.5\" y=\"-602.8\" font-family=\"Helvetica,sans-Serif\" font-size=\"14.00\" fill=\"#000000\">value = [11, 8]</text>\n<text text-anchor=\"start\" x=\"814.5\" y=\"-587.8\" font-family=\"Helvetica,sans-Serif\" font-size=\"14.00\" fill=\"#000000\">class = malignant</text>\n</g>\n<!-- 1&#45;&gt;17 -->\n<g id=\"edge17\" class=\"edge\">\n<title>1&#45;&gt;17</title>\n<path fill=\"none\" stroke=\"#000000\" d=\"M871,-698.8796C871,-690.6838 871,-681.9891 871,-673.5013\"/>\n<polygon fill=\"#000000\" stroke=\"#000000\" points=\"874.5001,-673.298 871,-663.2981 867.5001,-673.2981 874.5001,-673.298\"/>\n</g>\n<!-- 3 -->\n<g id=\"node4\" class=\"node\">\n<title>3</title>\n<path fill=\"#3b9ee5\" stroke=\"#000000\" d=\"M525,-544C525,-544 363,-544 363,-544 357,-544 351,-538 351,-532 351,-532 351,-473 351,-473 351,-467 357,-461 363,-461 363,-461 525,-461 525,-461 531,-461 537,-467 537,-473 537,-473 537,-532 537,-532 537,-538 531,-544 525,-544\"/>\n<text text-anchor=\"start\" x=\"359\" y=\"-528.8\" font-family=\"Helvetica,sans-Serif\" font-size=\"14.00\" fill=\"#000000\">worst smoothness ≤ 0.178</text>\n<text text-anchor=\"start\" x=\"406\" y=\"-513.8\" font-family=\"Helvetica,sans-Serif\" font-size=\"14.00\" fill=\"#000000\">gini = 0.023</text>\n<text text-anchor=\"start\" x=\"396\" y=\"-498.8\" font-family=\"Helvetica,sans-Serif\" font-size=\"14.00\" fill=\"#000000\">samples = 260</text>\n<text text-anchor=\"start\" x=\"394\" y=\"-483.8\" font-family=\"Helvetica,sans-Serif\" font-size=\"14.00\" fill=\"#000000\">value = [3, 257]</text>\n<text text-anchor=\"start\" x=\"397\" y=\"-468.8\" font-family=\"Helvetica,sans-Serif\" font-size=\"14.00\" fill=\"#000000\">class = benign</text>\n</g>\n<!-- 2&#45;&gt;3 -->\n<g id=\"edge3\" class=\"edge\">\n<title>2&#45;&gt;3</title>\n<path fill=\"none\" stroke=\"#000000\" d=\"M571.3759,-582.6996C554.5274,-572.0913 536.0862,-560.4802 518.5976,-549.4688\"/>\n<polygon fill=\"#000000\" stroke=\"#000000\" points=\"520.4271,-546.4848 510.0999,-544.1185 516.6974,-552.4085 520.4271,-546.4848\"/>\n</g>\n<!-- 14 -->\n<g id=\"node15\" class=\"node\">\n<title>14</title>\n<path fill=\"#f2c09c\" stroke=\"#000000\" d=\"M698.5,-544C698.5,-544 567.5,-544 567.5,-544 561.5,-544 555.5,-538 555.5,-532 555.5,-532 555.5,-473 555.5,-473 555.5,-467 561.5,-461 567.5,-461 567.5,-461 698.5,-461 698.5,-461 704.5,-461 710.5,-467 710.5,-473 710.5,-473 710.5,-532 710.5,-532 710.5,-538 704.5,-544 698.5,-544\"/>\n<text text-anchor=\"start\" x=\"563.5\" y=\"-528.8\" font-family=\"Helvetica,sans-Serif\" font-size=\"14.00\" fill=\"#000000\">concavity error ≤ 0.02</text>\n<text text-anchor=\"start\" x=\"595\" y=\"-513.8\" font-family=\"Helvetica,sans-Serif\" font-size=\"14.00\" fill=\"#000000\">gini = 0.444</text>\n<text text-anchor=\"start\" x=\"593.5\" y=\"-498.8\" font-family=\"Helvetica,sans-Serif\" font-size=\"14.00\" fill=\"#000000\">samples = 3</text>\n<text text-anchor=\"start\" x=\"591.5\" y=\"-483.8\" font-family=\"Helvetica,sans-Serif\" font-size=\"14.00\" fill=\"#000000\">value = [2, 1]</text>\n<text text-anchor=\"start\" x=\"576.5\" y=\"-468.8\" font-family=\"Helvetica,sans-Serif\" font-size=\"14.00\" fill=\"#000000\">class = malignant</text>\n</g>\n<!-- 2&#45;&gt;14 -->\n<g id=\"edge14\" class=\"edge\">\n<title>2&#45;&gt;14</title>\n<path fill=\"none\" stroke=\"#000000\" d=\"M633,-579.8796C633,-571.6838 633,-562.9891 633,-554.5013\"/>\n<polygon fill=\"#000000\" stroke=\"#000000\" points=\"636.5001,-554.298 633,-544.2981 629.5001,-554.2981 636.5001,-554.298\"/>\n</g>\n<!-- 4 -->\n<g id=\"node5\" class=\"node\">\n<title>4</title>\n<path fill=\"#3b9ee5\" stroke=\"#000000\" d=\"M350,-425C350,-425 192,-425 192,-425 186,-425 180,-419 180,-413 180,-413 180,-354 180,-354 180,-348 186,-342 192,-342 192,-342 350,-342 350,-342 356,-342 362,-348 362,-354 362,-354 362,-413 362,-413 362,-419 356,-425 350,-425\"/>\n<text text-anchor=\"start\" x=\"188\" y=\"-409.8\" font-family=\"Helvetica,sans-Serif\" font-size=\"14.00\" fill=\"#000000\">smoothness error ≤ 0.003</text>\n<text text-anchor=\"start\" x=\"233\" y=\"-394.8\" font-family=\"Helvetica,sans-Serif\" font-size=\"14.00\" fill=\"#000000\">gini = 0.015</text>\n<text text-anchor=\"start\" x=\"223\" y=\"-379.8\" font-family=\"Helvetica,sans-Serif\" font-size=\"14.00\" fill=\"#000000\">samples = 259</text>\n<text text-anchor=\"start\" x=\"221\" y=\"-364.8\" font-family=\"Helvetica,sans-Serif\" font-size=\"14.00\" fill=\"#000000\">value = [2, 257]</text>\n<text text-anchor=\"start\" x=\"224\" y=\"-349.8\" font-family=\"Helvetica,sans-Serif\" font-size=\"14.00\" fill=\"#000000\">class = benign</text>\n</g>\n<!-- 3&#45;&gt;4 -->\n<g id=\"edge4\" class=\"edge\">\n<title>3&#45;&gt;4</title>\n<path fill=\"none\" stroke=\"#000000\" d=\"M383.493,-460.8796C369.4018,-451.1868 354.2961,-440.7961 339.8731,-430.8752\"/>\n<polygon fill=\"#000000\" stroke=\"#000000\" points=\"341.6955,-427.8806 331.4728,-425.0969 337.7283,-433.6479 341.6955,-427.8806\"/>\n</g>\n<!-- 13 -->\n<g id=\"node14\" class=\"node\">\n<title>13</title>\n<path fill=\"#e58139\" stroke=\"#000000\" d=\"M497.5,-417.5C497.5,-417.5 392.5,-417.5 392.5,-417.5 386.5,-417.5 380.5,-411.5 380.5,-405.5 380.5,-405.5 380.5,-361.5 380.5,-361.5 380.5,-355.5 386.5,-349.5 392.5,-349.5 392.5,-349.5 497.5,-349.5 497.5,-349.5 503.5,-349.5 509.5,-355.5 509.5,-361.5 509.5,-361.5 509.5,-405.5 509.5,-405.5 509.5,-411.5 503.5,-417.5 497.5,-417.5\"/>\n<text text-anchor=\"start\" x=\"415.5\" y=\"-402.3\" font-family=\"Helvetica,sans-Serif\" font-size=\"14.00\" fill=\"#000000\">gini = 0.0</text>\n<text text-anchor=\"start\" x=\"405.5\" y=\"-387.3\" font-family=\"Helvetica,sans-Serif\" font-size=\"14.00\" fill=\"#000000\">samples = 1</text>\n<text text-anchor=\"start\" x=\"403.5\" y=\"-372.3\" font-family=\"Helvetica,sans-Serif\" font-size=\"14.00\" fill=\"#000000\">value = [1, 0]</text>\n<text text-anchor=\"start\" x=\"388.5\" y=\"-357.3\" font-family=\"Helvetica,sans-Serif\" font-size=\"14.00\" fill=\"#000000\">class = malignant</text>\n</g>\n<!-- 3&#45;&gt;13 -->\n<g id=\"edge13\" class=\"edge\">\n<title>3&#45;&gt;13</title>\n<path fill=\"none\" stroke=\"#000000\" d=\"M444.3498,-460.8796C444.4394,-450.2134 444.5361,-438.7021 444.6269,-427.9015\"/>\n<polygon fill=\"#000000\" stroke=\"#000000\" points=\"448.1274,-427.844 444.7116,-417.8149 441.1276,-427.7851 448.1274,-427.844\"/>\n</g>\n<!-- 5 -->\n<g id=\"node6\" class=\"node\">\n<title>5</title>\n<path fill=\"#5aade9\" stroke=\"#000000\" d=\"M252.5,-306C252.5,-306 117.5,-306 117.5,-306 111.5,-306 105.5,-300 105.5,-294 105.5,-294 105.5,-235 105.5,-235 105.5,-229 111.5,-223 117.5,-223 117.5,-223 252.5,-223 252.5,-223 258.5,-223 264.5,-229 264.5,-235 264.5,-235 264.5,-294 264.5,-294 264.5,-300 258.5,-306 252.5,-306\"/>\n<text text-anchor=\"start\" x=\"113.5\" y=\"-290.8\" font-family=\"Helvetica,sans-Serif\" font-size=\"14.00\" fill=\"#000000\">worst texture ≤ 27.755</text>\n<text text-anchor=\"start\" x=\"147\" y=\"-275.8\" font-family=\"Helvetica,sans-Serif\" font-size=\"14.00\" fill=\"#000000\">gini = 0.245</text>\n<text text-anchor=\"start\" x=\"145.5\" y=\"-260.8\" font-family=\"Helvetica,sans-Serif\" font-size=\"14.00\" fill=\"#000000\">samples = 7</text>\n<text text-anchor=\"start\" x=\"143.5\" y=\"-245.8\" font-family=\"Helvetica,sans-Serif\" font-size=\"14.00\" fill=\"#000000\">value = [1, 6]</text>\n<text text-anchor=\"start\" x=\"138\" y=\"-230.8\" font-family=\"Helvetica,sans-Serif\" font-size=\"14.00\" fill=\"#000000\">class = benign</text>\n</g>\n<!-- 4&#45;&gt;5 -->\n<g id=\"edge5\" class=\"edge\">\n<title>4&#45;&gt;5</title>\n<path fill=\"none\" stroke=\"#000000\" d=\"M240.9214,-341.8796C234.5428,-333.0534 227.746,-323.6485 221.1681,-314.5466\"/>\n<polygon fill=\"#000000\" stroke=\"#000000\" points=\"223.9012,-312.353 215.207,-306.2981 218.2277,-316.4532 223.9012,-312.353\"/>\n</g>\n<!-- 8 -->\n<g id=\"node9\" class=\"node\">\n<title>8</title>\n<path fill=\"#3a9de5\" stroke=\"#000000\" d=\"M421.5,-306C421.5,-306 294.5,-306 294.5,-306 288.5,-306 282.5,-300 282.5,-294 282.5,-294 282.5,-235 282.5,-235 282.5,-229 288.5,-223 294.5,-223 294.5,-223 421.5,-223 421.5,-223 427.5,-223 433.5,-229 433.5,-235 433.5,-235 433.5,-294 433.5,-294 433.5,-300 427.5,-306 421.5,-306\"/>\n<text text-anchor=\"start\" x=\"290.5\" y=\"-290.8\" font-family=\"Helvetica,sans-Serif\" font-size=\"14.00\" fill=\"#000000\">worst texture ≤ 33.35</text>\n<text text-anchor=\"start\" x=\"320\" y=\"-275.8\" font-family=\"Helvetica,sans-Serif\" font-size=\"14.00\" fill=\"#000000\">gini = 0.008</text>\n<text text-anchor=\"start\" x=\"310\" y=\"-260.8\" font-family=\"Helvetica,sans-Serif\" font-size=\"14.00\" fill=\"#000000\">samples = 252</text>\n<text text-anchor=\"start\" x=\"308\" y=\"-245.8\" font-family=\"Helvetica,sans-Serif\" font-size=\"14.00\" fill=\"#000000\">value = [1, 251]</text>\n<text text-anchor=\"start\" x=\"311\" y=\"-230.8\" font-family=\"Helvetica,sans-Serif\" font-size=\"14.00\" fill=\"#000000\">class = benign</text>\n</g>\n<!-- 4&#45;&gt;8 -->\n<g id=\"edge8\" class=\"edge\">\n<title>4&#45;&gt;8</title>\n<path fill=\"none\" stroke=\"#000000\" d=\"M301.4284,-341.8796C307.8811,-333.0534 314.757,-323.6485 321.4113,-314.5466\"/>\n<polygon fill=\"#000000\" stroke=\"#000000\" points=\"324.3653,-316.4364 327.4417,-306.2981 318.7144,-312.3051 324.3653,-316.4364\"/>\n</g>\n<!-- 6 -->\n<g id=\"node7\" class=\"node\">\n<title>6</title>\n<path fill=\"#399de5\" stroke=\"#000000\" d=\"M98,-179.5C98,-179.5 12,-179.5 12,-179.5 6,-179.5 0,-173.5 0,-167.5 0,-167.5 0,-123.5 0,-123.5 0,-117.5 6,-111.5 12,-111.5 12,-111.5 98,-111.5 98,-111.5 104,-111.5 110,-117.5 110,-123.5 110,-123.5 110,-167.5 110,-167.5 110,-173.5 104,-179.5 98,-179.5\"/>\n<text text-anchor=\"start\" x=\"25.5\" y=\"-164.3\" font-family=\"Helvetica,sans-Serif\" font-size=\"14.00\" fill=\"#000000\">gini = 0.0</text>\n<text text-anchor=\"start\" x=\"15.5\" y=\"-149.3\" font-family=\"Helvetica,sans-Serif\" font-size=\"14.00\" fill=\"#000000\">samples = 6</text>\n<text text-anchor=\"start\" x=\"13.5\" y=\"-134.3\" font-family=\"Helvetica,sans-Serif\" font-size=\"14.00\" fill=\"#000000\">value = [0, 6]</text>\n<text text-anchor=\"start\" x=\"8\" y=\"-119.3\" font-family=\"Helvetica,sans-Serif\" font-size=\"14.00\" fill=\"#000000\">class = benign</text>\n</g>\n<!-- 5&#45;&gt;6 -->\n<g id=\"edge6\" class=\"edge\">\n<title>5&#45;&gt;6</title>\n<path fill=\"none\" stroke=\"#000000\" d=\"M139.5323,-222.8796C126.6789,-211.1138 112.7021,-198.3197 99.8834,-186.5855\"/>\n<polygon fill=\"#000000\" stroke=\"#000000\" points=\"102.2264,-183.9854 92.4869,-179.8149 97.4999,-189.1488 102.2264,-183.9854\"/>\n</g>\n<!-- 7 -->\n<g id=\"node8\" class=\"node\">\n<title>7</title>\n<path fill=\"#e58139\" stroke=\"#000000\" d=\"M245.5,-179.5C245.5,-179.5 140.5,-179.5 140.5,-179.5 134.5,-179.5 128.5,-173.5 128.5,-167.5 128.5,-167.5 128.5,-123.5 128.5,-123.5 128.5,-117.5 134.5,-111.5 140.5,-111.5 140.5,-111.5 245.5,-111.5 245.5,-111.5 251.5,-111.5 257.5,-117.5 257.5,-123.5 257.5,-123.5 257.5,-167.5 257.5,-167.5 257.5,-173.5 251.5,-179.5 245.5,-179.5\"/>\n<text text-anchor=\"start\" x=\"163.5\" y=\"-164.3\" font-family=\"Helvetica,sans-Serif\" font-size=\"14.00\" fill=\"#000000\">gini = 0.0</text>\n<text text-anchor=\"start\" x=\"153.5\" y=\"-149.3\" font-family=\"Helvetica,sans-Serif\" font-size=\"14.00\" fill=\"#000000\">samples = 1</text>\n<text text-anchor=\"start\" x=\"151.5\" y=\"-134.3\" font-family=\"Helvetica,sans-Serif\" font-size=\"14.00\" fill=\"#000000\">value = [1, 0]</text>\n<text text-anchor=\"start\" x=\"136.5\" y=\"-119.3\" font-family=\"Helvetica,sans-Serif\" font-size=\"14.00\" fill=\"#000000\">class = malignant</text>\n</g>\n<!-- 5&#45;&gt;7 -->\n<g id=\"edge7\" class=\"edge\">\n<title>5&#45;&gt;7</title>\n<path fill=\"none\" stroke=\"#000000\" d=\"M187.798,-222.8796C188.5151,-212.2134 189.2889,-200.7021 190.015,-189.9015\"/>\n<polygon fill=\"#000000\" stroke=\"#000000\" points=\"193.5144,-190.0272 190.6931,-179.8149 186.5301,-189.5576 193.5144,-190.0272\"/>\n</g>\n<!-- 9 -->\n<g id=\"node10\" class=\"node\">\n<title>9</title>\n<path fill=\"#399de5\" stroke=\"#000000\" d=\"M396,-179.5C396,-179.5 304,-179.5 304,-179.5 298,-179.5 292,-173.5 292,-167.5 292,-167.5 292,-123.5 292,-123.5 292,-117.5 298,-111.5 304,-111.5 304,-111.5 396,-111.5 396,-111.5 402,-111.5 408,-117.5 408,-123.5 408,-123.5 408,-167.5 408,-167.5 408,-173.5 402,-179.5 396,-179.5\"/>\n<text text-anchor=\"start\" x=\"320.5\" y=\"-164.3\" font-family=\"Helvetica,sans-Serif\" font-size=\"14.00\" fill=\"#000000\">gini = 0.0</text>\n<text text-anchor=\"start\" x=\"302\" y=\"-149.3\" font-family=\"Helvetica,sans-Serif\" font-size=\"14.00\" fill=\"#000000\">samples = 237</text>\n<text text-anchor=\"start\" x=\"300\" y=\"-134.3\" font-family=\"Helvetica,sans-Serif\" font-size=\"14.00\" fill=\"#000000\">value = [0, 237]</text>\n<text text-anchor=\"start\" x=\"303\" y=\"-119.3\" font-family=\"Helvetica,sans-Serif\" font-size=\"14.00\" fill=\"#000000\">class = benign</text>\n</g>\n<!-- 8&#45;&gt;9 -->\n<g id=\"edge9\" class=\"edge\">\n<title>8&#45;&gt;9</title>\n<path fill=\"none\" stroke=\"#000000\" d=\"M355.202,-222.8796C354.4849,-212.2134 353.7111,-200.7021 352.985,-189.9015\"/>\n<polygon fill=\"#000000\" stroke=\"#000000\" points=\"356.4699,-189.5576 352.3069,-179.8149 349.4856,-190.0272 356.4699,-189.5576\"/>\n</g>\n<!-- 10 -->\n<g id=\"node11\" class=\"node\">\n<title>10</title>\n<path fill=\"#47a4e7\" stroke=\"#000000\" d=\"M565.5,-187C565.5,-187 438.5,-187 438.5,-187 432.5,-187 426.5,-181 426.5,-175 426.5,-175 426.5,-116 426.5,-116 426.5,-110 432.5,-104 438.5,-104 438.5,-104 565.5,-104 565.5,-104 571.5,-104 577.5,-110 577.5,-116 577.5,-116 577.5,-175 577.5,-175 577.5,-181 571.5,-187 565.5,-187\"/>\n<text text-anchor=\"start\" x=\"434.5\" y=\"-171.8\" font-family=\"Helvetica,sans-Serif\" font-size=\"14.00\" fill=\"#000000\">worst texture ≤ 33.56</text>\n<text text-anchor=\"start\" x=\"464\" y=\"-156.8\" font-family=\"Helvetica,sans-Serif\" font-size=\"14.00\" fill=\"#000000\">gini = 0.124</text>\n<text text-anchor=\"start\" x=\"458\" y=\"-141.8\" font-family=\"Helvetica,sans-Serif\" font-size=\"14.00\" fill=\"#000000\">samples = 15</text>\n<text text-anchor=\"start\" x=\"456.5\" y=\"-126.8\" font-family=\"Helvetica,sans-Serif\" font-size=\"14.00\" fill=\"#000000\">value = [1, 14]</text>\n<text text-anchor=\"start\" x=\"455\" y=\"-111.8\" font-family=\"Helvetica,sans-Serif\" font-size=\"14.00\" fill=\"#000000\">class = benign</text>\n</g>\n<!-- 8&#45;&gt;10 -->\n<g id=\"edge10\" class=\"edge\">\n<title>8&#45;&gt;10</title>\n<path fill=\"none\" stroke=\"#000000\" d=\"M408.3642,-222.8796C419.6985,-213.513 431.8215,-203.4948 443.4581,-193.8784\"/>\n<polygon fill=\"#000000\" stroke=\"#000000\" points=\"445.9419,-196.3663 451.4208,-187.2981 441.4827,-190.9703 445.9419,-196.3663\"/>\n</g>\n<!-- 11 -->\n<g id=\"node12\" class=\"node\">\n<title>11</title>\n<path fill=\"#e58139\" stroke=\"#000000\" d=\"M485.5,-68C485.5,-68 380.5,-68 380.5,-68 374.5,-68 368.5,-62 368.5,-56 368.5,-56 368.5,-12 368.5,-12 368.5,-6 374.5,0 380.5,0 380.5,0 485.5,0 485.5,0 491.5,0 497.5,-6 497.5,-12 497.5,-12 497.5,-56 497.5,-56 497.5,-62 491.5,-68 485.5,-68\"/>\n<text text-anchor=\"start\" x=\"403.5\" y=\"-52.8\" font-family=\"Helvetica,sans-Serif\" font-size=\"14.00\" fill=\"#000000\">gini = 0.0</text>\n<text text-anchor=\"start\" x=\"393.5\" y=\"-37.8\" font-family=\"Helvetica,sans-Serif\" font-size=\"14.00\" fill=\"#000000\">samples = 1</text>\n<text text-anchor=\"start\" x=\"391.5\" y=\"-22.8\" font-family=\"Helvetica,sans-Serif\" font-size=\"14.00\" fill=\"#000000\">value = [1, 0]</text>\n<text text-anchor=\"start\" x=\"376.5\" y=\"-7.8\" font-family=\"Helvetica,sans-Serif\" font-size=\"14.00\" fill=\"#000000\">class = malignant</text>\n</g>\n<!-- 10&#45;&gt;11 -->\n<g id=\"edge11\" class=\"edge\">\n<title>10&#45;&gt;11</title>\n<path fill=\"none\" stroke=\"#000000\" d=\"M476.3069,-103.9815C470.8469,-95.1585 465.0716,-85.8258 459.5793,-76.9506\"/>\n<polygon fill=\"#000000\" stroke=\"#000000\" points=\"462.442,-74.9254 454.2035,-68.2637 456.4896,-78.609 462.442,-74.9254\"/>\n</g>\n<!-- 12 -->\n<g id=\"node13\" class=\"node\">\n<title>12</title>\n<path fill=\"#399de5\" stroke=\"#000000\" d=\"M614,-68C614,-68 528,-68 528,-68 522,-68 516,-62 516,-56 516,-56 516,-12 516,-12 516,-6 522,0 528,0 528,0 614,0 614,0 620,0 626,-6 626,-12 626,-12 626,-56 626,-56 626,-62 620,-68 614,-68\"/>\n<text text-anchor=\"start\" x=\"541.5\" y=\"-52.8\" font-family=\"Helvetica,sans-Serif\" font-size=\"14.00\" fill=\"#000000\">gini = 0.0</text>\n<text text-anchor=\"start\" x=\"527\" y=\"-37.8\" font-family=\"Helvetica,sans-Serif\" font-size=\"14.00\" fill=\"#000000\">samples = 14</text>\n<text text-anchor=\"start\" x=\"525.5\" y=\"-22.8\" font-family=\"Helvetica,sans-Serif\" font-size=\"14.00\" fill=\"#000000\">value = [0, 14]</text>\n<text text-anchor=\"start\" x=\"524\" y=\"-7.8\" font-family=\"Helvetica,sans-Serif\" font-size=\"14.00\" fill=\"#000000\">class = benign</text>\n</g>\n<!-- 10&#45;&gt;12 -->\n<g id=\"edge12\" class=\"edge\">\n<title>10&#45;&gt;12</title>\n<path fill=\"none\" stroke=\"#000000\" d=\"M527.6931,-103.9815C533.1531,-95.1585 538.9284,-85.8258 544.4207,-76.9506\"/>\n<polygon fill=\"#000000\" stroke=\"#000000\" points=\"547.5104,-78.609 549.7965,-68.2637 541.558,-74.9254 547.5104,-78.609\"/>\n</g>\n<!-- 15 -->\n<g id=\"node16\" class=\"node\">\n<title>15</title>\n<path fill=\"#e58139\" stroke=\"#000000\" d=\"M651.5,-417.5C651.5,-417.5 546.5,-417.5 546.5,-417.5 540.5,-417.5 534.5,-411.5 534.5,-405.5 534.5,-405.5 534.5,-361.5 534.5,-361.5 534.5,-355.5 540.5,-349.5 546.5,-349.5 546.5,-349.5 651.5,-349.5 651.5,-349.5 657.5,-349.5 663.5,-355.5 663.5,-361.5 663.5,-361.5 663.5,-405.5 663.5,-405.5 663.5,-411.5 657.5,-417.5 651.5,-417.5\"/>\n<text text-anchor=\"start\" x=\"569.5\" y=\"-402.3\" font-family=\"Helvetica,sans-Serif\" font-size=\"14.00\" fill=\"#000000\">gini = 0.0</text>\n<text text-anchor=\"start\" x=\"559.5\" y=\"-387.3\" font-family=\"Helvetica,sans-Serif\" font-size=\"14.00\" fill=\"#000000\">samples = 2</text>\n<text text-anchor=\"start\" x=\"557.5\" y=\"-372.3\" font-family=\"Helvetica,sans-Serif\" font-size=\"14.00\" fill=\"#000000\">value = [2, 0]</text>\n<text text-anchor=\"start\" x=\"542.5\" y=\"-357.3\" font-family=\"Helvetica,sans-Serif\" font-size=\"14.00\" fill=\"#000000\">class = malignant</text>\n</g>\n<!-- 14&#45;&gt;15 -->\n<g id=\"edge15\" class=\"edge\">\n<title>14&#45;&gt;15</title>\n<path fill=\"none\" stroke=\"#000000\" d=\"M621.1084,-460.8796C618.0295,-450.1034 614.7042,-438.4647 611.5908,-427.5677\"/>\n<polygon fill=\"#000000\" stroke=\"#000000\" points=\"614.9169,-426.4686 608.8043,-417.8149 608.1862,-428.3917 614.9169,-426.4686\"/>\n</g>\n<!-- 16 -->\n<g id=\"node17\" class=\"node\">\n<title>16</title>\n<path fill=\"#399de5\" stroke=\"#000000\" d=\"M780,-417.5C780,-417.5 694,-417.5 694,-417.5 688,-417.5 682,-411.5 682,-405.5 682,-405.5 682,-361.5 682,-361.5 682,-355.5 688,-349.5 694,-349.5 694,-349.5 780,-349.5 780,-349.5 786,-349.5 792,-355.5 792,-361.5 792,-361.5 792,-405.5 792,-405.5 792,-411.5 786,-417.5 780,-417.5\"/>\n<text text-anchor=\"start\" x=\"707.5\" y=\"-402.3\" font-family=\"Helvetica,sans-Serif\" font-size=\"14.00\" fill=\"#000000\">gini = 0.0</text>\n<text text-anchor=\"start\" x=\"697.5\" y=\"-387.3\" font-family=\"Helvetica,sans-Serif\" font-size=\"14.00\" fill=\"#000000\">samples = 1</text>\n<text text-anchor=\"start\" x=\"695.5\" y=\"-372.3\" font-family=\"Helvetica,sans-Serif\" font-size=\"14.00\" fill=\"#000000\">value = [0, 1]</text>\n<text text-anchor=\"start\" x=\"690\" y=\"-357.3\" font-family=\"Helvetica,sans-Serif\" font-size=\"14.00\" fill=\"#000000\">class = benign</text>\n</g>\n<!-- 14&#45;&gt;16 -->\n<g id=\"edge16\" class=\"edge\">\n<title>14&#45;&gt;16</title>\n<path fill=\"none\" stroke=\"#000000\" d=\"M669.3742,-460.8796C679.3686,-449.4436 690.212,-437.0363 700.2286,-425.575\"/>\n<polygon fill=\"#000000\" stroke=\"#000000\" points=\"703.0653,-427.6479 707.0105,-417.8149 697.7945,-423.0414 703.0653,-427.6479\"/>\n</g>\n<!-- 18 -->\n<g id=\"node19\" class=\"node\">\n<title>18</title>\n<path fill=\"#399de5\" stroke=\"#000000\" d=\"M827,-536.5C827,-536.5 741,-536.5 741,-536.5 735,-536.5 729,-530.5 729,-524.5 729,-524.5 729,-480.5 729,-480.5 729,-474.5 735,-468.5 741,-468.5 741,-468.5 827,-468.5 827,-468.5 833,-468.5 839,-474.5 839,-480.5 839,-480.5 839,-524.5 839,-524.5 839,-530.5 833,-536.5 827,-536.5\"/>\n<text text-anchor=\"start\" x=\"754.5\" y=\"-521.3\" font-family=\"Helvetica,sans-Serif\" font-size=\"14.00\" fill=\"#000000\">gini = 0.0</text>\n<text text-anchor=\"start\" x=\"744.5\" y=\"-506.3\" font-family=\"Helvetica,sans-Serif\" font-size=\"14.00\" fill=\"#000000\">samples = 6</text>\n<text text-anchor=\"start\" x=\"742.5\" y=\"-491.3\" font-family=\"Helvetica,sans-Serif\" font-size=\"14.00\" fill=\"#000000\">value = [0, 6]</text>\n<text text-anchor=\"start\" x=\"737\" y=\"-476.3\" font-family=\"Helvetica,sans-Serif\" font-size=\"14.00\" fill=\"#000000\">class = benign</text>\n</g>\n<!-- 17&#45;&gt;18 -->\n<g id=\"edge18\" class=\"edge\">\n<title>17&#45;&gt;18</title>\n<path fill=\"none\" stroke=\"#000000\" d=\"M840.5716,-579.8796C832.2913,-568.5536 823.3143,-556.2748 815.0026,-544.9058\"/>\n<polygon fill=\"#000000\" stroke=\"#000000\" points=\"817.8147,-542.822 809.0874,-536.8149 812.1639,-546.9533 817.8147,-542.822\"/>\n</g>\n<!-- 19 -->\n<g id=\"node20\" class=\"node\">\n<title>19</title>\n<path fill=\"#ea985d\" stroke=\"#000000\" d=\"M1037,-544C1037,-544 869,-544 869,-544 863,-544 857,-538 857,-532 857,-532 857,-473 857,-473 857,-467 863,-461 869,-461 869,-461 1037,-461 1037,-461 1043,-461 1049,-467 1049,-473 1049,-473 1049,-532 1049,-532 1049,-538 1043,-544 1037,-544\"/>\n<text text-anchor=\"start\" x=\"865\" y=\"-528.8\" font-family=\"Helvetica,sans-Serif\" font-size=\"14.00\" fill=\"#000000\">concave points error ≤ 0.01</text>\n<text text-anchor=\"start\" x=\"919.5\" y=\"-513.8\" font-family=\"Helvetica,sans-Serif\" font-size=\"14.00\" fill=\"#000000\">gini = 0.26</text>\n<text text-anchor=\"start\" x=\"909\" y=\"-498.8\" font-family=\"Helvetica,sans-Serif\" font-size=\"14.00\" fill=\"#000000\">samples = 13</text>\n<text text-anchor=\"start\" x=\"907.5\" y=\"-483.8\" font-family=\"Helvetica,sans-Serif\" font-size=\"14.00\" fill=\"#000000\">value = [11, 2]</text>\n<text text-anchor=\"start\" x=\"896.5\" y=\"-468.8\" font-family=\"Helvetica,sans-Serif\" font-size=\"14.00\" fill=\"#000000\">class = malignant</text>\n</g>\n<!-- 17&#45;&gt;19 -->\n<g id=\"edge19\" class=\"edge\">\n<title>17&#45;&gt;19</title>\n<path fill=\"none\" stroke=\"#000000\" d=\"M899.6796,-579.8796C905.7615,-571.0534 912.2422,-561.6485 918.5141,-552.5466\"/>\n<polygon fill=\"#000000\" stroke=\"#000000\" points=\"921.4059,-554.5184 924.198,-544.2981 915.6418,-550.5465 921.4059,-554.5184\"/>\n</g>\n<!-- 20 -->\n<g id=\"node21\" class=\"node\">\n<title>20</title>\n<path fill=\"#e58139\" stroke=\"#000000\" d=\"M931.5,-417.5C931.5,-417.5 826.5,-417.5 826.5,-417.5 820.5,-417.5 814.5,-411.5 814.5,-405.5 814.5,-405.5 814.5,-361.5 814.5,-361.5 814.5,-355.5 820.5,-349.5 826.5,-349.5 826.5,-349.5 931.5,-349.5 931.5,-349.5 937.5,-349.5 943.5,-355.5 943.5,-361.5 943.5,-361.5 943.5,-405.5 943.5,-405.5 943.5,-411.5 937.5,-417.5 931.5,-417.5\"/>\n<text text-anchor=\"start\" x=\"849.5\" y=\"-402.3\" font-family=\"Helvetica,sans-Serif\" font-size=\"14.00\" fill=\"#000000\">gini = 0.0</text>\n<text text-anchor=\"start\" x=\"835\" y=\"-387.3\" font-family=\"Helvetica,sans-Serif\" font-size=\"14.00\" fill=\"#000000\">samples = 11</text>\n<text text-anchor=\"start\" x=\"833.5\" y=\"-372.3\" font-family=\"Helvetica,sans-Serif\" font-size=\"14.00\" fill=\"#000000\">value = [11, 0]</text>\n<text text-anchor=\"start\" x=\"822.5\" y=\"-357.3\" font-family=\"Helvetica,sans-Serif\" font-size=\"14.00\" fill=\"#000000\">class = malignant</text>\n</g>\n<!-- 19&#45;&gt;20 -->\n<g id=\"edge20\" class=\"edge\">\n<title>19&#45;&gt;20</title>\n<path fill=\"none\" stroke=\"#000000\" d=\"M927.1184,-460.8796C920.2121,-449.7735 912.7361,-437.7513 905.7825,-426.5691\"/>\n<polygon fill=\"#000000\" stroke=\"#000000\" points=\"908.5917,-424.4587 900.3387,-417.8149 902.6473,-428.1552 908.5917,-424.4587\"/>\n</g>\n<!-- 21 -->\n<g id=\"node22\" class=\"node\">\n<title>21</title>\n<path fill=\"#399de5\" stroke=\"#000000\" d=\"M1060,-417.5C1060,-417.5 974,-417.5 974,-417.5 968,-417.5 962,-411.5 962,-405.5 962,-405.5 962,-361.5 962,-361.5 962,-355.5 968,-349.5 974,-349.5 974,-349.5 1060,-349.5 1060,-349.5 1066,-349.5 1072,-355.5 1072,-361.5 1072,-361.5 1072,-405.5 1072,-405.5 1072,-411.5 1066,-417.5 1060,-417.5\"/>\n<text text-anchor=\"start\" x=\"987.5\" y=\"-402.3\" font-family=\"Helvetica,sans-Serif\" font-size=\"14.00\" fill=\"#000000\">gini = 0.0</text>\n<text text-anchor=\"start\" x=\"977.5\" y=\"-387.3\" font-family=\"Helvetica,sans-Serif\" font-size=\"14.00\" fill=\"#000000\">samples = 2</text>\n<text text-anchor=\"start\" x=\"975.5\" y=\"-372.3\" font-family=\"Helvetica,sans-Serif\" font-size=\"14.00\" fill=\"#000000\">value = [0, 2]</text>\n<text text-anchor=\"start\" x=\"970\" y=\"-357.3\" font-family=\"Helvetica,sans-Serif\" font-size=\"14.00\" fill=\"#000000\">class = benign</text>\n</g>\n<!-- 19&#45;&gt;21 -->\n<g id=\"edge21\" class=\"edge\">\n<title>19&#45;&gt;21</title>\n<path fill=\"none\" stroke=\"#000000\" d=\"M975.3841,-460.8796C981.298,-449.8835 987.6949,-437.9893 993.658,-426.9015\"/>\n<polygon fill=\"#000000\" stroke=\"#000000\" points=\"996.8908,-428.2799 998.5449,-417.8149 990.7258,-424.9642 996.8908,-428.2799\"/>\n</g>\n<!-- 23 -->\n<g id=\"node24\" class=\"node\">\n<title>23</title>\n<path fill=\"#f4fafe\" stroke=\"#000000\" d=\"M1273,-663C1273,-663 1121,-663 1121,-663 1115,-663 1109,-657 1109,-651 1109,-651 1109,-592 1109,-592 1109,-586 1115,-580 1121,-580 1121,-580 1273,-580 1273,-580 1279,-580 1285,-586 1285,-592 1285,-592 1285,-651 1285,-651 1285,-657 1279,-663 1273,-663\"/>\n<text text-anchor=\"start\" x=\"1117\" y=\"-647.8\" font-family=\"Helvetica,sans-Serif\" font-size=\"14.00\" fill=\"#000000\">worst perimeter ≤ 115.25</text>\n<text text-anchor=\"start\" x=\"1167.5\" y=\"-632.8\" font-family=\"Helvetica,sans-Serif\" font-size=\"14.00\" fill=\"#000000\">gini = 0.5</text>\n<text text-anchor=\"start\" x=\"1153\" y=\"-617.8\" font-family=\"Helvetica,sans-Serif\" font-size=\"14.00\" fill=\"#000000\">samples = 35</text>\n<text text-anchor=\"start\" x=\"1147\" y=\"-602.8\" font-family=\"Helvetica,sans-Serif\" font-size=\"14.00\" fill=\"#000000\">value = [17, 18]</text>\n<text text-anchor=\"start\" x=\"1150\" y=\"-587.8\" font-family=\"Helvetica,sans-Serif\" font-size=\"14.00\" fill=\"#000000\">class = benign</text>\n</g>\n<!-- 22&#45;&gt;23 -->\n<g id=\"edge23\" class=\"edge\">\n<title>22&#45;&gt;23</title>\n<path fill=\"none\" stroke=\"#000000\" d=\"M1197,-698.8796C1197,-690.6838 1197,-681.9891 1197,-673.5013\"/>\n<polygon fill=\"#000000\" stroke=\"#000000\" points=\"1200.5001,-673.298 1197,-663.2981 1193.5001,-673.2981 1200.5001,-673.298\"/>\n</g>\n<!-- 28 -->\n<g id=\"node29\" class=\"node\">\n<title>28</title>\n<path fill=\"#e5833c\" stroke=\"#000000\" d=\"M1552,-663C1552,-663 1364,-663 1364,-663 1358,-663 1352,-657 1352,-651 1352,-651 1352,-592 1352,-592 1352,-586 1358,-580 1364,-580 1364,-580 1552,-580 1552,-580 1558,-580 1564,-586 1564,-592 1564,-592 1564,-651 1564,-651 1564,-657 1558,-663 1552,-663\"/>\n<text text-anchor=\"start\" x=\"1360\" y=\"-647.8\" font-family=\"Helvetica,sans-Serif\" font-size=\"14.00\" fill=\"#000000\">fractal dimension error ≤ 0.013</text>\n<text text-anchor=\"start\" x=\"1420\" y=\"-632.8\" font-family=\"Helvetica,sans-Serif\" font-size=\"14.00\" fill=\"#000000\">gini = 0.029</text>\n<text text-anchor=\"start\" x=\"1410\" y=\"-617.8\" font-family=\"Helvetica,sans-Serif\" font-size=\"14.00\" fill=\"#000000\">samples = 138</text>\n<text text-anchor=\"start\" x=\"1408\" y=\"-602.8\" font-family=\"Helvetica,sans-Serif\" font-size=\"14.00\" fill=\"#000000\">value = [136, 2]</text>\n<text text-anchor=\"start\" x=\"1401.5\" y=\"-587.8\" font-family=\"Helvetica,sans-Serif\" font-size=\"14.00\" fill=\"#000000\">class = malignant</text>\n</g>\n<!-- 22&#45;&gt;28 -->\n<g id=\"edge28\" class=\"edge\">\n<title>22&#45;&gt;28</title>\n<path fill=\"none\" stroke=\"#000000\" d=\"M1288.2851,-698.8796C1310.6369,-688.6886 1334.6806,-677.7261 1357.4401,-667.3492\"/>\n<polygon fill=\"#000000\" stroke=\"#000000\" points=\"1359.1195,-670.4301 1366.7664,-663.0969 1356.2155,-664.0609 1359.1195,-670.4301\"/>\n</g>\n<!-- 24 -->\n<g id=\"node25\" class=\"node\">\n<title>24</title>\n<path fill=\"#65b3eb\" stroke=\"#000000\" d=\"M1216.5,-544C1216.5,-544 1079.5,-544 1079.5,-544 1073.5,-544 1067.5,-538 1067.5,-532 1067.5,-532 1067.5,-473 1067.5,-473 1067.5,-467 1073.5,-461 1079.5,-461 1079.5,-461 1216.5,-461 1216.5,-461 1222.5,-461 1228.5,-467 1228.5,-473 1228.5,-473 1228.5,-532 1228.5,-532 1228.5,-538 1222.5,-544 1216.5,-544\"/>\n<text text-anchor=\"start\" x=\"1075.5\" y=\"-528.8\" font-family=\"Helvetica,sans-Serif\" font-size=\"14.00\" fill=\"#000000\">mean texture ≤ 21.055</text>\n<text text-anchor=\"start\" x=\"1110\" y=\"-513.8\" font-family=\"Helvetica,sans-Serif\" font-size=\"14.00\" fill=\"#000000\">gini = 0.298</text>\n<text text-anchor=\"start\" x=\"1104\" y=\"-498.8\" font-family=\"Helvetica,sans-Serif\" font-size=\"14.00\" fill=\"#000000\">samples = 22</text>\n<text text-anchor=\"start\" x=\"1102.5\" y=\"-483.8\" font-family=\"Helvetica,sans-Serif\" font-size=\"14.00\" fill=\"#000000\">value = [4, 18]</text>\n<text text-anchor=\"start\" x=\"1101\" y=\"-468.8\" font-family=\"Helvetica,sans-Serif\" font-size=\"14.00\" fill=\"#000000\">class = benign</text>\n</g>\n<!-- 23&#45;&gt;24 -->\n<g id=\"edge24\" class=\"edge\">\n<title>23&#45;&gt;24</title>\n<path fill=\"none\" stroke=\"#000000\" d=\"M1179.8622,-579.8796C1176.3762,-571.4136 1172.671,-562.4153 1169.0669,-553.6626\"/>\n<polygon fill=\"#000000\" stroke=\"#000000\" points=\"1172.2549,-552.2122 1165.211,-544.2981 1165.7822,-554.8775 1172.2549,-552.2122\"/>\n</g>\n<!-- 27 -->\n<g id=\"node28\" class=\"node\">\n<title>27</title>\n<path fill=\"#e58139\" stroke=\"#000000\" d=\"M1363.5,-536.5C1363.5,-536.5 1258.5,-536.5 1258.5,-536.5 1252.5,-536.5 1246.5,-530.5 1246.5,-524.5 1246.5,-524.5 1246.5,-480.5 1246.5,-480.5 1246.5,-474.5 1252.5,-468.5 1258.5,-468.5 1258.5,-468.5 1363.5,-468.5 1363.5,-468.5 1369.5,-468.5 1375.5,-474.5 1375.5,-480.5 1375.5,-480.5 1375.5,-524.5 1375.5,-524.5 1375.5,-530.5 1369.5,-536.5 1363.5,-536.5\"/>\n<text text-anchor=\"start\" x=\"1281.5\" y=\"-521.3\" font-family=\"Helvetica,sans-Serif\" font-size=\"14.00\" fill=\"#000000\">gini = 0.0</text>\n<text text-anchor=\"start\" x=\"1267\" y=\"-506.3\" font-family=\"Helvetica,sans-Serif\" font-size=\"14.00\" fill=\"#000000\">samples = 13</text>\n<text text-anchor=\"start\" x=\"1265.5\" y=\"-491.3\" font-family=\"Helvetica,sans-Serif\" font-size=\"14.00\" fill=\"#000000\">value = [13, 0]</text>\n<text text-anchor=\"start\" x=\"1254.5\" y=\"-476.3\" font-family=\"Helvetica,sans-Serif\" font-size=\"14.00\" fill=\"#000000\">class = malignant</text>\n</g>\n<!-- 23&#45;&gt;27 -->\n<g id=\"edge27\" class=\"edge\">\n<title>23&#45;&gt;27</title>\n<path fill=\"none\" stroke=\"#000000\" d=\"M1236.8717,-579.8796C1247.9324,-568.3337 1259.9418,-555.7976 1271.0094,-544.2446\"/>\n<polygon fill=\"#000000\" stroke=\"#000000\" points=\"1273.7365,-546.4573 1278.1269,-536.8149 1268.6817,-541.6149 1273.7365,-546.4573\"/>\n</g>\n<!-- 25 -->\n<g id=\"node26\" class=\"node\">\n<title>25</title>\n<path fill=\"#399de5\" stroke=\"#000000\" d=\"M1190,-417.5C1190,-417.5 1104,-417.5 1104,-417.5 1098,-417.5 1092,-411.5 1092,-405.5 1092,-405.5 1092,-361.5 1092,-361.5 1092,-355.5 1098,-349.5 1104,-349.5 1104,-349.5 1190,-349.5 1190,-349.5 1196,-349.5 1202,-355.5 1202,-361.5 1202,-361.5 1202,-405.5 1202,-405.5 1202,-411.5 1196,-417.5 1190,-417.5\"/>\n<text text-anchor=\"start\" x=\"1117.5\" y=\"-402.3\" font-family=\"Helvetica,sans-Serif\" font-size=\"14.00\" fill=\"#000000\">gini = 0.0</text>\n<text text-anchor=\"start\" x=\"1103\" y=\"-387.3\" font-family=\"Helvetica,sans-Serif\" font-size=\"14.00\" fill=\"#000000\">samples = 18</text>\n<text text-anchor=\"start\" x=\"1101.5\" y=\"-372.3\" font-family=\"Helvetica,sans-Serif\" font-size=\"14.00\" fill=\"#000000\">value = [0, 18]</text>\n<text text-anchor=\"start\" x=\"1100\" y=\"-357.3\" font-family=\"Helvetica,sans-Serif\" font-size=\"14.00\" fill=\"#000000\">class = benign</text>\n</g>\n<!-- 24&#45;&gt;25 -->\n<g id=\"edge25\" class=\"edge\">\n<title>24&#45;&gt;25</title>\n<path fill=\"none\" stroke=\"#000000\" d=\"M1147.6502,-460.8796C1147.5606,-450.2134 1147.4639,-438.7021 1147.3731,-427.9015\"/>\n<polygon fill=\"#000000\" stroke=\"#000000\" points=\"1150.8724,-427.7851 1147.2884,-417.8149 1143.8726,-427.844 1150.8724,-427.7851\"/>\n</g>\n<!-- 26 -->\n<g id=\"node27\" class=\"node\">\n<title>26</title>\n<path fill=\"#e58139\" stroke=\"#000000\" d=\"M1337.5,-417.5C1337.5,-417.5 1232.5,-417.5 1232.5,-417.5 1226.5,-417.5 1220.5,-411.5 1220.5,-405.5 1220.5,-405.5 1220.5,-361.5 1220.5,-361.5 1220.5,-355.5 1226.5,-349.5 1232.5,-349.5 1232.5,-349.5 1337.5,-349.5 1337.5,-349.5 1343.5,-349.5 1349.5,-355.5 1349.5,-361.5 1349.5,-361.5 1349.5,-405.5 1349.5,-405.5 1349.5,-411.5 1343.5,-417.5 1337.5,-417.5\"/>\n<text text-anchor=\"start\" x=\"1255.5\" y=\"-402.3\" font-family=\"Helvetica,sans-Serif\" font-size=\"14.00\" fill=\"#000000\">gini = 0.0</text>\n<text text-anchor=\"start\" x=\"1245.5\" y=\"-387.3\" font-family=\"Helvetica,sans-Serif\" font-size=\"14.00\" fill=\"#000000\">samples = 4</text>\n<text text-anchor=\"start\" x=\"1243.5\" y=\"-372.3\" font-family=\"Helvetica,sans-Serif\" font-size=\"14.00\" fill=\"#000000\">value = [4, 0]</text>\n<text text-anchor=\"start\" x=\"1228.5\" y=\"-357.3\" font-family=\"Helvetica,sans-Serif\" font-size=\"14.00\" fill=\"#000000\">class = malignant</text>\n</g>\n<!-- 24&#45;&gt;26 -->\n<g id=\"edge26\" class=\"edge\">\n<title>24&#45;&gt;26</title>\n<path fill=\"none\" stroke=\"#000000\" d=\"M1195.916,-460.8796C1209.4615,-449.1138 1224.1908,-436.3197 1237.6998,-424.5855\"/>\n<polygon fill=\"#000000\" stroke=\"#000000\" points=\"1240.2401,-427.015 1245.4946,-417.8149 1235.6497,-421.7303 1240.2401,-427.015\"/>\n</g>\n<!-- 29 -->\n<g id=\"node30\" class=\"node\">\n<title>29</title>\n<path fill=\"#e58139\" stroke=\"#000000\" d=\"M1510.5,-536.5C1510.5,-536.5 1405.5,-536.5 1405.5,-536.5 1399.5,-536.5 1393.5,-530.5 1393.5,-524.5 1393.5,-524.5 1393.5,-480.5 1393.5,-480.5 1393.5,-474.5 1399.5,-468.5 1405.5,-468.5 1405.5,-468.5 1510.5,-468.5 1510.5,-468.5 1516.5,-468.5 1522.5,-474.5 1522.5,-480.5 1522.5,-480.5 1522.5,-524.5 1522.5,-524.5 1522.5,-530.5 1516.5,-536.5 1510.5,-536.5\"/>\n<text text-anchor=\"start\" x=\"1428.5\" y=\"-521.3\" font-family=\"Helvetica,sans-Serif\" font-size=\"14.00\" fill=\"#000000\">gini = 0.0</text>\n<text text-anchor=\"start\" x=\"1410\" y=\"-506.3\" font-family=\"Helvetica,sans-Serif\" font-size=\"14.00\" fill=\"#000000\">samples = 136</text>\n<text text-anchor=\"start\" x=\"1408\" y=\"-491.3\" font-family=\"Helvetica,sans-Serif\" font-size=\"14.00\" fill=\"#000000\">value = [136, 0]</text>\n<text text-anchor=\"start\" x=\"1401.5\" y=\"-476.3\" font-family=\"Helvetica,sans-Serif\" font-size=\"14.00\" fill=\"#000000\">class = malignant</text>\n</g>\n<!-- 28&#45;&gt;29 -->\n<g id=\"edge29\" class=\"edge\">\n<title>28&#45;&gt;29</title>\n<path fill=\"none\" stroke=\"#000000\" d=\"M1458,-579.8796C1458,-569.2134 1458,-557.7021 1458,-546.9015\"/>\n<polygon fill=\"#000000\" stroke=\"#000000\" points=\"1461.5001,-546.8149 1458,-536.8149 1454.5001,-546.815 1461.5001,-546.8149\"/>\n</g>\n<!-- 30 -->\n<g id=\"node31\" class=\"node\">\n<title>30</title>\n<path fill=\"#399de5\" stroke=\"#000000\" d=\"M1639,-536.5C1639,-536.5 1553,-536.5 1553,-536.5 1547,-536.5 1541,-530.5 1541,-524.5 1541,-524.5 1541,-480.5 1541,-480.5 1541,-474.5 1547,-468.5 1553,-468.5 1553,-468.5 1639,-468.5 1639,-468.5 1645,-468.5 1651,-474.5 1651,-480.5 1651,-480.5 1651,-524.5 1651,-524.5 1651,-530.5 1645,-536.5 1639,-536.5\"/>\n<text text-anchor=\"start\" x=\"1566.5\" y=\"-521.3\" font-family=\"Helvetica,sans-Serif\" font-size=\"14.00\" fill=\"#000000\">gini = 0.0</text>\n<text text-anchor=\"start\" x=\"1556.5\" y=\"-506.3\" font-family=\"Helvetica,sans-Serif\" font-size=\"14.00\" fill=\"#000000\">samples = 2</text>\n<text text-anchor=\"start\" x=\"1554.5\" y=\"-491.3\" font-family=\"Helvetica,sans-Serif\" font-size=\"14.00\" fill=\"#000000\">value = [0, 2]</text>\n<text text-anchor=\"start\" x=\"1549\" y=\"-476.3\" font-family=\"Helvetica,sans-Serif\" font-size=\"14.00\" fill=\"#000000\">class = benign</text>\n</g>\n<!-- 28&#45;&gt;30 -->\n<g id=\"edge30\" class=\"edge\">\n<title>28&#45;&gt;30</title>\n<path fill=\"none\" stroke=\"#000000\" d=\"M1506.2657,-579.8796C1519.9101,-568.1138 1534.7469,-555.3197 1548.3546,-543.5855\"/>\n<polygon fill=\"#000000\" stroke=\"#000000\" points=\"1550.9187,-545.9961 1556.2062,-536.8149 1546.3473,-540.6948 1550.9187,-545.9961\"/>\n</g>\n</g>\n</svg>\n"
          },
          "metadata": {},
          "execution_count": 11
        }
      ],
      "source": [
        "# visualisasi tree\n",
        "dot_data = export_graphviz(bc_decision_tree, out_file=None,\n",
        "                           feature_names=breast_cancer.feature_names,\n",
        "                           class_names=breast_cancer.target_names,\n",
        "                           filled=True, rounded=True, special_characters=True)\n",
        "graph = graphviz.Source(dot_data)\n",
        "graph"
      ]
    },
    {
      "cell_type": "code",
      "execution_count": 12,
      "id": "829e9581",
      "metadata": {
        "id": "829e9581",
        "colab": {
          "base_uri": "https://localhost:8080/"
        },
        "outputId": "ed2c31a5-4f5b-4db4-9f7e-5812b1a6c181"
      },
      "outputs": [
        {
          "output_type": "stream",
          "name": "stdout",
          "text": [
            "Evaluasi hasil prediksi menggunakan metric Accuracy: 0.9473684210526315\n",
            "Evaluasi hasil prediksi menggunakan metric F1: 0.9577464788732394\n"
          ]
        }
      ],
      "source": [
        "# Memprediksi hasil dari model\n",
        "y_bc_pred = bc_decision_tree.predict(X_bc_test)\n",
        "\n",
        "# Mengevaluasi hasil prediksi\n",
        "# Menggunakan metric Accuracy\n",
        "print(\"Evaluasi hasil prediksi menggunakan metric Accuracy: {}\".format(accuracy_score(y_bc_test, y_bc_pred)))\n",
        "\n",
        "# Menggunakan metric F1\n",
        "print(\"Evaluasi hasil prediksi menggunakan metric F1: {}\".format(f1_score(y_bc_test, y_bc_pred)))"
      ]
    },
    {
      "cell_type": "markdown",
      "id": "03bb262a",
      "metadata": {
        "id": "03bb262a"
      },
      "source": [
        "#### 2. Dataset Play Tennis"
      ]
    },
    {
      "cell_type": "code",
      "execution_count": 13,
      "id": "aafbc49f",
      "metadata": {
        "id": "aafbc49f",
        "colab": {
          "base_uri": "https://localhost:8080/"
        },
        "outputId": "ec22b3eb-28f8-48d2-b170-1e2e7ed1f217"
      },
      "outputs": [
        {
          "output_type": "stream",
          "name": "stdout",
          "text": [
            "|--- Outlook <= 0.50\n",
            "|   |--- class: 1\n",
            "|--- Outlook >  0.50\n",
            "|   |--- Humidity <= 0.50\n",
            "|   |   |--- Wind <= 0.50\n",
            "|   |   |   |--- class: 0\n",
            "|   |   |--- Wind >  0.50\n",
            "|   |   |   |--- Outlook <= 1.50\n",
            "|   |   |   |   |--- class: 1\n",
            "|   |   |   |--- Outlook >  1.50\n",
            "|   |   |   |   |--- class: 0\n",
            "|   |--- Humidity >  0.50\n",
            "|   |   |--- Wind <= 0.50\n",
            "|   |   |   |--- Outlook <= 1.50\n",
            "|   |   |   |   |--- class: 0\n",
            "|   |   |   |--- Outlook >  1.50\n",
            "|   |   |   |   |--- class: 1\n",
            "|   |   |--- Wind >  0.50\n",
            "|   |   |   |--- class: 1\n",
            "\n"
          ]
        }
      ],
      "source": [
        "pt_decision_tree = DecisionTreeClassifier(random_state=42)\n",
        "pt_decision_tree.fit(X_pt_train, y_pt_train)\n",
        "\n",
        "res = export_text(pt_decision_tree, feature_names=['Outlook', 'Temperature', 'Humidity', 'Wind'])\n",
        "print(res)"
      ]
    },
    {
      "cell_type": "code",
      "execution_count": 14,
      "id": "321c46a9",
      "metadata": {
        "id": "321c46a9",
        "colab": {
          "base_uri": "https://localhost:8080/"
        },
        "outputId": "2838a72d-eb93-4139-adc7-b197eca1e142"
      },
      "outputs": [
        {
          "output_type": "stream",
          "name": "stdout",
          "text": [
            "Evaluasi hasil prediksi menggunakan metric Accuracy: 1.0\n",
            "Evaluasi hasil prediksi menggunakan metric F1: 1.0\n"
          ]
        }
      ],
      "source": [
        "# Memprediksi hasil dari model\n",
        "y_pt_pred = pt_decision_tree.predict(X_pt_test)\n",
        "\n",
        "# Mengevaluasi hasil prediksi\n",
        "# Menggunakan metric Accuracy\n",
        "print(\"Evaluasi hasil prediksi menggunakan metric Accuracy: {}\".format(accuracy_score(y_pt_test, y_pt_pred)))\n",
        "\n",
        "# Menggunakan metric F1\n",
        "print(\"Evaluasi hasil prediksi menggunakan metric F1: {}\".format(f1_score(y_pt_test, y_pt_pred)))"
      ]
    },
    {
      "cell_type": "code",
      "source": [
        "# visualisasi tree\n",
        "dot_data = export_graphviz(pt_decision_tree, out_file=None,\n",
        "                           feature_names=df_play_tennis.columns.tolist()[:-1],\n",
        "                           class_names=df_play_tennis.columns.tolist()[-1],\n",
        "                           filled=True, rounded=True, special_characters=True)\n",
        "graph = graphviz.Source(dot_data)\n",
        "graph"
      ],
      "metadata": {
        "colab": {
          "base_uri": "https://localhost:8080/",
          "height": 757
        },
        "id": "YXuc5Xl3xR2R",
        "outputId": "233dbad4-1569-4024-d018-4e1f559d4676"
      },
      "id": "YXuc5Xl3xR2R",
      "execution_count": 15,
      "outputs": [
        {
          "output_type": "execute_result",
          "data": {
            "text/plain": [
              "<graphviz.files.Source at 0x7f4201652ed0>"
            ],
            "image/svg+xml": "<?xml version=\"1.0\" encoding=\"UTF-8\" standalone=\"no\"?>\n<!DOCTYPE svg PUBLIC \"-//W3C//DTD SVG 1.1//EN\"\n \"http://www.w3.org/Graphics/SVG/1.1/DTD/svg11.dtd\">\n<!-- Generated by graphviz version 2.40.1 (20161225.0304)\n -->\n<!-- Title: Tree Pages: 1 -->\n<svg width=\"465pt\" height=\"552pt\"\n viewBox=\"0.00 0.00 465.00 552.00\" xmlns=\"http://www.w3.org/2000/svg\" xmlns:xlink=\"http://www.w3.org/1999/xlink\">\n<g id=\"graph0\" class=\"graph\" transform=\"scale(1 1) rotate(0) translate(4 548)\">\n<title>Tree</title>\n<polygon fill=\"#ffffff\" stroke=\"transparent\" points=\"-4,4 -4,-548 461,-548 461,4 -4,4\"/>\n<!-- 0 -->\n<g id=\"node1\" class=\"node\">\n<title>0</title>\n<path fill=\"#aad5f4\" stroke=\"#000000\" d=\"M207.5,-544C207.5,-544 127.5,-544 127.5,-544 121.5,-544 115.5,-538 115.5,-532 115.5,-532 115.5,-473 115.5,-473 115.5,-467 121.5,-461 127.5,-461 127.5,-461 207.5,-461 207.5,-461 213.5,-461 219.5,-467 219.5,-473 219.5,-473 219.5,-532 219.5,-532 219.5,-538 213.5,-544 207.5,-544\"/>\n<text text-anchor=\"start\" x=\"124.5\" y=\"-528.8\" font-family=\"Helvetica,sans-Serif\" font-size=\"14.00\" fill=\"#000000\">Outlook ≤ 0.5</text>\n<text text-anchor=\"start\" x=\"129.5\" y=\"-513.8\" font-family=\"Helvetica,sans-Serif\" font-size=\"14.00\" fill=\"#000000\">gini = 0.463</text>\n<text text-anchor=\"start\" x=\"123.5\" y=\"-498.8\" font-family=\"Helvetica,sans-Serif\" font-size=\"14.00\" fill=\"#000000\">samples = 11</text>\n<text text-anchor=\"start\" x=\"126\" y=\"-483.8\" font-family=\"Helvetica,sans-Serif\" font-size=\"14.00\" fill=\"#000000\">value = [4, 7]</text>\n<text text-anchor=\"start\" x=\"141\" y=\"-468.8\" font-family=\"Helvetica,sans-Serif\" font-size=\"14.00\" fill=\"#000000\">class = l</text>\n</g>\n<!-- 1 -->\n<g id=\"node2\" class=\"node\">\n<title>1</title>\n<path fill=\"#399de5\" stroke=\"#000000\" d=\"M144,-417.5C144,-417.5 69,-417.5 69,-417.5 63,-417.5 57,-411.5 57,-405.5 57,-405.5 57,-361.5 57,-361.5 57,-355.5 63,-349.5 69,-349.5 69,-349.5 144,-349.5 144,-349.5 150,-349.5 156,-355.5 156,-361.5 156,-361.5 156,-405.5 156,-405.5 156,-411.5 150,-417.5 144,-417.5\"/>\n<text text-anchor=\"start\" x=\"77\" y=\"-402.3\" font-family=\"Helvetica,sans-Serif\" font-size=\"14.00\" fill=\"#000000\">gini = 0.0</text>\n<text text-anchor=\"start\" x=\"67\" y=\"-387.3\" font-family=\"Helvetica,sans-Serif\" font-size=\"14.00\" fill=\"#000000\">samples = 3</text>\n<text text-anchor=\"start\" x=\"65\" y=\"-372.3\" font-family=\"Helvetica,sans-Serif\" font-size=\"14.00\" fill=\"#000000\">value = [0, 3]</text>\n<text text-anchor=\"start\" x=\"80\" y=\"-357.3\" font-family=\"Helvetica,sans-Serif\" font-size=\"14.00\" fill=\"#000000\">class = l</text>\n</g>\n<!-- 0&#45;&gt;1 -->\n<g id=\"edge1\" class=\"edge\">\n<title>0&#45;&gt;1</title>\n<path fill=\"none\" stroke=\"#000000\" d=\"M146.1652,-460.8796C140.5285,-449.8835 134.4315,-437.9893 128.7478,-426.9015\"/>\n<polygon fill=\"#000000\" stroke=\"#000000\" points=\"131.7663,-425.1173 124.09,-417.8149 125.5371,-428.3105 131.7663,-425.1173\"/>\n<text text-anchor=\"middle\" x=\"116.4227\" y=\"-437.9101\" font-family=\"Helvetica,sans-Serif\" font-size=\"14.00\" fill=\"#000000\">True</text>\n</g>\n<!-- 2 -->\n<g id=\"node3\" class=\"node\">\n<title>2</title>\n<path fill=\"#ffffff\" stroke=\"#000000\" d=\"M270.5,-425C270.5,-425 186.5,-425 186.5,-425 180.5,-425 174.5,-419 174.5,-413 174.5,-413 174.5,-354 174.5,-354 174.5,-348 180.5,-342 186.5,-342 186.5,-342 270.5,-342 270.5,-342 276.5,-342 282.5,-348 282.5,-354 282.5,-354 282.5,-413 282.5,-413 282.5,-419 276.5,-425 270.5,-425\"/>\n<text text-anchor=\"start\" x=\"182.5\" y=\"-409.8\" font-family=\"Helvetica,sans-Serif\" font-size=\"14.00\" fill=\"#000000\">Humidity ≤ 0.5</text>\n<text text-anchor=\"start\" x=\"199\" y=\"-394.8\" font-family=\"Helvetica,sans-Serif\" font-size=\"14.00\" fill=\"#000000\">gini = 0.5</text>\n<text text-anchor=\"start\" x=\"189\" y=\"-379.8\" font-family=\"Helvetica,sans-Serif\" font-size=\"14.00\" fill=\"#000000\">samples = 8</text>\n<text text-anchor=\"start\" x=\"187\" y=\"-364.8\" font-family=\"Helvetica,sans-Serif\" font-size=\"14.00\" fill=\"#000000\">value = [4, 4]</text>\n<text text-anchor=\"start\" x=\"198.5\" y=\"-349.8\" font-family=\"Helvetica,sans-Serif\" font-size=\"14.00\" fill=\"#000000\">class = P</text>\n</g>\n<!-- 0&#45;&gt;2 -->\n<g id=\"edge2\" class=\"edge\">\n<title>0&#45;&gt;2</title>\n<path fill=\"none\" stroke=\"#000000\" d=\"M188.8348,-460.8796C193.2207,-452.3236 197.8853,-443.2238 202.417,-434.3833\"/>\n<polygon fill=\"#000000\" stroke=\"#000000\" points=\"205.627,-435.7936 207.0741,-425.2981 199.3978,-432.6004 205.627,-435.7936\"/>\n<text text-anchor=\"middle\" x=\"214.7414\" y=\"-445.3933\" font-family=\"Helvetica,sans-Serif\" font-size=\"14.00\" fill=\"#000000\">False</text>\n</g>\n<!-- 3 -->\n<g id=\"node4\" class=\"node\">\n<title>3</title>\n<path fill=\"#eeab7b\" stroke=\"#000000\" d=\"M206,-306C206,-306 131,-306 131,-306 125,-306 119,-300 119,-294 119,-294 119,-235 119,-235 119,-229 125,-223 131,-223 131,-223 206,-223 206,-223 212,-223 218,-229 218,-235 218,-235 218,-294 218,-294 218,-300 212,-306 206,-306\"/>\n<text text-anchor=\"start\" x=\"134\" y=\"-290.8\" font-family=\"Helvetica,sans-Serif\" font-size=\"14.00\" fill=\"#000000\">Wind ≤ 0.5</text>\n<text text-anchor=\"start\" x=\"130.5\" y=\"-275.8\" font-family=\"Helvetica,sans-Serif\" font-size=\"14.00\" fill=\"#000000\">gini = 0.375</text>\n<text text-anchor=\"start\" x=\"129\" y=\"-260.8\" font-family=\"Helvetica,sans-Serif\" font-size=\"14.00\" fill=\"#000000\">samples = 4</text>\n<text text-anchor=\"start\" x=\"127\" y=\"-245.8\" font-family=\"Helvetica,sans-Serif\" font-size=\"14.00\" fill=\"#000000\">value = [3, 1]</text>\n<text text-anchor=\"start\" x=\"138.5\" y=\"-230.8\" font-family=\"Helvetica,sans-Serif\" font-size=\"14.00\" fill=\"#000000\">class = P</text>\n</g>\n<!-- 2&#45;&gt;3 -->\n<g id=\"edge3\" class=\"edge\">\n<title>2&#45;&gt;3</title>\n<path fill=\"none\" stroke=\"#000000\" d=\"M207.5149,-341.8796C203.201,-333.3236 198.6128,-324.2238 194.1554,-315.3833\"/>\n<polygon fill=\"#000000\" stroke=\"#000000\" points=\"197.2021,-313.6515 189.5747,-306.2981 190.9516,-316.8031 197.2021,-313.6515\"/>\n</g>\n<!-- 8 -->\n<g id=\"node9\" class=\"node\">\n<title>8</title>\n<path fill=\"#7bbeee\" stroke=\"#000000\" d=\"M326,-306C326,-306 251,-306 251,-306 245,-306 239,-300 239,-294 239,-294 239,-235 239,-235 239,-229 245,-223 251,-223 251,-223 326,-223 326,-223 332,-223 338,-229 338,-235 338,-235 338,-294 338,-294 338,-300 332,-306 326,-306\"/>\n<text text-anchor=\"start\" x=\"254\" y=\"-290.8\" font-family=\"Helvetica,sans-Serif\" font-size=\"14.00\" fill=\"#000000\">Wind ≤ 0.5</text>\n<text text-anchor=\"start\" x=\"250.5\" y=\"-275.8\" font-family=\"Helvetica,sans-Serif\" font-size=\"14.00\" fill=\"#000000\">gini = 0.375</text>\n<text text-anchor=\"start\" x=\"249\" y=\"-260.8\" font-family=\"Helvetica,sans-Serif\" font-size=\"14.00\" fill=\"#000000\">samples = 4</text>\n<text text-anchor=\"start\" x=\"247\" y=\"-245.8\" font-family=\"Helvetica,sans-Serif\" font-size=\"14.00\" fill=\"#000000\">value = [1, 3]</text>\n<text text-anchor=\"start\" x=\"262\" y=\"-230.8\" font-family=\"Helvetica,sans-Serif\" font-size=\"14.00\" fill=\"#000000\">class = l</text>\n</g>\n<!-- 2&#45;&gt;8 -->\n<g id=\"edge8\" class=\"edge\">\n<title>2&#45;&gt;8</title>\n<path fill=\"none\" stroke=\"#000000\" d=\"M249.4851,-341.8796C253.799,-333.3236 258.3872,-324.2238 262.8446,-315.3833\"/>\n<polygon fill=\"#000000\" stroke=\"#000000\" points=\"266.0484,-316.8031 267.4253,-306.2981 259.7979,-313.6515 266.0484,-316.8031\"/>\n</g>\n<!-- 4 -->\n<g id=\"node5\" class=\"node\">\n<title>4</title>\n<path fill=\"#e58139\" stroke=\"#000000\" d=\"M87,-179.5C87,-179.5 12,-179.5 12,-179.5 6,-179.5 0,-173.5 0,-167.5 0,-167.5 0,-123.5 0,-123.5 0,-117.5 6,-111.5 12,-111.5 12,-111.5 87,-111.5 87,-111.5 93,-111.5 99,-117.5 99,-123.5 99,-123.5 99,-167.5 99,-167.5 99,-173.5 93,-179.5 87,-179.5\"/>\n<text text-anchor=\"start\" x=\"20\" y=\"-164.3\" font-family=\"Helvetica,sans-Serif\" font-size=\"14.00\" fill=\"#000000\">gini = 0.0</text>\n<text text-anchor=\"start\" x=\"10\" y=\"-149.3\" font-family=\"Helvetica,sans-Serif\" font-size=\"14.00\" fill=\"#000000\">samples = 2</text>\n<text text-anchor=\"start\" x=\"8\" y=\"-134.3\" font-family=\"Helvetica,sans-Serif\" font-size=\"14.00\" fill=\"#000000\">value = [2, 0]</text>\n<text text-anchor=\"start\" x=\"19.5\" y=\"-119.3\" font-family=\"Helvetica,sans-Serif\" font-size=\"14.00\" fill=\"#000000\">class = P</text>\n</g>\n<!-- 3&#45;&gt;4 -->\n<g id=\"edge4\" class=\"edge\">\n<title>3&#45;&gt;4</title>\n<path fill=\"none\" stroke=\"#000000\" d=\"M126.8796,-222.8796C115.2237,-211.2237 102.5587,-198.5587 90.9148,-186.9148\"/>\n<polygon fill=\"#000000\" stroke=\"#000000\" points=\"93.3609,-184.4111 83.8149,-179.8149 88.4111,-189.3609 93.3609,-184.4111\"/>\n</g>\n<!-- 5 -->\n<g id=\"node6\" class=\"node\">\n<title>5</title>\n<path fill=\"#ffffff\" stroke=\"#000000\" d=\"M207.5,-187C207.5,-187 129.5,-187 129.5,-187 123.5,-187 117.5,-181 117.5,-175 117.5,-175 117.5,-116 117.5,-116 117.5,-110 123.5,-104 129.5,-104 129.5,-104 207.5,-104 207.5,-104 213.5,-104 219.5,-110 219.5,-116 219.5,-116 219.5,-175 219.5,-175 219.5,-181 213.5,-187 207.5,-187\"/>\n<text text-anchor=\"start\" x=\"125.5\" y=\"-171.8\" font-family=\"Helvetica,sans-Serif\" font-size=\"14.00\" fill=\"#000000\">Outlook ≤ 1.5</text>\n<text text-anchor=\"start\" x=\"139\" y=\"-156.8\" font-family=\"Helvetica,sans-Serif\" font-size=\"14.00\" fill=\"#000000\">gini = 0.5</text>\n<text text-anchor=\"start\" x=\"129\" y=\"-141.8\" font-family=\"Helvetica,sans-Serif\" font-size=\"14.00\" fill=\"#000000\">samples = 2</text>\n<text text-anchor=\"start\" x=\"127\" y=\"-126.8\" font-family=\"Helvetica,sans-Serif\" font-size=\"14.00\" fill=\"#000000\">value = [1, 1]</text>\n<text text-anchor=\"start\" x=\"138.5\" y=\"-111.8\" font-family=\"Helvetica,sans-Serif\" font-size=\"14.00\" fill=\"#000000\">class = P</text>\n</g>\n<!-- 3&#45;&gt;5 -->\n<g id=\"edge5\" class=\"edge\">\n<title>3&#45;&gt;5</title>\n<path fill=\"none\" stroke=\"#000000\" d=\"M168.5,-222.8796C168.5,-214.6838 168.5,-205.9891 168.5,-197.5013\"/>\n<polygon fill=\"#000000\" stroke=\"#000000\" points=\"172.0001,-197.298 168.5,-187.2981 165.0001,-197.2981 172.0001,-197.298\"/>\n</g>\n<!-- 6 -->\n<g id=\"node7\" class=\"node\">\n<title>6</title>\n<path fill=\"#399de5\" stroke=\"#000000\" d=\"M90,-68C90,-68 15,-68 15,-68 9,-68 3,-62 3,-56 3,-56 3,-12 3,-12 3,-6 9,0 15,0 15,0 90,0 90,0 96,0 102,-6 102,-12 102,-12 102,-56 102,-56 102,-62 96,-68 90,-68\"/>\n<text text-anchor=\"start\" x=\"23\" y=\"-52.8\" font-family=\"Helvetica,sans-Serif\" font-size=\"14.00\" fill=\"#000000\">gini = 0.0</text>\n<text text-anchor=\"start\" x=\"13\" y=\"-37.8\" font-family=\"Helvetica,sans-Serif\" font-size=\"14.00\" fill=\"#000000\">samples = 1</text>\n<text text-anchor=\"start\" x=\"11\" y=\"-22.8\" font-family=\"Helvetica,sans-Serif\" font-size=\"14.00\" fill=\"#000000\">value = [0, 1]</text>\n<text text-anchor=\"start\" x=\"26\" y=\"-7.8\" font-family=\"Helvetica,sans-Serif\" font-size=\"14.00\" fill=\"#000000\">class = l</text>\n</g>\n<!-- 5&#45;&gt;6 -->\n<g id=\"edge6\" class=\"edge\">\n<title>5&#45;&gt;6</title>\n<path fill=\"none\" stroke=\"#000000\" d=\"M125.3059,-103.9815C115.5531,-94.607 105.2017,-84.6572 95.4586,-75.2921\"/>\n<polygon fill=\"#000000\" stroke=\"#000000\" points=\"97.7815,-72.6702 88.1465,-68.2637 92.9306,-77.7169 97.7815,-72.6702\"/>\n</g>\n<!-- 7 -->\n<g id=\"node8\" class=\"node\">\n<title>7</title>\n<path fill=\"#e58139\" stroke=\"#000000\" d=\"M207,-68C207,-68 132,-68 132,-68 126,-68 120,-62 120,-56 120,-56 120,-12 120,-12 120,-6 126,0 132,0 132,0 207,0 207,0 213,0 219,-6 219,-12 219,-12 219,-56 219,-56 219,-62 213,-68 207,-68\"/>\n<text text-anchor=\"start\" x=\"140\" y=\"-52.8\" font-family=\"Helvetica,sans-Serif\" font-size=\"14.00\" fill=\"#000000\">gini = 0.0</text>\n<text text-anchor=\"start\" x=\"130\" y=\"-37.8\" font-family=\"Helvetica,sans-Serif\" font-size=\"14.00\" fill=\"#000000\">samples = 1</text>\n<text text-anchor=\"start\" x=\"128\" y=\"-22.8\" font-family=\"Helvetica,sans-Serif\" font-size=\"14.00\" fill=\"#000000\">value = [1, 0]</text>\n<text text-anchor=\"start\" x=\"139.5\" y=\"-7.8\" font-family=\"Helvetica,sans-Serif\" font-size=\"14.00\" fill=\"#000000\">class = P</text>\n</g>\n<!-- 5&#45;&gt;7 -->\n<g id=\"edge7\" class=\"edge\">\n<title>5&#45;&gt;7</title>\n<path fill=\"none\" stroke=\"#000000\" d=\"M168.8724,-103.9815C168.9474,-95.618 169.0265,-86.7965 169.1023,-78.3409\"/>\n<polygon fill=\"#000000\" stroke=\"#000000\" points=\"172.6028,-78.2947 169.1927,-68.2637 165.6031,-78.2318 172.6028,-78.2947\"/>\n</g>\n<!-- 9 -->\n<g id=\"node10\" class=\"node\">\n<title>9</title>\n<path fill=\"#ffffff\" stroke=\"#000000\" d=\"M327.5,-187C327.5,-187 249.5,-187 249.5,-187 243.5,-187 237.5,-181 237.5,-175 237.5,-175 237.5,-116 237.5,-116 237.5,-110 243.5,-104 249.5,-104 249.5,-104 327.5,-104 327.5,-104 333.5,-104 339.5,-110 339.5,-116 339.5,-116 339.5,-175 339.5,-175 339.5,-181 333.5,-187 327.5,-187\"/>\n<text text-anchor=\"start\" x=\"245.5\" y=\"-171.8\" font-family=\"Helvetica,sans-Serif\" font-size=\"14.00\" fill=\"#000000\">Outlook ≤ 1.5</text>\n<text text-anchor=\"start\" x=\"259\" y=\"-156.8\" font-family=\"Helvetica,sans-Serif\" font-size=\"14.00\" fill=\"#000000\">gini = 0.5</text>\n<text text-anchor=\"start\" x=\"249\" y=\"-141.8\" font-family=\"Helvetica,sans-Serif\" font-size=\"14.00\" fill=\"#000000\">samples = 2</text>\n<text text-anchor=\"start\" x=\"247\" y=\"-126.8\" font-family=\"Helvetica,sans-Serif\" font-size=\"14.00\" fill=\"#000000\">value = [1, 1]</text>\n<text text-anchor=\"start\" x=\"258.5\" y=\"-111.8\" font-family=\"Helvetica,sans-Serif\" font-size=\"14.00\" fill=\"#000000\">class = P</text>\n</g>\n<!-- 8&#45;&gt;9 -->\n<g id=\"edge9\" class=\"edge\">\n<title>8&#45;&gt;9</title>\n<path fill=\"none\" stroke=\"#000000\" d=\"M288.5,-222.8796C288.5,-214.6838 288.5,-205.9891 288.5,-197.5013\"/>\n<polygon fill=\"#000000\" stroke=\"#000000\" points=\"292.0001,-197.298 288.5,-187.2981 285.0001,-197.2981 292.0001,-197.298\"/>\n</g>\n<!-- 12 -->\n<g id=\"node13\" class=\"node\">\n<title>12</title>\n<path fill=\"#399de5\" stroke=\"#000000\" d=\"M445,-179.5C445,-179.5 370,-179.5 370,-179.5 364,-179.5 358,-173.5 358,-167.5 358,-167.5 358,-123.5 358,-123.5 358,-117.5 364,-111.5 370,-111.5 370,-111.5 445,-111.5 445,-111.5 451,-111.5 457,-117.5 457,-123.5 457,-123.5 457,-167.5 457,-167.5 457,-173.5 451,-179.5 445,-179.5\"/>\n<text text-anchor=\"start\" x=\"378\" y=\"-164.3\" font-family=\"Helvetica,sans-Serif\" font-size=\"14.00\" fill=\"#000000\">gini = 0.0</text>\n<text text-anchor=\"start\" x=\"368\" y=\"-149.3\" font-family=\"Helvetica,sans-Serif\" font-size=\"14.00\" fill=\"#000000\">samples = 2</text>\n<text text-anchor=\"start\" x=\"366\" y=\"-134.3\" font-family=\"Helvetica,sans-Serif\" font-size=\"14.00\" fill=\"#000000\">value = [0, 2]</text>\n<text text-anchor=\"start\" x=\"381\" y=\"-119.3\" font-family=\"Helvetica,sans-Serif\" font-size=\"14.00\" fill=\"#000000\">class = l</text>\n</g>\n<!-- 8&#45;&gt;12 -->\n<g id=\"edge12\" class=\"edge\">\n<title>8&#45;&gt;12</title>\n<path fill=\"none\" stroke=\"#000000\" d=\"M330.1204,-222.8796C341.7763,-211.2237 354.4413,-198.5587 366.0852,-186.9148\"/>\n<polygon fill=\"#000000\" stroke=\"#000000\" points=\"368.5889,-189.3609 373.1851,-179.8149 363.6391,-184.4111 368.5889,-189.3609\"/>\n</g>\n<!-- 10 -->\n<g id=\"node11\" class=\"node\">\n<title>10</title>\n<path fill=\"#e58139\" stroke=\"#000000\" d=\"M325,-68C325,-68 250,-68 250,-68 244,-68 238,-62 238,-56 238,-56 238,-12 238,-12 238,-6 244,0 250,0 250,0 325,0 325,0 331,0 337,-6 337,-12 337,-12 337,-56 337,-56 337,-62 331,-68 325,-68\"/>\n<text text-anchor=\"start\" x=\"258\" y=\"-52.8\" font-family=\"Helvetica,sans-Serif\" font-size=\"14.00\" fill=\"#000000\">gini = 0.0</text>\n<text text-anchor=\"start\" x=\"248\" y=\"-37.8\" font-family=\"Helvetica,sans-Serif\" font-size=\"14.00\" fill=\"#000000\">samples = 1</text>\n<text text-anchor=\"start\" x=\"246\" y=\"-22.8\" font-family=\"Helvetica,sans-Serif\" font-size=\"14.00\" fill=\"#000000\">value = [1, 0]</text>\n<text text-anchor=\"start\" x=\"257.5\" y=\"-7.8\" font-family=\"Helvetica,sans-Serif\" font-size=\"14.00\" fill=\"#000000\">class = P</text>\n</g>\n<!-- 9&#45;&gt;10 -->\n<g id=\"edge10\" class=\"edge\">\n<title>9&#45;&gt;10</title>\n<path fill=\"none\" stroke=\"#000000\" d=\"M288.1276,-103.9815C288.0526,-95.618 287.9735,-86.7965 287.8977,-78.3409\"/>\n<polygon fill=\"#000000\" stroke=\"#000000\" points=\"291.3969,-78.2318 287.8073,-68.2637 284.3972,-78.2947 291.3969,-78.2318\"/>\n</g>\n<!-- 11 -->\n<g id=\"node12\" class=\"node\">\n<title>11</title>\n<path fill=\"#399de5\" stroke=\"#000000\" d=\"M442,-68C442,-68 367,-68 367,-68 361,-68 355,-62 355,-56 355,-56 355,-12 355,-12 355,-6 361,0 367,0 367,0 442,0 442,0 448,0 454,-6 454,-12 454,-12 454,-56 454,-56 454,-62 448,-68 442,-68\"/>\n<text text-anchor=\"start\" x=\"375\" y=\"-52.8\" font-family=\"Helvetica,sans-Serif\" font-size=\"14.00\" fill=\"#000000\">gini = 0.0</text>\n<text text-anchor=\"start\" x=\"365\" y=\"-37.8\" font-family=\"Helvetica,sans-Serif\" font-size=\"14.00\" fill=\"#000000\">samples = 1</text>\n<text text-anchor=\"start\" x=\"363\" y=\"-22.8\" font-family=\"Helvetica,sans-Serif\" font-size=\"14.00\" fill=\"#000000\">value = [0, 1]</text>\n<text text-anchor=\"start\" x=\"378\" y=\"-7.8\" font-family=\"Helvetica,sans-Serif\" font-size=\"14.00\" fill=\"#000000\">class = l</text>\n</g>\n<!-- 9&#45;&gt;11 -->\n<g id=\"edge11\" class=\"edge\">\n<title>9&#45;&gt;11</title>\n<path fill=\"none\" stroke=\"#000000\" d=\"M331.6941,-103.9815C341.4469,-94.607 351.7983,-84.6572 361.5414,-75.2921\"/>\n<polygon fill=\"#000000\" stroke=\"#000000\" points=\"364.0694,-77.7169 368.8535,-68.2637 359.2185,-72.6702 364.0694,-77.7169\"/>\n</g>\n</g>\n</svg>\n"
          },
          "metadata": {},
          "execution_count": 15
        }
      ]
    },
    {
      "cell_type": "markdown",
      "id": "1b83f130",
      "metadata": {
        "id": "1b83f130"
      },
      "source": [
        "### Id3Estimator"
      ]
    },
    {
      "cell_type": "code",
      "execution_count": 16,
      "id": "7ff5a179",
      "metadata": {
        "id": "7ff5a179"
      },
      "outputs": [],
      "source": [
        "from id3 import export_text, export_graphviz"
      ]
    },
    {
      "cell_type": "markdown",
      "id": "c403002a",
      "metadata": {
        "id": "c403002a"
      },
      "source": [
        "#### 1. Dataset Breast Cancer"
      ]
    },
    {
      "cell_type": "code",
      "execution_count": 17,
      "id": "64d5a1f0",
      "metadata": {
        "id": "64d5a1f0",
        "colab": {
          "base_uri": "https://localhost:8080/"
        },
        "outputId": "39330b5c-4963-4fed-e37a-17e4baffc6da"
      },
      "outputs": [
        {
          "output_type": "stream",
          "name": "stdout",
          "text": [
            "\n",
            "mean concave points <=0.05\n",
            "|   worst radius <=16.83\n",
            "|   |   radius error <=0.63\n",
            "|   |   |   worst texture <=30.15: 1 (225) \n",
            "|   |   |   worst texture >30.15\n",
            "|   |   |   |   worst area <=641.60: 1 (25) \n",
            "|   |   |   |   worst area >641.60\n",
            "|   |   |   |   |   mean radius <=13.45\n",
            "|   |   |   |   |   |   mean texture <=28.79: 0 (3) \n",
            "|   |   |   |   |   |   mean texture >28.79: 1 (1) \n",
            "|   |   |   |   |   mean radius >13.45: 1 (6) \n",
            "|   |   radius error >0.63\n",
            "|   |   |   mean smoothness <=0.09: 1 (1) \n",
            "|   |   |   mean smoothness >0.09: 0 (2) \n",
            "|   worst radius >16.83\n",
            "|   |   mean texture <=16.19: 1 (6) \n",
            "|   |   mean texture >16.19\n",
            "|   |   |   concave points error <=0.01: 0 (11) \n",
            "|   |   |   concave points error >0.01: 1 (2) \n",
            "mean concave points >0.05\n",
            "|   worst perimeter <=114.45\n",
            "|   |   worst texture <=25.65\n",
            "|   |   |   worst concave points <=0.17: 1 (19) \n",
            "|   |   |   worst concave points >0.17: 0 (2) \n",
            "|   |   worst texture >25.65\n",
            "|   |   |   perimeter error <=1.56\n",
            "|   |   |   |   mean radius <=13.34: 0 (1) \n",
            "|   |   |   |   mean radius >13.34: 1 (1) \n",
            "|   |   |   perimeter error >1.56: 0 (21) \n",
            "|   worst perimeter >114.45: 0 (129) \n",
            "\n"
          ]
        }
      ],
      "source": [
        "bc_estimator = Id3Estimator()\n",
        "bc_estimator = bc_estimator.fit(X_bc_train, y_bc_train)\n",
        "\n",
        "res = export_text(bc_estimator.tree_, feature_names=breast_cancer['feature_names'].tolist())\n",
        "print(res)"
      ]
    },
    {
      "cell_type": "code",
      "execution_count": 18,
      "id": "90dd6d10",
      "metadata": {
        "id": "90dd6d10",
        "colab": {
          "base_uri": "https://localhost:8080/"
        },
        "outputId": "b4247d01-9ca3-4e24-ac22-dfbe2bcf3839"
      },
      "outputs": [
        {
          "output_type": "stream",
          "name": "stdout",
          "text": [
            "Evaluasi hasil prediksi menggunakan metric Accuracy: 0.9385964912280702\n",
            "Evaluasi hasil prediksi menggunakan metric F1: 0.9517241379310345\n"
          ]
        }
      ],
      "source": [
        "# Memprediksi hasil dari model\n",
        "y_bc_pred = bc_estimator.predict(X_bc_test)\n",
        "\n",
        "# Mengevaluasi hasil prediksi\n",
        "# Menggunakan metric Accuracy\n",
        "print(\"Evaluasi hasil prediksi menggunakan metric Accuracy: {}\".format(accuracy_score(y_bc_test, y_bc_pred)))\n",
        "\n",
        "# Menggunakan metric F1\n",
        "print(\"Evaluasi hasil prediksi menggunakan metric F1: {}\".format(f1_score(y_bc_test, y_bc_pred)))"
      ]
    },
    {
      "cell_type": "markdown",
      "id": "9846ea75",
      "metadata": {
        "id": "9846ea75"
      },
      "source": [
        "#### 2. Dataset Play Tennis"
      ]
    },
    {
      "cell_type": "code",
      "execution_count": 19,
      "id": "a0a29ed9",
      "metadata": {
        "id": "a0a29ed9",
        "colab": {
          "base_uri": "https://localhost:8080/"
        },
        "outputId": "a19a69f5-d7c6-4b9c-e703-a8acd1d2ef8f"
      },
      "outputs": [
        {
          "output_type": "stream",
          "name": "stdout",
          "text": [
            "\n",
            "Outlook <=0.50: 1 (3) \n",
            "Outlook >0.50\n",
            "|   Humidity <=0.50\n",
            "|   |   Wind <=0.50: 0 (2) \n",
            "|   |   Wind >0.50: 0 (1/1) \n",
            "|   Humidity >0.50\n",
            "|   |   Wind <=0.50\n",
            "|   |   |   Temperature <=1.00: 0 (1) \n",
            "|   |   |   Temperature >1.00: 1 (1) \n",
            "|   |   Wind >0.50: 1 (2) \n",
            "\n"
          ]
        }
      ],
      "source": [
        "pt_estimator = Id3Estimator()\n",
        "pt_estimator.fit(X_pt_train, y_pt_train)\n",
        "\n",
        "res = export_text(pt_estimator.tree_, feature_names=['Outlook', 'Temperature', 'Humidity', 'Wind'])\n",
        "print(res)"
      ]
    },
    {
      "cell_type": "code",
      "execution_count": 20,
      "id": "d142703d",
      "metadata": {
        "id": "d142703d",
        "colab": {
          "base_uri": "https://localhost:8080/"
        },
        "outputId": "cd5811e0-3b67-4a97-a621-ea5259343082"
      },
      "outputs": [
        {
          "output_type": "stream",
          "name": "stdout",
          "text": [
            "Evaluasi hasil prediksi menggunakan metric Accuracy: 1.0\n",
            "Evaluasi hasil prediksi menggunakan metric F1: 1.0\n"
          ]
        }
      ],
      "source": [
        "# Memprediksi hasil dari model\n",
        "y_pt_pred = pt_estimator.predict(X_pt_test)\n",
        "\n",
        "# Mengevaluasi hasil prediksi\n",
        "# Menggunakan metric Accuracy\n",
        "print(\"Evaluasi hasil prediksi menggunakan metric Accuracy: {}\".format(accuracy_score(y_pt_test, y_pt_pred)))\n",
        "\n",
        "# Menggunakan metric F1\n",
        "print(\"Evaluasi hasil prediksi menggunakan metric F1: {}\".format(f1_score(y_pt_test, y_pt_pred)))"
      ]
    },
    {
      "cell_type": "markdown",
      "id": "934169c1",
      "metadata": {
        "id": "934169c1"
      },
      "source": [
        "### K Means"
      ]
    },
    {
      "cell_type": "markdown",
      "id": "2aadb7e4",
      "metadata": {
        "id": "2aadb7e4"
      },
      "source": [
        "#### 1. Dataset Breast Cancer"
      ]
    },
    {
      "cell_type": "code",
      "execution_count": 21,
      "id": "be8a6f64",
      "metadata": {
        "id": "be8a6f64",
        "colab": {
          "base_uri": "https://localhost:8080/"
        },
        "outputId": "1a29cf77-c68b-42a6-a0c4-a26ed6f2dbb7"
      },
      "outputs": [
        {
          "output_type": "execute_result",
          "data": {
            "text/plain": [
              "KMeans(n_clusters=2, random_state=42)"
            ]
          },
          "metadata": {},
          "execution_count": 21
        }
      ],
      "source": [
        "bc_kmeans = KMeans(n_clusters=2, random_state=42)\n",
        "bc_kmeans.fit(X_bc_train)"
      ]
    },
    {
      "cell_type": "code",
      "source": [
        "bc_kmeans.cluster_centers_"
      ],
      "metadata": {
        "colab": {
          "base_uri": "https://localhost:8080/"
        },
        "id": "WEHq-_BUkU73",
        "outputId": "98802f89-7402-401d-8164-15cb0f67058e"
      },
      "id": "WEHq-_BUkU73",
      "execution_count": 22,
      "outputs": [
        {
          "output_type": "execute_result",
          "data": {
            "text/plain": [
              "array([[1.25855042e+01, 1.85612676e+01, 8.13569577e+01, 4.98667042e+02,\n",
              "        9.43091549e-02, 9.20322817e-02, 6.46656789e-02, 3.38423972e-02,\n",
              "        1.78194930e-01, 6.35234366e-02, 3.06044507e-01, 1.19986761e+00,\n",
              "        2.18847690e+00, 2.41235803e+01, 7.09819437e-03, 2.41763437e-02,\n",
              "        3.02242842e-02, 1.08719014e-02, 2.06208394e-02, 3.82007972e-03,\n",
              "        1.40930479e+01, 2.46787606e+01, 9.24600563e+01, 6.24786197e+02,\n",
              "        1.29178535e-01, 2.27340732e-01, 2.27010504e-01, 9.27702563e-02,\n",
              "        2.84487887e-01, 8.36058592e-02],\n",
              "       [1.95567000e+01, 2.13994000e+01, 1.29247000e+02, 1.20715000e+03,\n",
              "        1.00837800e-01, 1.44753300e-01, 1.74923400e-01, 9.95329000e-02,\n",
              "        1.91407000e-01, 6.00351000e-02, 7.42714000e-01, 1.21269500e+00,\n",
              "        5.23596000e+00, 9.66857000e+01, 6.60170000e-03, 3.08152700e-02,\n",
              "        4.20515000e-02, 1.55221800e-02, 2.04055000e-02, 3.82179000e-03,\n",
              "        2.38394000e+01, 2.85778000e+01, 1.59086000e+02, 1.77230000e+03,\n",
              "        1.39887400e-01, 3.42915600e-01, 4.43518000e-01, 1.90194700e-01,\n",
              "        3.11853000e-01, 8.47979000e-02]])"
            ]
          },
          "metadata": {},
          "execution_count": 22
        }
      ]
    },
    {
      "cell_type": "code",
      "execution_count": 23,
      "id": "607fbb6f",
      "metadata": {
        "id": "607fbb6f",
        "colab": {
          "base_uri": "https://localhost:8080/"
        },
        "outputId": "e839c19b-36a7-433d-f161-cfb2b270404b"
      },
      "outputs": [
        {
          "output_type": "stream",
          "name": "stdout",
          "text": [
            "Evaluasi hasil prediksi menggunakan metric Accuracy: 0.12280701754385964\n",
            "Evaluasi hasil prediksi menggunakan metric F1: 0.12280701754385964\n"
          ]
        }
      ],
      "source": [
        "# Memprediksi hasil dari model\n",
        "y_bc_pred = bc_kmeans.predict(X_bc_test)\n",
        "y_bc_pred\n",
        "\n",
        "# Mengevaluasi hasil prediksi\n",
        "# Menggunakan metric Accuracy\n",
        "print(\"Evaluasi hasil prediksi menggunakan metric Accuracy: {}\".format(accuracy_score(y_bc_test, y_bc_pred)))\n",
        "\n",
        "# Menggunakan metric F1\n",
        "print(\"Evaluasi hasil prediksi menggunakan metric F1: {}\".format(f1_score(y_bc_test, y_bc_pred, average='micro')))"
      ]
    },
    {
      "cell_type": "markdown",
      "id": "1b58706f",
      "metadata": {
        "id": "1b58706f"
      },
      "source": [
        "#### 2. Dataset Play Tennis"
      ]
    },
    {
      "cell_type": "code",
      "execution_count": 24,
      "id": "2782da7c",
      "metadata": {
        "id": "2782da7c",
        "colab": {
          "base_uri": "https://localhost:8080/"
        },
        "outputId": "9d61a7e9-a8c7-4c3b-cda2-6cb0fcf3bd74"
      },
      "outputs": [
        {
          "output_type": "execute_result",
          "data": {
            "text/plain": [
              "KMeans(n_clusters=2, random_state=42)"
            ]
          },
          "metadata": {},
          "execution_count": 24
        }
      ],
      "source": [
        "pt_kmeans = KMeans(n_clusters=2, random_state=42)\n",
        "pt_kmeans.fit(X_pt_train)"
      ]
    },
    {
      "cell_type": "code",
      "source": [
        "pt_kmeans.cluster_centers_"
      ],
      "metadata": {
        "colab": {
          "base_uri": "https://localhost:8080/"
        },
        "id": "ol6tV7mTkd1R",
        "outputId": "bb4af2de-602e-4fb8-836c-36887fd97bfc"
      },
      "id": "ol6tV7mTkd1R",
      "execution_count": 25,
      "outputs": [
        {
          "output_type": "execute_result",
          "data": {
            "text/plain": [
              "array([[0.66666667, 0.33333333, 0.83333333, 0.66666667],\n",
              "       [1.6       , 1.8       , 0.2       , 0.4       ]])"
            ]
          },
          "metadata": {},
          "execution_count": 25
        }
      ]
    },
    {
      "cell_type": "code",
      "execution_count": 26,
      "id": "e3f1cd33",
      "metadata": {
        "id": "e3f1cd33",
        "colab": {
          "base_uri": "https://localhost:8080/"
        },
        "outputId": "e372e7fe-a86a-4f3b-d9d2-b1f024426280"
      },
      "outputs": [
        {
          "output_type": "stream",
          "name": "stdout",
          "text": [
            "Evaluasi hasil prediksi menggunakan metric Accuracy: 0.6666666666666666\n",
            "Evaluasi hasil prediksi menggunakan metric F1: 0.8\n"
          ]
        }
      ],
      "source": [
        "# # Memprediksi hasil dari model\n",
        "y_pt_pred = pt_kmeans.predict(X_pt_test)\n",
        "\n",
        "# # Mengevaluasi hasil prediksi\n",
        "# # Menggunakan metric Accuracy\n",
        "print(\"Evaluasi hasil prediksi menggunakan metric Accuracy: {}\".format(accuracy_score(y_pt_test, y_pt_pred)))\n",
        "\n",
        "# # Menggunakan metric F1\n",
        "print(\"Evaluasi hasil prediksi menggunakan metric F1: {}\".format(f1_score(y_pt_test, y_pt_pred)))"
      ]
    },
    {
      "cell_type": "markdown",
      "id": "63e581e7",
      "metadata": {
        "id": "63e581e7"
      },
      "source": [
        "### LogisticRegression"
      ]
    },
    {
      "cell_type": "markdown",
      "id": "1adf85c6",
      "metadata": {
        "id": "1adf85c6"
      },
      "source": [
        "#### 1. Dataset Breast Cancer"
      ]
    },
    {
      "cell_type": "code",
      "execution_count": 27,
      "id": "7420ea62",
      "metadata": {
        "id": "7420ea62",
        "colab": {
          "base_uri": "https://localhost:8080/"
        },
        "outputId": "4e4ac568-b226-4233-d263-78fed5ba6597"
      },
      "outputs": [
        {
          "output_type": "execute_result",
          "data": {
            "text/plain": [
              "LogisticRegression(max_iter=10000, random_state=42)"
            ]
          },
          "metadata": {},
          "execution_count": 27
        }
      ],
      "source": [
        "bc_log_regression = LogisticRegression(random_state=42, max_iter=10000)\n",
        "bc_log_regression.fit(X_bc_train, y_bc_train)"
      ]
    },
    {
      "cell_type": "code",
      "source": [
        "bc_log_regression.coef_"
      ],
      "metadata": {
        "colab": {
          "base_uri": "https://localhost:8080/"
        },
        "id": "yQY0vHu2kzr1",
        "outputId": "ce0a95a8-1ecf-4df0-b553-94235af2bb5e"
      },
      "id": "yQY0vHu2kzr1",
      "execution_count": 28,
      "outputs": [
        {
          "output_type": "execute_result",
          "data": {
            "text/plain": [
              "array([[ 1.02450262,  0.22240761, -0.3580103 ,  0.02505808, -0.15609899,\n",
              "        -0.23525959, -0.53022899, -0.28428195, -0.22489974, -0.03568163,\n",
              "        -0.09301441,  1.43232745, -0.14616717, -0.09063846, -0.02244006,\n",
              "         0.04933583, -0.04026561, -0.03229285, -0.03320774,  0.01194907,\n",
              "         0.13731236, -0.51119554, -0.01934061, -0.01663556, -0.30851387,\n",
              "        -0.7713297 , -1.42851677, -0.51260694, -0.74245155, -0.09972466]])"
            ]
          },
          "metadata": {},
          "execution_count": 28
        }
      ]
    },
    {
      "cell_type": "code",
      "execution_count": 29,
      "id": "77c462da",
      "metadata": {
        "id": "77c462da",
        "colab": {
          "base_uri": "https://localhost:8080/"
        },
        "outputId": "b792e9d7-a609-419e-b947-7e64110feddd"
      },
      "outputs": [
        {
          "output_type": "stream",
          "name": "stdout",
          "text": [
            "Evaluasi hasil prediksi menggunakan metric Accuracy: 0.956140350877193\n",
            "Evaluasi hasil prediksi menggunakan metric F1: 0.9655172413793103\n"
          ]
        }
      ],
      "source": [
        "# Memprediksi hasil dari model\n",
        "y_bc_pred = bc_log_regression.predict(X_bc_test)\n",
        "\n",
        "# Mengevaluasi hasil prediksi\n",
        "# Menggunakan metric Accuracy\n",
        "print(\"Evaluasi hasil prediksi menggunakan metric Accuracy: {}\".format(accuracy_score(y_bc_test, y_bc_pred)))\n",
        "\n",
        "# Menggunakan metric F1\n",
        "print(\"Evaluasi hasil prediksi menggunakan metric F1: {}\".format(f1_score(y_bc_test, y_bc_pred)))"
      ]
    },
    {
      "cell_type": "markdown",
      "id": "1e5f3a4c",
      "metadata": {
        "id": "1e5f3a4c"
      },
      "source": [
        "#### 2. Dataset Play Tennis"
      ]
    },
    {
      "cell_type": "code",
      "execution_count": 30,
      "id": "af3c44d2",
      "metadata": {
        "id": "af3c44d2",
        "colab": {
          "base_uri": "https://localhost:8080/"
        },
        "outputId": "5e01b3a4-d4ea-4e32-e487-b8cce42776db"
      },
      "outputs": [
        {
          "output_type": "execute_result",
          "data": {
            "text/plain": [
              "LogisticRegression(max_iter=10000, random_state=42)"
            ]
          },
          "metadata": {},
          "execution_count": 30
        }
      ],
      "source": [
        "pt_log_regression = LogisticRegression(random_state=42, max_iter=10000)\n",
        "pt_log_regression.fit(X_pt_train, y_pt_train)"
      ]
    },
    {
      "cell_type": "code",
      "source": [
        "pt_log_regression.coef_"
      ],
      "metadata": {
        "colab": {
          "base_uri": "https://localhost:8080/"
        },
        "id": "sXZWTk8blEHB",
        "outputId": "022ad9ee-2eeb-463b-bbc4-9a6a4cf62cf1"
      },
      "id": "sXZWTk8blEHB",
      "execution_count": 31,
      "outputs": [
        {
          "output_type": "execute_result",
          "data": {
            "text/plain": [
              "array([[-0.58244786, -0.0987447 ,  0.68889197,  0.72642571]])"
            ]
          },
          "metadata": {},
          "execution_count": 31
        }
      ]
    },
    {
      "cell_type": "code",
      "execution_count": 32,
      "id": "39858f50",
      "metadata": {
        "id": "39858f50",
        "colab": {
          "base_uri": "https://localhost:8080/"
        },
        "outputId": "304b5229-593f-42e0-e4dc-d094278926d9"
      },
      "outputs": [
        {
          "output_type": "stream",
          "name": "stdout",
          "text": [
            "Evaluasi hasil prediksi menggunakan metric Accuracy: 0.6666666666666666\n",
            "Evaluasi hasil prediksi menggunakan metric F1: 0.8\n"
          ]
        }
      ],
      "source": [
        "# Memprediksi hasil dari model\n",
        "y_pt_pred = pt_log_regression.predict(X_pt_test)\n",
        "\n",
        "# Mengevaluasi hasil prediksi\n",
        "# Menggunakan metric Accuracy\n",
        "print(\"Evaluasi hasil prediksi menggunakan metric Accuracy: {}\".format(accuracy_score(y_pt_test, y_pt_pred)))\n",
        "\n",
        "# Menggunakan metric F1\n",
        "print(\"Evaluasi hasil prediksi menggunakan metric F1: {}\".format(f1_score(y_pt_test, y_pt_pred)))"
      ]
    },
    {
      "cell_type": "markdown",
      "id": "a8dd5510",
      "metadata": {
        "id": "a8dd5510"
      },
      "source": [
        "### Neural Network"
      ]
    },
    {
      "cell_type": "markdown",
      "id": "3b9b240c",
      "metadata": {
        "id": "3b9b240c"
      },
      "source": [
        "#### 1. Dataset Breast Cancer"
      ]
    },
    {
      "cell_type": "code",
      "execution_count": 33,
      "id": "726c7fed",
      "metadata": {
        "id": "726c7fed",
        "colab": {
          "base_uri": "https://localhost:8080/"
        },
        "outputId": "3f247e83-308b-4df0-c91a-43605923ba80"
      },
      "outputs": [
        {
          "output_type": "execute_result",
          "data": {
            "text/plain": [
              "MLPClassifier(random_state=42)"
            ]
          },
          "metadata": {},
          "execution_count": 33
        }
      ],
      "source": [
        "bc_neural_network = MLPClassifier(random_state=42)\n",
        "bc_neural_network.fit(X_bc_train, y_bc_train)"
      ]
    },
    {
      "cell_type": "code",
      "source": [
        "bc_neural_network.coefs_"
      ],
      "metadata": {
        "colab": {
          "base_uri": "https://localhost:8080/"
        },
        "id": "CblPL9n1leyu",
        "outputId": "9960cc51-e3d9-4b31-cff1-5ade9db257b4"
      },
      "id": "CblPL9n1leyu",
      "execution_count": 34,
      "outputs": [
        {
          "output_type": "execute_result",
          "data": {
            "text/plain": [
              "[array([[-6.91807926e-02,  2.15670985e-01,  7.45095830e-04, ...,\n",
              "          1.57259002e-08, -2.26490378e-01, -1.91674421e-01],\n",
              "        [-2.19908656e-01,  6.13319163e-02, -1.65912634e-04, ...,\n",
              "          1.15236141e-02,  1.63183654e-01,  1.15947144e-01],\n",
              "        [ 4.86235414e-02, -1.59413714e-01, -5.72546345e-03, ...,\n",
              "         -2.39768515e-03,  3.29609649e-02, -1.98728835e-01],\n",
              "        ...,\n",
              "        [ 7.04438586e-02,  1.66873893e-01, -9.00689687e-03, ...,\n",
              "          4.52405314e-06,  2.45289617e-01, -9.56875167e-02],\n",
              "        [ 1.36355615e-01,  1.83951499e-01,  1.77956502e-02, ...,\n",
              "         -4.94895511e-04, -4.12245164e-02, -2.08699319e-01],\n",
              "        [-1.64611978e-01,  1.22862483e-01, -2.72529905e-02, ...,\n",
              "         -1.97821579e-04, -9.93881880e-02,  1.49407893e-01]]),\n",
              " array([[-1.97529919e-01],\n",
              "        [ 1.21968255e-01],\n",
              "        [ 2.20200238e-02],\n",
              "        [ 1.80909862e-08],\n",
              "        [-1.03530816e-01],\n",
              "        [-1.97852353e-02],\n",
              "        [ 1.26926502e-03],\n",
              "        [-2.14434159e-01],\n",
              "        [ 4.91669313e-07],\n",
              "        [ 1.43071665e-02],\n",
              "        [ 4.32509227e-05],\n",
              "        [-1.10943704e-01],\n",
              "        [ 9.84878516e-04],\n",
              "        [-1.86114861e-01],\n",
              "        [-1.31957455e-01],\n",
              "        [ 1.55536431e-02],\n",
              "        [-2.28562015e-03],\n",
              "        [-3.75864471e-02],\n",
              "        [-2.45629056e-03],\n",
              "        [-4.66266848e-03],\n",
              "        [-9.60137918e-02],\n",
              "        [-1.07636925e-01],\n",
              "        [-2.06698631e-01],\n",
              "        [-1.27121428e-09],\n",
              "        [ 1.25090833e-01],\n",
              "        [ 6.55308466e-02],\n",
              "        [ 9.87151773e-02],\n",
              "        [-2.28436092e-02],\n",
              "        [ 2.32531321e-01],\n",
              "        [ 1.00272573e-02],\n",
              "        [ 6.35664511e-03],\n",
              "        [ 8.20080066e-03],\n",
              "        [ 2.55967447e-02],\n",
              "        [ 3.23367472e-02],\n",
              "        [-5.85742143e-03],\n",
              "        [ 9.99407520e-06],\n",
              "        [ 1.31930802e-01],\n",
              "        [ 9.76534260e-02],\n",
              "        [-1.69574464e-10],\n",
              "        [-2.53586701e-02],\n",
              "        [-4.59089661e-02],\n",
              "        [ 2.32151274e-02],\n",
              "        [ 2.02990500e-07],\n",
              "        [ 4.20149932e-02],\n",
              "        [-9.71349803e-02],\n",
              "        [-4.75481253e-02],\n",
              "        [ 2.04358171e-01],\n",
              "        [ 1.87894431e-04],\n",
              "        [ 1.53377791e-01],\n",
              "        [-1.32548377e-09],\n",
              "        [ 7.14866639e-02],\n",
              "        [-1.07682231e-01],\n",
              "        [ 1.14322297e-01],\n",
              "        [-1.53337892e-02],\n",
              "        [-3.53436484e-02],\n",
              "        [ 8.31279425e-05],\n",
              "        [ 2.28864454e-01],\n",
              "        [-2.62709034e-02],\n",
              "        [ 1.71204205e-01],\n",
              "        [-8.18325759e-04],\n",
              "        [ 4.77671191e-09],\n",
              "        [-2.09786081e-01],\n",
              "        [ 9.43528383e-03],\n",
              "        [ 7.35344686e-03],\n",
              "        [-2.02033261e-01],\n",
              "        [-1.82023143e-11],\n",
              "        [ 2.08649965e-01],\n",
              "        [-1.77888418e-01],\n",
              "        [ 3.18236696e-03],\n",
              "        [-4.69219727e-02],\n",
              "        [ 6.32136131e-02],\n",
              "        [-1.18959419e-01],\n",
              "        [-1.70084779e-01],\n",
              "        [-1.46458394e-01],\n",
              "        [-2.09834751e-01],\n",
              "        [-6.15001684e-03],\n",
              "        [ 9.30738797e-02],\n",
              "        [ 1.80289070e-01],\n",
              "        [ 1.65990356e-01],\n",
              "        [ 1.04011443e-01],\n",
              "        [-1.89676395e-01],\n",
              "        [-8.77651528e-02],\n",
              "        [-7.88066405e-02],\n",
              "        [-1.13202926e-01],\n",
              "        [-6.75921866e-03],\n",
              "        [ 2.78149979e-02],\n",
              "        [-9.31696205e-03],\n",
              "        [-7.04297632e-05],\n",
              "        [ 1.72180775e-01],\n",
              "        [ 1.53758112e-01],\n",
              "        [-7.90835729e-02],\n",
              "        [ 2.18760390e-02],\n",
              "        [ 1.14720167e-01],\n",
              "        [-2.49673180e-04],\n",
              "        [-5.15000101e-02],\n",
              "        [ 1.00767364e-02],\n",
              "        [ 1.70433090e-01],\n",
              "        [ 1.53715415e-02],\n",
              "        [-1.81008710e-01],\n",
              "        [-4.07978498e-02]])]"
            ]
          },
          "metadata": {},
          "execution_count": 34
        }
      ]
    },
    {
      "cell_type": "code",
      "execution_count": 35,
      "id": "15f89e2e",
      "metadata": {
        "id": "15f89e2e",
        "colab": {
          "base_uri": "https://localhost:8080/"
        },
        "outputId": "be0a343c-9d6b-4fd2-be3e-760bb2562c6d"
      },
      "outputs": [
        {
          "output_type": "stream",
          "name": "stdout",
          "text": [
            "Evaluasi hasil prediksi menggunakan metric Accuracy: 0.9385964912280702\n",
            "Evaluasi hasil prediksi menggunakan metric F1: 0.953020134228188\n"
          ]
        }
      ],
      "source": [
        "y_bc_pred = bc_neural_network.predict(X_bc_test)\n",
        "\n",
        "# Mengevaluasi hasil prediksi\n",
        "# Menggunakan metric Accuracy\n",
        "print(\"Evaluasi hasil prediksi menggunakan metric Accuracy: {}\".format(accuracy_score(y_bc_test, y_bc_pred)))\n",
        "\n",
        "# Menggunakan metric F1\n",
        "print(\"Evaluasi hasil prediksi menggunakan metric F1: {}\".format(f1_score(y_bc_test, y_bc_pred)))"
      ]
    },
    {
      "cell_type": "markdown",
      "id": "e88c0153",
      "metadata": {
        "id": "e88c0153"
      },
      "source": [
        "#### 2. Dataset Play Tennis"
      ]
    },
    {
      "cell_type": "code",
      "execution_count": 36,
      "id": "60a272e6",
      "metadata": {
        "id": "60a272e6",
        "colab": {
          "base_uri": "https://localhost:8080/"
        },
        "outputId": "e1637d35-edbc-44c8-d310-36015bc400d3"
      },
      "outputs": [
        {
          "output_type": "execute_result",
          "data": {
            "text/plain": [
              "MLPClassifier(max_iter=1000, random_state=42)"
            ]
          },
          "metadata": {},
          "execution_count": 36
        }
      ],
      "source": [
        "pt_neural_network = MLPClassifier(random_state=42, max_iter=1000)\n",
        "pt_neural_network.fit(X_pt_train, y_pt_train)"
      ]
    },
    {
      "cell_type": "code",
      "source": [
        "pt_neural_network.coefs_"
      ],
      "metadata": {
        "colab": {
          "base_uri": "https://localhost:8080/"
        },
        "id": "onfRO3brlmou",
        "outputId": "a1f85243-a230-4b3e-b5dc-ea6ea829eaa2"
      },
      "id": "onfRO3brlmou",
      "execution_count": 37,
      "outputs": [
        {
          "output_type": "execute_result",
          "data": {
            "text/plain": [
              "[array([[ 5.75334379e-17,  5.90697603e-01,  2.67202836e-01,\n",
              "         -1.29043159e-01, -2.07771426e-01, -1.77061850e-01,\n",
              "         -1.48690806e-04,  2.34289944e-01, -1.93160016e-01,\n",
              "         -7.04264650e-15, -3.99567663e-04,  5.21356283e-01,\n",
              "          1.20291902e-02, -4.37271166e-01, -2.01983672e-01,\n",
              "          5.95649865e-02, -1.27151405e-01, -1.09360520e-01,\n",
              "         -3.19127421e-01, -5.13289954e-02, -1.62930283e-01,\n",
              "         -3.23544440e-01, -1.37338339e-15, -2.11685750e-16,\n",
              "          1.05777170e-17,  3.02387432e-01, -3.77730648e-01,\n",
              "          1.95441450e-01, -2.14399635e-02, -2.07030597e-04,\n",
              "          3.98000493e-02, -2.83476197e-01, -4.38359972e-01,\n",
              "          1.32552261e-01,  2.28403075e-01,  1.53386366e-01,\n",
              "         -2.51271360e-14,  5.09682356e-02,  6.55185678e-01,\n",
              "         -6.13921486e-02, -3.80058926e-01, -1.87800222e-01,\n",
              "         -2.84856518e-04,  3.21798650e-01, -3.15818137e-01,\n",
              "          5.69688350e-02,  7.26369947e-02,  8.32320539e-02,\n",
              "          8.77237292e-02, -2.40718128e-07, -1.25156435e-01,\n",
              "         -5.07300039e-02,  1.02532666e-01,  5.26239495e-01,\n",
              "          1.53425369e-01,  5.54115453e-01, -5.50220800e-05,\n",
              "         -1.67271717e-01, -2.14069007e-04, -7.07251426e-15,\n",
              "         -8.62807563e-17, -1.13455223e-01,  3.44473899e-01,\n",
              "         -8.25355487e-02, -1.54363657e-01, -2.06456963e-01,\n",
              "         -1.89739226e-01, -1.05710859e-01, -8.90274359e-05,\n",
              "          4.58018530e-01,  1.78922268e-01, -5.20857324e-01,\n",
              "         -5.61530847e-04, -4.98347122e-02,  8.36565333e-02,\n",
              "         -5.64386222e-02,  2.37122664e-01, -4.40052023e-01,\n",
              "         -3.53635591e-01, -1.83114580e-05,  5.76335519e-01,\n",
              "         -2.08065820e-01, -2.94340440e-01,  1.37558080e-02,\n",
              "         -1.00668442e-01,  1.18732587e-01,  2.43907275e-01,\n",
              "          2.80834361e-01,  3.68305080e-01,  1.52678191e-01,\n",
              "         -7.94908756e-02,  2.14787710e-01,  3.19346929e-01,\n",
              "          2.52960884e-01,  7.81562269e-02, -1.18108245e-01,\n",
              "         -1.84486509e-01,  1.81836615e-01, -6.11727037e-02,\n",
              "         -1.42133045e-02],\n",
              "        [-3.06995809e-04, -3.14616148e-01,  2.83340895e-02,\n",
              "          2.05398058e-01,  4.04320983e-01, -1.89220901e-01,\n",
              "          3.16791707e-17,  1.24719536e-01, -1.75876010e-01,\n",
              "         -8.21380094e-05,  1.11324811e-13, -1.34148246e-01,\n",
              "          3.52308866e-01,  5.03543243e-02, -3.00811731e-02,\n",
              "          2.48518909e-01,  2.58756510e-01,  1.98930274e-01,\n",
              "          4.29025815e-01, -2.50067749e-01,  4.38478818e-01,\n",
              "          1.28909353e-01,  7.80546473e-15, -2.35951012e-05,\n",
              "         -3.60580066e-10,  1.04954893e-01,  3.95358334e-01,\n",
              "         -6.11966499e-03, -2.60696978e-01,  2.61567479e-18,\n",
              "          1.51225007e-01, -2.82443868e-02,  9.98309165e-02,\n",
              "         -4.42162201e-01,  1.97613277e-01, -3.72545666e-02,\n",
              "          4.26962583e-18,  2.24789611e-01, -3.06547228e-01,\n",
              "          3.17164489e-01,  3.88151665e-01,  1.55594231e-01,\n",
              "          6.51347110e-19, -4.59567204e-01, -8.21398624e-02,\n",
              "         -2.95263414e-01, -8.89016087e-02, -1.04861567e-02,\n",
              "         -9.91217485e-03,  4.70339388e-13,  6.72583958e-01,\n",
              "          2.73380289e-02,  4.51456988e-02, -2.68432440e-01,\n",
              "          2.68125676e-01, -2.44779264e-01,  5.79521198e-15,\n",
              "          6.62659242e-02,  1.23178412e-10,  1.21171879e-12,\n",
              "         -3.16570166e-16, -4.35997512e-02, -1.56758474e-01,\n",
              "         -1.46226468e-02, -2.53537952e-01,  5.13717420e-01,\n",
              "         -1.21636262e-01,  6.35999105e-02, -2.41267571e-04,\n",
              "          1.29722079e-02,  3.43390416e-01,  8.08928346e-03,\n",
              "         -2.65691574e-18,  1.29498123e-01,  1.55047365e-01,\n",
              "         -4.67125943e-02,  9.08628503e-02,  1.41215136e-01,\n",
              "          6.24307177e-01, -6.34995662e-06, -1.32000301e-01,\n",
              "         -9.56193893e-02,  6.64599025e-01,  2.95965526e-01,\n",
              "          7.80314109e-02,  1.32798456e-01,  1.86172742e-01,\n",
              "          8.70489262e-02, -1.59243455e-01, -1.95256553e-01,\n",
              "         -2.10560752e-01,  6.79719043e-02,  1.55687699e-01,\n",
              "          1.40981539e-01, -1.23954137e-01,  2.54451431e-01,\n",
              "          3.56625961e-01,  2.11660443e-01,  9.21075442e-02,\n",
              "          1.78183961e-01],\n",
              "        [-5.54450470e-16, -6.71730333e-01, -6.43136290e-01,\n",
              "          4.20022349e-01,  3.52939248e-01, -2.58930984e-01,\n",
              "         -3.35999650e-05,  3.62284187e-01, -1.14386222e-01,\n",
              "         -1.56500206e-06, -1.06780613e-18, -4.03065094e-01,\n",
              "          2.45853893e-01,  1.42166753e-01,  1.93242825e-02,\n",
              "         -5.72344689e-01, -2.77673272e-01,  5.08879002e-01,\n",
              "          3.64349585e-01,  3.19804837e-01,  3.90523519e-01,\n",
              "          8.99221360e-02, -4.54411625e-05, -3.13426431e-16,\n",
              "         -4.52975363e-12, -7.52182267e-01,  4.66928296e-01,\n",
              "         -2.68484414e-01,  4.11840955e-01,  3.41288295e-16,\n",
              "          4.96541164e-01,  6.37900613e-02,  1.91507938e-01,\n",
              "          3.50480540e-01,  1.97502672e-01,  3.98207960e-01,\n",
              "          5.57680019e-13, -7.19626326e-01, -5.60096923e-01,\n",
              "         -4.12046104e-01,  4.94006051e-01,  5.07617826e-01,\n",
              "          1.24842036e-01, -4.07624134e-02, -2.56794850e-02,\n",
              "          2.18674574e-01, -2.14313349e-01,  4.99100147e-01,\n",
              "          6.84498446e-01,  3.73254874e-06,  4.23919967e-01,\n",
              "          2.11166853e-01,  5.47437543e-01, -5.76936757e-01,\n",
              "          2.39579251e-01, -5.09904788e-01,  1.25043879e-04,\n",
              "          3.21376356e-02, -1.59559374e-17, -3.97651238e-05,\n",
              "          1.22659430e-16,  2.56138591e-01, -4.88730982e-01,\n",
              "         -2.45727493e-02,  1.24779785e-01,  4.86665396e-01,\n",
              "          5.67695590e-02,  4.56044682e-01,  6.01285037e-16,\n",
              "         -4.50291910e-01,  4.18703915e-01,  1.77158808e-01,\n",
              "          8.08490483e-06,  4.81824476e-01,  1.42136038e-01,\n",
              "          2.14899680e-01,  5.06145149e-02,  2.19216806e-01,\n",
              "          5.17190270e-01,  6.18697961e-02, -4.08671554e-01,\n",
              "          4.12262489e-03,  4.03184925e-01, -6.65961877e-01,\n",
              "          3.81267963e-01, -6.81520568e-01, -4.92572595e-01,\n",
              "         -2.70767672e-01, -3.06679544e-01, -1.15688862e-01,\n",
              "         -1.15005160e-01, -5.88089191e-01, -9.71402209e-02,\n",
              "         -6.15193343e-01, -2.66647714e-02,  5.24799650e-01,\n",
              "          4.02482828e-01, -6.52598048e-01, -6.66800954e-02,\n",
              "         -5.41624727e-01],\n",
              "        [-1.78930584e-04, -4.60668433e-01,  5.62666019e-02,\n",
              "          3.12116432e-01,  4.70290213e-01,  1.60185017e-01,\n",
              "         -4.23072897e-18, -1.21314821e-01,  4.30972711e-01,\n",
              "         -1.63749180e-12,  2.91834568e-18, -7.70917501e-01,\n",
              "         -3.93432240e-02,  4.79011682e-01,  7.79758987e-02,\n",
              "          9.39107457e-02, -4.04631296e-01,  5.72636095e-01,\n",
              "         -8.79588006e-02, -5.00085180e-01,  3.54016490e-01,\n",
              "          1.99859636e-01, -2.21242937e-15,  5.41079513e-13,\n",
              "          2.14609150e-04,  2.08109076e-01,  5.33632381e-02,\n",
              "         -2.00145541e-01, -5.21250454e-01,  4.45274584e-11,\n",
              "          3.90292356e-01,  4.03657581e-01,  4.29149018e-01,\n",
              "         -8.84082754e-01, -4.26127500e-01, -5.52089900e-02,\n",
              "          4.30253421e-06,  1.20761169e-01, -6.63217294e-01,\n",
              "         -4.73502233e-01,  9.81555800e-02,  2.94270015e-01,\n",
              "         -6.38148536e-07,  5.56599855e-01,  4.54395992e-01,\n",
              "         -1.77608636e-01, -1.33898712e-01, -3.15798266e-02,\n",
              "          1.42198411e-01, -2.25336449e-17,  5.32855123e-01,\n",
              "          4.34700866e-01,  6.04325619e-01, -6.43467906e-01,\n",
              "         -4.51069721e-01, -5.45789448e-01, -3.46676289e-04,\n",
              "         -2.27166844e-02,  1.41435527e-04,  1.74378123e-17,\n",
              "         -1.05597387e-16, -8.67594454e-02, -3.27366257e-01,\n",
              "         -1.06589961e-02,  1.61569499e-01,  3.29615142e-01,\n",
              "          1.88722218e-01,  5.74238731e-01, -8.25201012e-08,\n",
              "         -5.73385805e-01, -4.47431425e-01, -3.66429153e-02,\n",
              "         -4.41432865e-05,  3.87708539e-01, -2.51160676e-01,\n",
              "          1.93068580e-01,  7.36694364e-02,  3.76990536e-01,\n",
              "          5.74775357e-01,  5.51019861e-13, -8.29214526e-01,\n",
              "          4.03518539e-01,  5.99239652e-01,  1.97696860e-01,\n",
              "          4.38991058e-01,  1.63925122e-01,  1.56268149e-01,\n",
              "         -5.61328590e-01, -1.25308291e-01,  3.65434519e-02,\n",
              "          2.17782598e-01,  1.08204126e-01, -3.42625243e-01,\n",
              "          2.81375028e-01, -8.40153646e-02,  7.06237382e-01,\n",
              "          4.62084209e-01,  1.19417055e-01, -2.02967497e-02,\n",
              "          8.76225414e-02]]), array([[ 9.05521057e-14],\n",
              "        [-5.63152038e-01],\n",
              "        [-5.30531505e-01],\n",
              "        [ 3.63384829e-01],\n",
              "        [ 4.14323698e-01],\n",
              "        [-6.48335265e-02],\n",
              "        [ 6.68468451e-05],\n",
              "        [ 6.28682500e-01],\n",
              "        [ 5.78307131e-01],\n",
              "        [ 1.58129705e-12],\n",
              "        [ 1.20359746e-16],\n",
              "        [-4.75063114e-01],\n",
              "        [ 2.61613594e-01],\n",
              "        [ 4.96247023e-01],\n",
              "        [-1.58976449e-01],\n",
              "        [-5.76898507e-01],\n",
              "        [-5.82156145e-01],\n",
              "        [ 9.48283444e-01],\n",
              "        [ 6.99241446e-01],\n",
              "        [-6.01972374e-01],\n",
              "        [ 3.01745895e-01],\n",
              "        [ 1.10238529e-01],\n",
              "        [ 3.75900600e-04],\n",
              "        [ 2.62239479e-06],\n",
              "        [ 2.05512226e-06],\n",
              "        [-5.27739110e-01],\n",
              "        [ 2.82685616e-01],\n",
              "        [-3.05039379e-01],\n",
              "        [-7.83504778e-01],\n",
              "        [ 9.42991796e-06],\n",
              "        [ 6.68957590e-01],\n",
              "        [ 5.55418362e-01],\n",
              "        [ 8.69976361e-01],\n",
              "        [-6.84710719e-01],\n",
              "        [ 2.79125602e-01],\n",
              "        [ 7.11955694e-01],\n",
              "        [ 4.14274042e-06],\n",
              "        [-3.96156312e-01],\n",
              "        [-5.52184358e-01],\n",
              "        [-5.93832418e-01],\n",
              "        [ 5.93623076e-01],\n",
              "        [ 2.64282906e-01],\n",
              "        [-7.78849225e-02],\n",
              "        [ 6.80691464e-01],\n",
              "        [ 5.93251583e-01],\n",
              "        [-1.42150091e-01],\n",
              "        [-3.06701026e-01],\n",
              "        [ 3.74605106e-01],\n",
              "        [ 3.99953360e-01],\n",
              "        [ 1.27258846e-09],\n",
              "        [ 4.67768216e-01],\n",
              "        [ 4.98216781e-01],\n",
              "        [ 3.85579468e-01],\n",
              "        [-4.21432171e-01],\n",
              "        [ 5.14907616e-01],\n",
              "        [-5.94682823e-01],\n",
              "        [-1.00522442e-05],\n",
              "        [-1.84783652e-01],\n",
              "        [-1.07767284e-10],\n",
              "        [-2.11124102e-16],\n",
              "        [ 2.80406326e-14],\n",
              "        [-1.50484901e-01],\n",
              "        [-5.67814412e-01],\n",
              "        [-2.09717279e-01],\n",
              "        [ 1.26099609e-02],\n",
              "        [ 4.58451538e-01],\n",
              "        [-2.11283299e-02],\n",
              "        [ 2.14158513e-01],\n",
              "        [ 5.23057287e-05],\n",
              "        [-4.18703137e-01],\n",
              "        [ 5.44248105e-01],\n",
              "        [ 6.20423232e-01],\n",
              "        [ 9.30057069e-17],\n",
              "        [ 2.79380512e-01],\n",
              "        [ 3.59268075e-01],\n",
              "        [ 4.52010950e-01],\n",
              "        [ 5.00376638e-02],\n",
              "        [ 8.02990225e-01],\n",
              "        [ 2.33337235e-01],\n",
              "        [-5.78258702e-02],\n",
              "        [-4.96314260e-01],\n",
              "        [ 6.13306570e-01],\n",
              "        [ 3.99295193e-01],\n",
              "        [-2.54453774e-01],\n",
              "        [ 3.95529372e-01],\n",
              "        [-5.09418117e-01],\n",
              "        [-5.75068603e-01],\n",
              "        [-6.48950122e-01],\n",
              "        [-4.30035139e-01],\n",
              "        [-1.95007083e-01],\n",
              "        [-1.52750118e-01],\n",
              "        [-3.36462354e-01],\n",
              "        [-4.69927175e-01],\n",
              "        [-6.83560931e-01],\n",
              "        [ 1.52900125e-01],\n",
              "        [ 4.49077799e-01],\n",
              "        [ 3.24957450e-01],\n",
              "        [-6.80404994e-01],\n",
              "        [-8.29705370e-02],\n",
              "        [-4.18109877e-01]])]"
            ]
          },
          "metadata": {},
          "execution_count": 37
        }
      ]
    },
    {
      "cell_type": "code",
      "execution_count": 38,
      "id": "a2408587",
      "metadata": {
        "id": "a2408587",
        "colab": {
          "base_uri": "https://localhost:8080/"
        },
        "outputId": "48553521-5d95-4272-ffad-c11c53efae13"
      },
      "outputs": [
        {
          "output_type": "stream",
          "name": "stdout",
          "text": [
            "Evaluasi hasil prediksi menggunakan metric Accuracy: 1.0\n",
            "Evaluasi hasil prediksi menggunakan metric F1: 1.0\n"
          ]
        }
      ],
      "source": [
        "# Memprediksi hasil dari model\n",
        "y_pt_pred = pt_neural_network.predict(X_pt_test)\n",
        "\n",
        "# Mengevaluasi hasil prediksi\n",
        "# Menggunakan metric Accuracy\n",
        "print(\"Evaluasi hasil prediksi menggunakan metric Accuracy: {}\".format(accuracy_score(y_pt_test, y_pt_pred)))\n",
        "\n",
        "# Menggunakan metric F1\n",
        "print(\"Evaluasi hasil prediksi menggunakan metric F1: {}\".format(f1_score(y_pt_test, y_pt_pred)))"
      ]
    },
    {
      "cell_type": "markdown",
      "id": "a7ef2ca6",
      "metadata": {
        "id": "a7ef2ca6"
      },
      "source": [
        "### SVM"
      ]
    },
    {
      "cell_type": "markdown",
      "id": "9eaac185",
      "metadata": {
        "id": "9eaac185"
      },
      "source": [
        "#### 1. Dataset Breast Cancer"
      ]
    },
    {
      "cell_type": "code",
      "execution_count": 39,
      "id": "5d78ca20",
      "metadata": {
        "id": "5d78ca20",
        "colab": {
          "base_uri": "https://localhost:8080/"
        },
        "outputId": "ef966a1d-09b9-4a08-99cf-6e9ad9477e60"
      },
      "outputs": [
        {
          "output_type": "execute_result",
          "data": {
            "text/plain": [
              "Pipeline(steps=[('standardscaler', StandardScaler()),\n",
              "                ('svc', SVC(gamma='auto'))])"
            ]
          },
          "metadata": {},
          "execution_count": 39
        }
      ],
      "source": [
        "bc_svm = make_pipeline(StandardScaler(), SVC(gamma='auto'))\n",
        "bc_svm.fit(X_bc_train, y_bc_train)"
      ]
    },
    {
      "cell_type": "code",
      "source": [
        "bc_svm.named_steps['svc'].dual_coef_"
      ],
      "metadata": {
        "colab": {
          "base_uri": "https://localhost:8080/"
        },
        "id": "SyQpc7Qpqt-O",
        "outputId": "9f660d5e-c7d0-4e3d-b666-66ffee5e3252"
      },
      "id": "SyQpc7Qpqt-O",
      "execution_count": 40,
      "outputs": [
        {
          "output_type": "execute_result",
          "data": {
            "text/plain": [
              "array([[-0.14351766, -1.        , -1.        , -0.36744822, -1.        ,\n",
              "        -1.        , -0.49680947, -1.        , -0.92543086, -0.5634964 ,\n",
              "        -0.18862423, -0.36761666, -1.        , -0.3573522 , -0.14472207,\n",
              "        -1.        , -0.60469529, -1.        , -1.        , -0.04314932,\n",
              "        -1.        , -1.        , -1.        , -1.        , -0.6699591 ,\n",
              "        -0.2172382 , -0.67468591, -0.14012133, -1.        , -1.        ,\n",
              "        -0.21337712, -0.6679511 , -0.68968737, -0.65335124, -1.        ,\n",
              "        -1.        , -0.83077391, -1.        , -1.        , -0.49936283,\n",
              "        -1.        , -1.        , -0.1257606 , -0.69861268, -0.69378714,\n",
              "        -0.68027369, -0.32979043, -1.        , -1.        , -1.        ,\n",
              "        -1.        , -1.        , -1.        ,  1.        ,  0.8243754 ,\n",
              "         0.13150678,  1.        ,  1.        ,  0.89816219,  1.        ,\n",
              "         0.01195675,  0.84851895,  0.76204143,  1.        ,  1.        ,\n",
              "         0.54981954,  1.        ,  0.46726034,  1.        ,  1.        ,\n",
              "         1.        ,  1.        ,  1.        ,  0.29982572,  0.62567705,\n",
              "         0.32118675,  1.        ,  0.25138207,  0.66436438,  0.82034339,\n",
              "         0.82913252,  0.34601989,  0.46729511,  1.        ,  1.        ,\n",
              "         0.53950981,  1.        ,  1.        ,  0.72011187,  0.62880706,\n",
              "         0.11500639,  1.        ,  1.        ,  1.        ,  0.91087504,\n",
              "         0.58042301,  1.        ,  0.34825432,  0.83048218,  1.        ,\n",
              "         1.        ,  1.        ,  0.47678221,  0.71847491]])"
            ]
          },
          "metadata": {},
          "execution_count": 40
        }
      ]
    },
    {
      "cell_type": "code",
      "execution_count": 41,
      "id": "64abfdb3",
      "metadata": {
        "id": "64abfdb3",
        "colab": {
          "base_uri": "https://localhost:8080/"
        },
        "outputId": "0a7ac86e-9660-455e-8738-a76fb1ba0504"
      },
      "outputs": [
        {
          "output_type": "stream",
          "name": "stdout",
          "text": [
            "Evaluasi hasil prediksi menggunakan metric Accuracy: 0.9824561403508771\n",
            "Evaluasi hasil prediksi menggunakan metric F1: 0.9861111111111112\n"
          ]
        }
      ],
      "source": [
        "y_bc_pred = bc_svm.predict(X_bc_test)\n",
        "\n",
        "# Mengevaluasi hasil prediksi\n",
        "# Menggunakan metric Accuracy\n",
        "print(\"Evaluasi hasil prediksi menggunakan metric Accuracy: {}\".format(accuracy_score(y_bc_test, y_bc_pred)))\n",
        "\n",
        "# Menggunakan metric F1\n",
        "print(\"Evaluasi hasil prediksi menggunakan metric F1: {}\".format(f1_score(y_bc_test, y_bc_pred)))"
      ]
    },
    {
      "cell_type": "markdown",
      "id": "0a8c87d6",
      "metadata": {
        "id": "0a8c87d6"
      },
      "source": [
        "#### 2. Dataset Play Tennis"
      ]
    },
    {
      "cell_type": "code",
      "execution_count": 42,
      "id": "56a5b09f",
      "metadata": {
        "id": "56a5b09f",
        "colab": {
          "base_uri": "https://localhost:8080/"
        },
        "outputId": "5a6815f2-cdea-4787-b2b8-469eca01899d"
      },
      "outputs": [
        {
          "output_type": "execute_result",
          "data": {
            "text/plain": [
              "SVC(random_state=42)"
            ]
          },
          "metadata": {},
          "execution_count": 42
        }
      ],
      "source": [
        "pt_svc = SVC(random_state=42)\n",
        "pt_svc.fit(X_pt_train, y_pt_train)"
      ]
    },
    {
      "cell_type": "code",
      "source": [
        "pt_svc.dual_coef_"
      ],
      "metadata": {
        "colab": {
          "base_uri": "https://localhost:8080/"
        },
        "id": "MNGyeG2Zl6RV",
        "outputId": "5353757e-36ff-4f64-c264-032eeb71bccf"
      },
      "id": "MNGyeG2Zl6RV",
      "execution_count": 43,
      "outputs": [
        {
          "output_type": "execute_result",
          "data": {
            "text/plain": [
              "array([[-1.        , -1.        , -1.        , -1.        ,  0.68467388,\n",
              "         0.19922452,  0.30277042,  1.        ,  1.        ,  0.81333118]])"
            ]
          },
          "metadata": {},
          "execution_count": 43
        }
      ]
    },
    {
      "cell_type": "code",
      "execution_count": 44,
      "id": "048a65d9",
      "metadata": {
        "id": "048a65d9",
        "colab": {
          "base_uri": "https://localhost:8080/"
        },
        "outputId": "6cfc6978-526a-4772-e60f-1f177dceade7"
      },
      "outputs": [
        {
          "output_type": "stream",
          "name": "stdout",
          "text": [
            "Evaluasi hasil prediksi menggunakan metric Accuracy: 0.6666666666666666\n",
            "Evaluasi hasil prediksi menggunakan metric F1: 0.8\n"
          ]
        }
      ],
      "source": [
        "# Memprediksi hasil dari model\n",
        "y_pt_pred = pt_svc.predict(X_pt_test)\n",
        "\n",
        "# Mengevaluasi hasil prediksi\n",
        "# Menggunakan metric Accuracy\n",
        "print(\"Evaluasi hasil prediksi menggunakan metric Accuracy: {}\".format(accuracy_score(y_pt_test, y_pt_pred)))\n",
        "\n",
        "# Menggunakan metric F1\n",
        "print(\"Evaluasi hasil prediksi menggunakan metric F1: {}\".format(f1_score(y_pt_test, y_pt_pred)))"
      ]
    },
    {
      "cell_type": "markdown",
      "id": "7a3b1b10",
      "metadata": {
        "id": "7a3b1b10"
      },
      "source": [
        "Made by: \n",
        "- 13519107 Daffa Ananda Pratama Resyaly \n",
        "(4,5,6 breast cancer dataset & 1,2,3 play tennis dataset)\n",
        "- 13519113 Raihan Astrada Fathurrahman \n",
        "(1,2,3 breast cancer dataset  & 4,5,6 play tennis dataset)"
      ]
    }
  ],
  "metadata": {
    "kernelspec": {
      "display_name": "Python 3 (ipykernel)",
      "language": "python",
      "name": "python3"
    },
    "language_info": {
      "codemirror_mode": {
        "name": "ipython",
        "version": 3
      },
      "file_extension": ".py",
      "mimetype": "text/x-python",
      "name": "python",
      "nbconvert_exporter": "python",
      "pygments_lexer": "ipython3",
      "version": "3.9.7"
    },
    "colab": {
      "name": "Tucil1_13519107_13519113.ipynb",
      "provenance": [],
      "collapsed_sections": [
        "03bb262a",
        "c403002a",
        "9846ea75",
        "1adf85c6",
        "1e5f3a4c",
        "3b9b240c",
        "e88c0153",
        "9eaac185",
        "0a8c87d6"
      ]
    }
  },
  "nbformat": 4,
  "nbformat_minor": 5
}