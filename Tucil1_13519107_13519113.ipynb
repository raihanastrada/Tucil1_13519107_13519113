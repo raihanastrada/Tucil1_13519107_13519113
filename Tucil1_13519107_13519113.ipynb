{
 "cells": [
  {
   "cell_type": "markdown",
   "id": "bda0e08d",
   "metadata": {
    "id": "bda0e08d"
   },
   "source": [
    "# Tugas Kecil 1\n",
    "## Eksplorasi library Decision Tree Learning pada Jupyter Notebook"
   ]
  },
  {
   "cell_type": "code",
   "execution_count": 1,
   "id": "800c450e",
   "metadata": {
    "id": "800c450e"
   },
   "outputs": [],
   "source": [
    "import pandas as pd\n",
    "import numpy as np\n",
    "import matplotlib.pyplot as plt\n",
    "\n",
    "# Modul six untuk Id3Estimator\n",
    "import six\n",
    "import sys\n",
    "sys.modules['sklearn.externals.six'] = six\n",
    "\n",
    "# Modul-modul pengolahan data\n",
    "from sklearn.datasets import load_breast_cancer\n",
    "from sklearn.model_selection import train_test_split\n",
    "from sklearn.preprocessing import LabelEncoder, StandardScaler\n",
    "from sklearn.pipeline import make_pipeline\n",
    "\n",
    "# Modul model algoritma machine learning\n",
    "from sklearn.tree import DecisionTreeClassifier, export_text\n",
    "from id3 import Id3Estimator\n",
    "from sklearn.cluster import KMeans\n",
    "from sklearn.linear_model import LogisticRegression\n",
    "from sklearn.neural_network import MLPClassifier\n",
    "from sklearn.svm import SVC\n",
    "\n",
    "# Modul pengecekan akurasi\n",
    "from sklearn.metrics import accuracy_score, f1_score\n",
    "\n",
    "# Menyimpan skor masing-masing algoritma untuk dibandingkan\n",
    "bc_accuracy_scores = dict()\n",
    "bc_f1_scores = dict()\n",
    "pt_accuracy_scores = dict()\n",
    "pt_f1_scores = dict()"
   ]
  },
  {
   "cell_type": "markdown",
   "id": "b294d4c1",
   "metadata": {
    "id": "b294d4c1"
   },
   "source": [
    "### Load dataset"
   ]
  },
  {
   "cell_type": "markdown",
   "id": "dbcae87c",
   "metadata": {},
   "source": [
    "Hal pertama yang dilakukan adalah membaca dataset yang akan digunakan. Dataset Breast Cancer didapatkan melalui modul datasets yang terdapat pada library sklearn, sedangkan dataset Play Tennis diunduh melalui repository [ini](https://gist.github.com/DiogoRibeiro7/c6590d0cf119e87c39e31c21a9c0f3a8#file-playtennis-csv)."
   ]
  },
  {
   "cell_type": "code",
   "execution_count": 2,
   "id": "a1ad8ddf",
   "metadata": {
    "colab": {
     "base_uri": "https://localhost:8080/",
     "height": 305
    },
    "id": "a1ad8ddf",
    "outputId": "3cd3fa35-2114-4b8a-c65e-2531fad3d51f"
   },
   "outputs": [
    {
     "data": {
      "text/html": [
       "<div>\n",
       "<style scoped>\n",
       "    .dataframe tbody tr th:only-of-type {\n",
       "        vertical-align: middle;\n",
       "    }\n",
       "\n",
       "    .dataframe tbody tr th {\n",
       "        vertical-align: top;\n",
       "    }\n",
       "\n",
       "    .dataframe thead th {\n",
       "        text-align: right;\n",
       "    }\n",
       "</style>\n",
       "<table border=\"1\" class=\"dataframe\">\n",
       "  <thead>\n",
       "    <tr style=\"text-align: right;\">\n",
       "      <th></th>\n",
       "      <th>mean radius</th>\n",
       "      <th>mean texture</th>\n",
       "      <th>mean perimeter</th>\n",
       "      <th>mean area</th>\n",
       "      <th>mean smoothness</th>\n",
       "      <th>mean compactness</th>\n",
       "      <th>mean concavity</th>\n",
       "      <th>mean concave points</th>\n",
       "      <th>mean symmetry</th>\n",
       "      <th>mean fractal dimension</th>\n",
       "      <th>...</th>\n",
       "      <th>worst texture</th>\n",
       "      <th>worst perimeter</th>\n",
       "      <th>worst area</th>\n",
       "      <th>worst smoothness</th>\n",
       "      <th>worst compactness</th>\n",
       "      <th>worst concavity</th>\n",
       "      <th>worst concave points</th>\n",
       "      <th>worst symmetry</th>\n",
       "      <th>worst fractal dimension</th>\n",
       "      <th>target</th>\n",
       "    </tr>\n",
       "  </thead>\n",
       "  <tbody>\n",
       "    <tr>\n",
       "      <th>0</th>\n",
       "      <td>17.99</td>\n",
       "      <td>10.38</td>\n",
       "      <td>122.80</td>\n",
       "      <td>1001.0</td>\n",
       "      <td>0.11840</td>\n",
       "      <td>0.27760</td>\n",
       "      <td>0.3001</td>\n",
       "      <td>0.14710</td>\n",
       "      <td>0.2419</td>\n",
       "      <td>0.07871</td>\n",
       "      <td>...</td>\n",
       "      <td>17.33</td>\n",
       "      <td>184.60</td>\n",
       "      <td>2019.0</td>\n",
       "      <td>0.1622</td>\n",
       "      <td>0.6656</td>\n",
       "      <td>0.7119</td>\n",
       "      <td>0.2654</td>\n",
       "      <td>0.4601</td>\n",
       "      <td>0.11890</td>\n",
       "      <td>0</td>\n",
       "    </tr>\n",
       "    <tr>\n",
       "      <th>1</th>\n",
       "      <td>20.57</td>\n",
       "      <td>17.77</td>\n",
       "      <td>132.90</td>\n",
       "      <td>1326.0</td>\n",
       "      <td>0.08474</td>\n",
       "      <td>0.07864</td>\n",
       "      <td>0.0869</td>\n",
       "      <td>0.07017</td>\n",
       "      <td>0.1812</td>\n",
       "      <td>0.05667</td>\n",
       "      <td>...</td>\n",
       "      <td>23.41</td>\n",
       "      <td>158.80</td>\n",
       "      <td>1956.0</td>\n",
       "      <td>0.1238</td>\n",
       "      <td>0.1866</td>\n",
       "      <td>0.2416</td>\n",
       "      <td>0.1860</td>\n",
       "      <td>0.2750</td>\n",
       "      <td>0.08902</td>\n",
       "      <td>0</td>\n",
       "    </tr>\n",
       "    <tr>\n",
       "      <th>2</th>\n",
       "      <td>19.69</td>\n",
       "      <td>21.25</td>\n",
       "      <td>130.00</td>\n",
       "      <td>1203.0</td>\n",
       "      <td>0.10960</td>\n",
       "      <td>0.15990</td>\n",
       "      <td>0.1974</td>\n",
       "      <td>0.12790</td>\n",
       "      <td>0.2069</td>\n",
       "      <td>0.05999</td>\n",
       "      <td>...</td>\n",
       "      <td>25.53</td>\n",
       "      <td>152.50</td>\n",
       "      <td>1709.0</td>\n",
       "      <td>0.1444</td>\n",
       "      <td>0.4245</td>\n",
       "      <td>0.4504</td>\n",
       "      <td>0.2430</td>\n",
       "      <td>0.3613</td>\n",
       "      <td>0.08758</td>\n",
       "      <td>0</td>\n",
       "    </tr>\n",
       "    <tr>\n",
       "      <th>3</th>\n",
       "      <td>11.42</td>\n",
       "      <td>20.38</td>\n",
       "      <td>77.58</td>\n",
       "      <td>386.1</td>\n",
       "      <td>0.14250</td>\n",
       "      <td>0.28390</td>\n",
       "      <td>0.2414</td>\n",
       "      <td>0.10520</td>\n",
       "      <td>0.2597</td>\n",
       "      <td>0.09744</td>\n",
       "      <td>...</td>\n",
       "      <td>26.50</td>\n",
       "      <td>98.87</td>\n",
       "      <td>567.7</td>\n",
       "      <td>0.2098</td>\n",
       "      <td>0.8663</td>\n",
       "      <td>0.6869</td>\n",
       "      <td>0.2575</td>\n",
       "      <td>0.6638</td>\n",
       "      <td>0.17300</td>\n",
       "      <td>0</td>\n",
       "    </tr>\n",
       "    <tr>\n",
       "      <th>4</th>\n",
       "      <td>20.29</td>\n",
       "      <td>14.34</td>\n",
       "      <td>135.10</td>\n",
       "      <td>1297.0</td>\n",
       "      <td>0.10030</td>\n",
       "      <td>0.13280</td>\n",
       "      <td>0.1980</td>\n",
       "      <td>0.10430</td>\n",
       "      <td>0.1809</td>\n",
       "      <td>0.05883</td>\n",
       "      <td>...</td>\n",
       "      <td>16.67</td>\n",
       "      <td>152.20</td>\n",
       "      <td>1575.0</td>\n",
       "      <td>0.1374</td>\n",
       "      <td>0.2050</td>\n",
       "      <td>0.4000</td>\n",
       "      <td>0.1625</td>\n",
       "      <td>0.2364</td>\n",
       "      <td>0.07678</td>\n",
       "      <td>0</td>\n",
       "    </tr>\n",
       "  </tbody>\n",
       "</table>\n",
       "<p>5 rows × 31 columns</p>\n",
       "</div>"
      ],
      "text/plain": [
       "   mean radius  mean texture  mean perimeter  mean area  mean smoothness  \\\n",
       "0        17.99         10.38          122.80     1001.0          0.11840   \n",
       "1        20.57         17.77          132.90     1326.0          0.08474   \n",
       "2        19.69         21.25          130.00     1203.0          0.10960   \n",
       "3        11.42         20.38           77.58      386.1          0.14250   \n",
       "4        20.29         14.34          135.10     1297.0          0.10030   \n",
       "\n",
       "   mean compactness  mean concavity  mean concave points  mean symmetry  \\\n",
       "0           0.27760          0.3001              0.14710         0.2419   \n",
       "1           0.07864          0.0869              0.07017         0.1812   \n",
       "2           0.15990          0.1974              0.12790         0.2069   \n",
       "3           0.28390          0.2414              0.10520         0.2597   \n",
       "4           0.13280          0.1980              0.10430         0.1809   \n",
       "\n",
       "   mean fractal dimension  ...  worst texture  worst perimeter  worst area  \\\n",
       "0                 0.07871  ...          17.33           184.60      2019.0   \n",
       "1                 0.05667  ...          23.41           158.80      1956.0   \n",
       "2                 0.05999  ...          25.53           152.50      1709.0   \n",
       "3                 0.09744  ...          26.50            98.87       567.7   \n",
       "4                 0.05883  ...          16.67           152.20      1575.0   \n",
       "\n",
       "   worst smoothness  worst compactness  worst concavity  worst concave points  \\\n",
       "0            0.1622             0.6656           0.7119                0.2654   \n",
       "1            0.1238             0.1866           0.2416                0.1860   \n",
       "2            0.1444             0.4245           0.4504                0.2430   \n",
       "3            0.2098             0.8663           0.6869                0.2575   \n",
       "4            0.1374             0.2050           0.4000                0.1625   \n",
       "\n",
       "   worst symmetry  worst fractal dimension  target  \n",
       "0          0.4601                  0.11890       0  \n",
       "1          0.2750                  0.08902       0  \n",
       "2          0.3613                  0.08758       0  \n",
       "3          0.6638                  0.17300       0  \n",
       "4          0.2364                  0.07678       0  \n",
       "\n",
       "[5 rows x 31 columns]"
      ]
     },
     "execution_count": 2,
     "metadata": {},
     "output_type": "execute_result"
    }
   ],
   "source": [
    "# Dataset breast cancer\n",
    "breast_cancer = load_breast_cancer()\n",
    "df_breast_cancer = pd.DataFrame(breast_cancer.data, \n",
    "                                columns=breast_cancer.feature_names)\n",
    "df_breast_cancer['target'] = breast_cancer.target\n",
    "\n",
    "df_breast_cancer.head()"
   ]
  },
  {
   "cell_type": "markdown",
   "id": "64e2990d",
   "metadata": {},
   "source": [
    "Pada dataset breast cancer, dapat dilihat bahwa terdapat 30 fitur dan juga kolom target dapat bernilai '0' ataupun '1'. Selanjutnya, untuk membaca dataset play tennis, akan digunakan fungsi read_csv yang tersedia pada library pandas."
   ]
  },
  {
   "cell_type": "code",
   "execution_count": 3,
   "id": "4ef69ab2",
   "metadata": {
    "colab": {
     "base_uri": "https://localhost:8080/",
     "height": 206
    },
    "id": "4ef69ab2",
    "outputId": "93068aee-413f-4ab9-fe3d-c6c6329bfb84"
   },
   "outputs": [
    {
     "data": {
      "text/html": [
       "<div>\n",
       "<style scoped>\n",
       "    .dataframe tbody tr th:only-of-type {\n",
       "        vertical-align: middle;\n",
       "    }\n",
       "\n",
       "    .dataframe tbody tr th {\n",
       "        vertical-align: top;\n",
       "    }\n",
       "\n",
       "    .dataframe thead th {\n",
       "        text-align: right;\n",
       "    }\n",
       "</style>\n",
       "<table border=\"1\" class=\"dataframe\">\n",
       "  <thead>\n",
       "    <tr style=\"text-align: right;\">\n",
       "      <th></th>\n",
       "      <th>Outlook</th>\n",
       "      <th>Temperature</th>\n",
       "      <th>Humidity</th>\n",
       "      <th>Wind</th>\n",
       "      <th>Play Tennis</th>\n",
       "    </tr>\n",
       "  </thead>\n",
       "  <tbody>\n",
       "    <tr>\n",
       "      <th>0</th>\n",
       "      <td>2</td>\n",
       "      <td>1</td>\n",
       "      <td>0</td>\n",
       "      <td>1</td>\n",
       "      <td>0</td>\n",
       "    </tr>\n",
       "    <tr>\n",
       "      <th>1</th>\n",
       "      <td>2</td>\n",
       "      <td>1</td>\n",
       "      <td>0</td>\n",
       "      <td>0</td>\n",
       "      <td>0</td>\n",
       "    </tr>\n",
       "    <tr>\n",
       "      <th>2</th>\n",
       "      <td>0</td>\n",
       "      <td>1</td>\n",
       "      <td>0</td>\n",
       "      <td>1</td>\n",
       "      <td>1</td>\n",
       "    </tr>\n",
       "    <tr>\n",
       "      <th>3</th>\n",
       "      <td>1</td>\n",
       "      <td>2</td>\n",
       "      <td>0</td>\n",
       "      <td>1</td>\n",
       "      <td>1</td>\n",
       "    </tr>\n",
       "    <tr>\n",
       "      <th>4</th>\n",
       "      <td>1</td>\n",
       "      <td>0</td>\n",
       "      <td>1</td>\n",
       "      <td>1</td>\n",
       "      <td>1</td>\n",
       "    </tr>\n",
       "  </tbody>\n",
       "</table>\n",
       "</div>"
      ],
      "text/plain": [
       "   Outlook  Temperature  Humidity  Wind  Play Tennis\n",
       "0        2            1         0     1            0\n",
       "1        2            1         0     0            0\n",
       "2        0            1         0     1            1\n",
       "3        1            2         0     1            1\n",
       "4        1            0         1     1            1"
      ]
     },
     "execution_count": 3,
     "metadata": {},
     "output_type": "execute_result"
    }
   ],
   "source": [
    "# Dataset play tennis\n",
    "df_play_tennis = pd.read_csv('PlayTennis.csv')\n",
    "\n",
    "# Melakukan encoding pada data-data kategorial\n",
    "le = LabelEncoder()\n",
    "\n",
    "df_play_tennis['Outlook'] = le.fit_transform(df_play_tennis['Outlook'])\n",
    "df_play_tennis['Temperature'] = le.fit_transform(df_play_tennis['Temperature'])\n",
    "df_play_tennis['Humidity'] = le.fit_transform(df_play_tennis['Humidity'])\n",
    "df_play_tennis['Wind'] = le.fit_transform(df_play_tennis['Wind'])\n",
    "df_play_tennis['Play Tennis'] = le.fit_transform(df_play_tennis['Play Tennis'])\n",
    "\n",
    "df_play_tennis.head()"
   ]
  },
  {
   "cell_type": "markdown",
   "id": "cb9d0710",
   "metadata": {},
   "source": [
    "Melakukan load dataset play tennis berbeda dengan melakukan load dataset breast cancer. Pada dataset play tennis, karena terdapat beberapa data kategorikal, maka diterapkan encoding dengan menggunakan **Label Encoder** terhadap data kategorikal tersebut. Encoding perlu dilakukan karena beberapa algoritma machine learning yang akan dilakukan memerlukan data yang numerik."
   ]
  },
  {
   "cell_type": "markdown",
   "id": "7983ad00",
   "metadata": {},
   "source": [
    "Setelah melakukan load dataset, tahapan selanjutnya adalah membagi dataset menjadi 80% data training & 20% data testing. Untuk membagi dataset menjadi data training & testing, akan digunakan fungsi train test split pada library sklearn. Fungsi **train_test_split** akan menerima data tiap fitur & data target, parameter **test_size** yang diisi dengan 0.2 untuk menandakan bahwa 20% dari data total digunakan sebagai data test, serta parameter **random_state** yang dapat diisi dengan angka sembarang agar data training & testing yang digunakan tidak berubah-ubah ketika melakukan re-run "
   ]
  },
  {
   "cell_type": "code",
   "execution_count": 4,
   "id": "e3897155",
   "metadata": {
    "id": "e3897155"
   },
   "outputs": [],
   "source": [
    "X_breast_cancer = df_breast_cancer[breast_cancer.feature_names]\n",
    "y_breast_cancer = df_breast_cancer['target']"
   ]
  },
  {
   "cell_type": "code",
   "execution_count": 5,
   "id": "200ab02a",
   "metadata": {
    "id": "200ab02a"
   },
   "outputs": [],
   "source": [
    "X_bc_train, X_bc_test, y_bc_train, y_bc_test = train_test_split(\n",
    "    X_breast_cancer, y_breast_cancer, test_size=0.2, random_state=42)"
   ]
  },
  {
   "cell_type": "code",
   "execution_count": 6,
   "id": "4a1b4da1",
   "metadata": {
    "id": "4a1b4da1"
   },
   "outputs": [],
   "source": [
    "X_play_tennis = df_play_tennis[['Outlook', 'Temperature', 'Humidity', 'Wind']]\n",
    "y_play_tennis = df_play_tennis['Play Tennis']"
   ]
  },
  {
   "cell_type": "code",
   "execution_count": 7,
   "id": "4601fffc",
   "metadata": {
    "id": "4601fffc"
   },
   "outputs": [],
   "source": [
    "X_pt_train, X_pt_test, y_pt_train, y_pt_test = train_test_split(\n",
    "    X_play_tennis, y_play_tennis, test_size=0.2, random_state=42)"
   ]
  },
  {
   "cell_type": "markdown",
   "id": "82eb99dd",
   "metadata": {
    "id": "82eb99dd"
   },
   "source": [
    "### Decision Tree Classifier"
   ]
  },
  {
   "cell_type": "markdown",
   "id": "acd9c5ed",
   "metadata": {
    "id": "acd9c5ed"
   },
   "source": [
    "#### 1. Dataset Breast Cancer"
   ]
  },
  {
   "cell_type": "code",
   "execution_count": 8,
   "id": "1e66919b",
   "metadata": {
    "colab": {
     "base_uri": "https://localhost:8080/"
    },
    "id": "1e66919b",
    "outputId": "8dcbc2fd-8e88-4fce-c6bf-d7c5bd0bf09c"
   },
   "outputs": [
    {
     "name": "stdout",
     "output_type": "stream",
     "text": [
      "|--- mean concave points <= 0.05\n",
      "|   |--- worst radius <= 16.83\n",
      "|   |   |--- area error <= 48.70\n",
      "|   |   |   |--- worst smoothness <= 0.18\n",
      "|   |   |   |   |--- smoothness error <= 0.00\n",
      "|   |   |   |   |   |--- worst texture <= 27.76\n",
      "|   |   |   |   |   |   |--- class: 1\n",
      "|   |   |   |   |   |--- worst texture >  27.76\n",
      "|   |   |   |   |   |   |--- class: 0\n",
      "|   |   |   |   |--- smoothness error >  0.00\n",
      "|   |   |   |   |   |--- worst texture <= 33.35\n",
      "|   |   |   |   |   |   |--- class: 1\n",
      "|   |   |   |   |   |--- worst texture >  33.35\n",
      "|   |   |   |   |   |   |--- worst texture <= 33.56\n",
      "|   |   |   |   |   |   |   |--- class: 0\n",
      "|   |   |   |   |   |   |--- worst texture >  33.56\n",
      "|   |   |   |   |   |   |   |--- class: 1\n",
      "|   |   |   |--- worst smoothness >  0.18\n",
      "|   |   |   |   |--- class: 0\n",
      "|   |   |--- area error >  48.70\n",
      "|   |   |   |--- concavity error <= 0.02\n",
      "|   |   |   |   |--- class: 0\n",
      "|   |   |   |--- concavity error >  0.02\n",
      "|   |   |   |   |--- class: 1\n",
      "|   |--- worst radius >  16.83\n",
      "|   |   |--- mean texture <= 16.19\n",
      "|   |   |   |--- class: 1\n",
      "|   |   |--- mean texture >  16.19\n",
      "|   |   |   |--- concave points error <= 0.01\n",
      "|   |   |   |   |--- class: 0\n",
      "|   |   |   |--- concave points error >  0.01\n",
      "|   |   |   |   |--- class: 1\n",
      "|--- mean concave points >  0.05\n",
      "|   |--- worst concave points <= 0.15\n",
      "|   |   |--- worst perimeter <= 115.25\n",
      "|   |   |   |--- mean texture <= 21.06\n",
      "|   |   |   |   |--- class: 1\n",
      "|   |   |   |--- mean texture >  21.06\n",
      "|   |   |   |   |--- class: 0\n",
      "|   |   |--- worst perimeter >  115.25\n",
      "|   |   |   |--- class: 0\n",
      "|   |--- worst concave points >  0.15\n",
      "|   |   |--- fractal dimension error <= 0.01\n",
      "|   |   |   |--- class: 0\n",
      "|   |   |--- fractal dimension error >  0.01\n",
      "|   |   |   |--- class: 1\n",
      "\n"
     ]
    }
   ],
   "source": [
    "bc_decision_tree = DecisionTreeClassifier(random_state=42)\n",
    "bc_decision_tree = bc_decision_tree.fit(X_bc_train, y_bc_train)\n",
    "\n",
    "res = export_text(bc_decision_tree, feature_names=breast_cancer['feature_names'].tolist())\n",
    "print(res)"
   ]
  },
  {
   "cell_type": "code",
   "execution_count": 9,
   "id": "829e9581",
   "metadata": {
    "colab": {
     "base_uri": "https://localhost:8080/"
    },
    "id": "829e9581",
    "outputId": "ed2c31a5-4f5b-4db4-9f7e-5812b1a6c181"
   },
   "outputs": [
    {
     "name": "stdout",
     "output_type": "stream",
     "text": [
      "Evaluasi hasil prediksi menggunakan metric Accuracy: 0.9473684210526315\n",
      "Evaluasi hasil prediksi menggunakan metric F1: 0.9577464788732394\n"
     ]
    }
   ],
   "source": [
    "# Memprediksi hasil dari model\n",
    "y_bc_pred = bc_decision_tree.predict(X_bc_test)\n",
    "\n",
    "# Mengevaluasi hasil prediksi\n",
    "# Menggunakan metric Accuracy\n",
    "bc_tree_accuracy = accuracy_score(y_bc_test, y_bc_pred)\n",
    "print(\"Evaluasi hasil prediksi menggunakan metric Accuracy: {}\".format(bc_tree_accuracy))\n",
    "\n",
    "# Menggunakan metric F1\n",
    "bc_tree_f1 = f1_score(y_bc_test, y_bc_pred)\n",
    "print(\"Evaluasi hasil prediksi menggunakan metric F1: {}\".format(bc_tree_f1))\n",
    "\n",
    "# Simpan skor untuk dibandingkan\n",
    "bc_accuracy_scores['decision_tree'] = bc_tree_accuracy\n",
    "bc_f1_scores['decision_tree'] = bc_tree_f1"
   ]
  },
  {
   "cell_type": "markdown",
   "id": "03bb262a",
   "metadata": {
    "id": "03bb262a"
   },
   "source": [
    "#### 2. Dataset Play Tennis"
   ]
  },
  {
   "cell_type": "code",
   "execution_count": 10,
   "id": "aafbc49f",
   "metadata": {
    "colab": {
     "base_uri": "https://localhost:8080/"
    },
    "id": "aafbc49f",
    "outputId": "ec22b3eb-28f8-48d2-b170-1e2e7ed1f217"
   },
   "outputs": [
    {
     "name": "stdout",
     "output_type": "stream",
     "text": [
      "|--- Outlook <= 0.50\n",
      "|   |--- class: 1\n",
      "|--- Outlook >  0.50\n",
      "|   |--- Humidity <= 0.50\n",
      "|   |   |--- Wind <= 0.50\n",
      "|   |   |   |--- class: 0\n",
      "|   |   |--- Wind >  0.50\n",
      "|   |   |   |--- Outlook <= 1.50\n",
      "|   |   |   |   |--- class: 1\n",
      "|   |   |   |--- Outlook >  1.50\n",
      "|   |   |   |   |--- class: 0\n",
      "|   |--- Humidity >  0.50\n",
      "|   |   |--- Wind <= 0.50\n",
      "|   |   |   |--- Outlook <= 1.50\n",
      "|   |   |   |   |--- class: 0\n",
      "|   |   |   |--- Outlook >  1.50\n",
      "|   |   |   |   |--- class: 1\n",
      "|   |   |--- Wind >  0.50\n",
      "|   |   |   |--- class: 1\n",
      "\n"
     ]
    }
   ],
   "source": [
    "pt_decision_tree = DecisionTreeClassifier(random_state=42)\n",
    "pt_decision_tree.fit(X_pt_train, y_pt_train)\n",
    "\n",
    "res = export_text(pt_decision_tree, feature_names=['Outlook', 'Temperature', 'Humidity', 'Wind'])\n",
    "print(res)"
   ]
  },
  {
   "cell_type": "code",
   "execution_count": 11,
   "id": "321c46a9",
   "metadata": {
    "colab": {
     "base_uri": "https://localhost:8080/"
    },
    "id": "321c46a9",
    "outputId": "2838a72d-eb93-4139-adc7-b197eca1e142"
   },
   "outputs": [
    {
     "name": "stdout",
     "output_type": "stream",
     "text": [
      "Evaluasi hasil prediksi menggunakan metric Accuracy: 1.0\n",
      "Evaluasi hasil prediksi menggunakan metric F1: 1.0\n"
     ]
    }
   ],
   "source": [
    "# Memprediksi hasil dari model\n",
    "y_pt_pred = pt_decision_tree.predict(X_pt_test)\n",
    "\n",
    "# Mengevaluasi hasil prediksi\n",
    "# Menggunakan metric Accuracy\n",
    "pt_tree_accuracy = accuracy_score(y_pt_test, y_pt_pred)\n",
    "print(\"Evaluasi hasil prediksi menggunakan metric Accuracy: {}\".format(pt_tree_accuracy))\n",
    "\n",
    "# Menggunakan metric F1\n",
    "pt_tree_f1 = f1_score(y_pt_test, y_pt_pred)\n",
    "print(\"Evaluasi hasil prediksi menggunakan metric F1: {}\".format(pt_tree_f1))\n",
    "\n",
    "# Simpan skor untuk dibandingkan\n",
    "pt_accuracy_scores['decision_tree'] = pt_tree_accuracy\n",
    "pt_f1_scores['decision_tree'] = pt_tree_f1"
   ]
  },
  {
   "cell_type": "markdown",
   "id": "1b83f130",
   "metadata": {
    "id": "1b83f130"
   },
   "source": [
    "### Id3Estimator"
   ]
  },
  {
   "cell_type": "code",
   "execution_count": 12,
   "id": "c13d8c21",
   "metadata": {},
   "outputs": [],
   "source": [
    "from id3 import export_text"
   ]
  },
  {
   "cell_type": "markdown",
   "id": "c403002a",
   "metadata": {
    "id": "c403002a"
   },
   "source": [
    "#### 1. Dataset Breast Cancer"
   ]
  },
  {
   "cell_type": "code",
   "execution_count": 13,
   "id": "64d5a1f0",
   "metadata": {
    "colab": {
     "base_uri": "https://localhost:8080/"
    },
    "id": "64d5a1f0",
    "outputId": "39330b5c-4963-4fed-e37a-17e4baffc6da"
   },
   "outputs": [
    {
     "name": "stdout",
     "output_type": "stream",
     "text": [
      "\n",
      "mean concave points <=0.05\n",
      "|   worst radius <=16.83\n",
      "|   |   radius error <=0.63\n",
      "|   |   |   worst texture <=30.15: 1 (225) \n",
      "|   |   |   worst texture >30.15\n",
      "|   |   |   |   worst area <=641.60: 1 (25) \n",
      "|   |   |   |   worst area >641.60\n",
      "|   |   |   |   |   mean radius <=13.45\n",
      "|   |   |   |   |   |   mean texture <=28.79: 0 (3) \n",
      "|   |   |   |   |   |   mean texture >28.79: 1 (1) \n",
      "|   |   |   |   |   mean radius >13.45: 1 (6) \n",
      "|   |   radius error >0.63\n",
      "|   |   |   mean smoothness <=0.09: 1 (1) \n",
      "|   |   |   mean smoothness >0.09: 0 (2) \n",
      "|   worst radius >16.83\n",
      "|   |   mean texture <=16.19: 1 (6) \n",
      "|   |   mean texture >16.19\n",
      "|   |   |   concave points error <=0.01: 0 (11) \n",
      "|   |   |   concave points error >0.01: 1 (2) \n",
      "mean concave points >0.05\n",
      "|   worst perimeter <=114.45\n",
      "|   |   worst texture <=25.65\n",
      "|   |   |   worst concave points <=0.17: 1 (19) \n",
      "|   |   |   worst concave points >0.17: 0 (2) \n",
      "|   |   worst texture >25.65\n",
      "|   |   |   perimeter error <=1.56\n",
      "|   |   |   |   mean radius <=13.34: 0 (1) \n",
      "|   |   |   |   mean radius >13.34: 1 (1) \n",
      "|   |   |   perimeter error >1.56: 0 (21) \n",
      "|   worst perimeter >114.45: 0 (129) \n",
      "\n"
     ]
    }
   ],
   "source": [
    "bc_estimator = Id3Estimator()\n",
    "bc_estimator = bc_estimator.fit(X_bc_train, y_bc_train)\n",
    "\n",
    "res = export_text(bc_estimator.tree_, feature_names=breast_cancer['feature_names'].tolist())\n",
    "print(res)"
   ]
  },
  {
   "cell_type": "code",
   "execution_count": 14,
   "id": "90dd6d10",
   "metadata": {
    "colab": {
     "base_uri": "https://localhost:8080/"
    },
    "id": "90dd6d10",
    "outputId": "b4247d01-9ca3-4e24-ac22-dfbe2bcf3839"
   },
   "outputs": [
    {
     "name": "stdout",
     "output_type": "stream",
     "text": [
      "Evaluasi hasil prediksi menggunakan metric Accuracy: 0.9385964912280702\n",
      "Evaluasi hasil prediksi menggunakan metric F1: 0.9517241379310345\n"
     ]
    }
   ],
   "source": [
    "# Memprediksi hasil dari model\n",
    "y_bc_pred = bc_estimator.predict(X_bc_test)\n",
    "\n",
    "# Mengevaluasi hasil prediksi\n",
    "# Menggunakan metric Accuracy\n",
    "bc_id3_accuracy = accuracy_score(y_bc_test, y_bc_pred)\n",
    "print(\"Evaluasi hasil prediksi menggunakan metric Accuracy: {}\".format(bc_id3_accuracy))\n",
    "\n",
    "# Menggunakan metric F1\n",
    "bc_id3_f1 = f1_score(y_bc_test, y_bc_pred)\n",
    "print(\"Evaluasi hasil prediksi menggunakan metric F1: {}\".format(bc_id3_f1))\n",
    "\n",
    "bc_accuracy_scores['id3_estimator'] = bc_id3_accuracy\n",
    "bc_f1_scores['id3_estimator'] = bc_id3_f1"
   ]
  },
  {
   "cell_type": "markdown",
   "id": "9846ea75",
   "metadata": {
    "id": "9846ea75"
   },
   "source": [
    "#### 2. Dataset Play Tennis"
   ]
  },
  {
   "cell_type": "code",
   "execution_count": 15,
   "id": "a0a29ed9",
   "metadata": {
    "colab": {
     "base_uri": "https://localhost:8080/"
    },
    "id": "a0a29ed9",
    "outputId": "a19a69f5-d7c6-4b9c-e703-a8acd1d2ef8f"
   },
   "outputs": [
    {
     "name": "stdout",
     "output_type": "stream",
     "text": [
      "\n",
      "Outlook <=0.50: 1 (3) \n",
      "Outlook >0.50\n",
      "|   Humidity <=0.50\n",
      "|   |   Wind <=0.50: 0 (2) \n",
      "|   |   Wind >0.50: 0 (1/1) \n",
      "|   Humidity >0.50\n",
      "|   |   Wind <=0.50\n",
      "|   |   |   Temperature <=1.00: 0 (1) \n",
      "|   |   |   Temperature >1.00: 1 (1) \n",
      "|   |   Wind >0.50: 1 (2) \n",
      "\n"
     ]
    }
   ],
   "source": [
    "pt_estimator = Id3Estimator()\n",
    "pt_estimator.fit(X_pt_train, y_pt_train)\n",
    "\n",
    "res = export_text(pt_estimator.tree_, feature_names=['Outlook', 'Temperature', 'Humidity', 'Wind'])\n",
    "print(res)"
   ]
  },
  {
   "cell_type": "code",
   "execution_count": 16,
   "id": "d142703d",
   "metadata": {
    "colab": {
     "base_uri": "https://localhost:8080/"
    },
    "id": "d142703d",
    "outputId": "cd5811e0-3b67-4a97-a621-ea5259343082"
   },
   "outputs": [
    {
     "name": "stdout",
     "output_type": "stream",
     "text": [
      "Evaluasi hasil prediksi menggunakan metric Accuracy: 1.0\n",
      "Evaluasi hasil prediksi menggunakan metric F1: 1.0\n"
     ]
    }
   ],
   "source": [
    "# Memprediksi hasil dari model\n",
    "y_pt_pred = pt_estimator.predict(X_pt_test)\n",
    "\n",
    "# Mengevaluasi hasil prediksi\n",
    "# Menggunakan metric Accuracy\n",
    "pt_id3_accuracy = accuracy_score(y_pt_test, y_pt_pred)\n",
    "print(\"Evaluasi hasil prediksi menggunakan metric Accuracy: {}\".format(pt_id3_accuracy))\n",
    "\n",
    "# Menggunakan metric F1\n",
    "pt_id3_f1 = f1_score(y_pt_test, y_pt_pred)\n",
    "print(\"Evaluasi hasil prediksi menggunakan metric F1: {}\".format(pt_id3_f1))\n",
    "\n",
    "pt_accuracy_scores['id3_estimator'] = pt_id3_accuracy\n",
    "pt_f1_scores['id3_estimator'] = pt_id3_f1\n"
   ]
  },
  {
   "cell_type": "markdown",
   "id": "934169c1",
   "metadata": {
    "id": "934169c1"
   },
   "source": [
    "### K Means"
   ]
  },
  {
   "cell_type": "markdown",
   "id": "2aadb7e4",
   "metadata": {
    "id": "2aadb7e4"
   },
   "source": [
    "#### 1. Dataset Breast Cancer"
   ]
  },
  {
   "cell_type": "code",
   "execution_count": 17,
   "id": "be8a6f64",
   "metadata": {
    "colab": {
     "base_uri": "https://localhost:8080/"
    },
    "id": "be8a6f64",
    "outputId": "1a29cf77-c68b-42a6-a0c4-a26ed6f2dbb7"
   },
   "outputs": [
    {
     "data": {
      "text/plain": [
       "KMeans(n_clusters=2, random_state=42)"
      ]
     },
     "execution_count": 17,
     "metadata": {},
     "output_type": "execute_result"
    }
   ],
   "source": [
    "bc_kmeans = KMeans(n_clusters=2, random_state=42)\n",
    "bc_kmeans.fit(X_bc_train)"
   ]
  },
  {
   "cell_type": "code",
   "execution_count": 18,
   "id": "WEHq-_BUkU73",
   "metadata": {
    "colab": {
     "base_uri": "https://localhost:8080/"
    },
    "id": "WEHq-_BUkU73",
    "outputId": "98802f89-7402-401d-8164-15cb0f67058e"
   },
   "outputs": [
    {
     "data": {
      "text/plain": [
       "array([[1.95567000e+01, 2.13994000e+01, 1.29247000e+02, 1.20715000e+03,\n",
       "        1.00837800e-01, 1.44753300e-01, 1.74923400e-01, 9.95329000e-02,\n",
       "        1.91407000e-01, 6.00351000e-02, 7.42714000e-01, 1.21269500e+00,\n",
       "        5.23596000e+00, 9.66857000e+01, 6.60170000e-03, 3.08152700e-02,\n",
       "        4.20515000e-02, 1.55221800e-02, 2.04055000e-02, 3.82179000e-03,\n",
       "        2.38394000e+01, 2.85778000e+01, 1.59086000e+02, 1.77230000e+03,\n",
       "        1.39887400e-01, 3.42915600e-01, 4.43518000e-01, 1.90194700e-01,\n",
       "        3.11853000e-01, 8.47979000e-02],\n",
       "       [1.25855042e+01, 1.85612676e+01, 8.13569577e+01, 4.98667042e+02,\n",
       "        9.43091549e-02, 9.20322817e-02, 6.46656789e-02, 3.38423972e-02,\n",
       "        1.78194930e-01, 6.35234366e-02, 3.06044507e-01, 1.19986761e+00,\n",
       "        2.18847690e+00, 2.41235803e+01, 7.09819437e-03, 2.41763437e-02,\n",
       "        3.02242842e-02, 1.08719014e-02, 2.06208394e-02, 3.82007972e-03,\n",
       "        1.40930479e+01, 2.46787606e+01, 9.24600563e+01, 6.24786197e+02,\n",
       "        1.29178535e-01, 2.27340732e-01, 2.27010504e-01, 9.27702563e-02,\n",
       "        2.84487887e-01, 8.36058592e-02]])"
      ]
     },
     "execution_count": 18,
     "metadata": {},
     "output_type": "execute_result"
    }
   ],
   "source": [
    "bc_kmeans.cluster_centers_"
   ]
  },
  {
   "cell_type": "code",
   "execution_count": 19,
   "id": "607fbb6f",
   "metadata": {
    "colab": {
     "base_uri": "https://localhost:8080/"
    },
    "id": "607fbb6f",
    "outputId": "e839c19b-36a7-433d-f161-cfb2b270404b"
   },
   "outputs": [
    {
     "name": "stdout",
     "output_type": "stream",
     "text": [
      "Evaluasi hasil prediksi menggunakan metric Accuracy: 0.8771929824561403\n",
      "Evaluasi hasil prediksi menggunakan metric F1: 0.8771929824561403\n"
     ]
    }
   ],
   "source": [
    "# Memprediksi hasil dari model\n",
    "y_bc_pred = bc_kmeans.predict(X_bc_test)\n",
    "\n",
    "# Mengevaluasi hasil prediksi\n",
    "# Menggunakan metric Accuracy\n",
    "bc_kmeans_accuracy = accuracy_score(y_bc_test, y_bc_pred)\n",
    "print(\"Evaluasi hasil prediksi menggunakan metric Accuracy: {}\".format(bc_kmeans_accuracy))\n",
    "\n",
    "# Menggunakan metric F1\n",
    "bc_kmeans_f1 = f1_score(y_bc_test, y_bc_pred, average='micro')\n",
    "print(\"Evaluasi hasil prediksi menggunakan metric F1: {}\".format(bc_kmeans_f1))\n",
    "\n",
    "bc_accuracy_scores['kmeans'] = bc_kmeans_accuracy\n",
    "bc_f1_scores['kmeans'] = bc_kmeans_f1"
   ]
  },
  {
   "cell_type": "markdown",
   "id": "1b58706f",
   "metadata": {
    "id": "1b58706f"
   },
   "source": [
    "#### 2. Dataset Play Tennis"
   ]
  },
  {
   "cell_type": "code",
   "execution_count": 20,
   "id": "2782da7c",
   "metadata": {
    "colab": {
     "base_uri": "https://localhost:8080/"
    },
    "id": "2782da7c",
    "outputId": "9d61a7e9-a8c7-4c3b-cda2-6cb0fcf3bd74"
   },
   "outputs": [
    {
     "data": {
      "text/plain": [
       "KMeans(n_clusters=2, random_state=42)"
      ]
     },
     "execution_count": 20,
     "metadata": {},
     "output_type": "execute_result"
    }
   ],
   "source": [
    "pt_kmeans = KMeans(n_clusters=2, random_state=42)\n",
    "pt_kmeans.fit(X_pt_train)"
   ]
  },
  {
   "cell_type": "code",
   "execution_count": 21,
   "id": "ol6tV7mTkd1R",
   "metadata": {
    "colab": {
     "base_uri": "https://localhost:8080/"
    },
    "id": "ol6tV7mTkd1R",
    "outputId": "bb4af2de-602e-4fb8-836c-36887fd97bfc"
   },
   "outputs": [
    {
     "data": {
      "text/plain": [
       "array([[1.6       , 1.8       , 0.2       , 0.4       ],\n",
       "       [0.66666667, 0.33333333, 0.83333333, 0.66666667]])"
      ]
     },
     "execution_count": 21,
     "metadata": {},
     "output_type": "execute_result"
    }
   ],
   "source": [
    "pt_kmeans.cluster_centers_"
   ]
  },
  {
   "cell_type": "code",
   "execution_count": 22,
   "id": "e3f1cd33",
   "metadata": {
    "colab": {
     "base_uri": "https://localhost:8080/"
    },
    "id": "e3f1cd33",
    "outputId": "e372e7fe-a86a-4f3b-d9d2-b1f024426280"
   },
   "outputs": [
    {
     "name": "stdout",
     "output_type": "stream",
     "text": [
      "Evaluasi hasil prediksi menggunakan metric Accuracy: 0.3333333333333333\n",
      "Evaluasi hasil prediksi menggunakan metric F1: 0.0\n"
     ]
    }
   ],
   "source": [
    "# Memprediksi hasil dari model\n",
    "y_pt_pred = pt_kmeans.predict(X_pt_test)\n",
    "\n",
    "# Mengevaluasi hasil prediksi\n",
    "# Menggunakan metric Accuracy\n",
    "pt_kmeans_accuracy = accuracy_score(y_pt_test, y_pt_pred)\n",
    "print(\"Evaluasi hasil prediksi menggunakan metric Accuracy: {}\".format(pt_kmeans_accuracy))\n",
    "\n",
    "# Menggunakan metric F1\n",
    "pt_kmeans_f1 = f1_score(y_pt_test, y_pt_pred)\n",
    "print(\"Evaluasi hasil prediksi menggunakan metric F1: {}\".format(pt_kmeans_f1))\n",
    "\n",
    "pt_accuracy_scores['kmeans'] = pt_kmeans_accuracy\n",
    "pt_f1_scores['kmeans'] = pt_kmeans_f1"
   ]
  },
  {
   "cell_type": "markdown",
   "id": "63e581e7",
   "metadata": {
    "id": "63e581e7"
   },
   "source": [
    "### LogisticRegression\n",
    "Parameter :\n",
    "- random_state => Memberikan seed ke random number generator\n",
    "- max_iter => Jumlah maksimum iterasi untuk learning"
   ]
  },
  {
   "cell_type": "markdown",
   "id": "1adf85c6",
   "metadata": {
    "id": "1adf85c6"
   },
   "source": [
    "#### 1. Dataset Breast Cancer"
   ]
  },
  {
   "cell_type": "code",
   "execution_count": 23,
   "id": "7420ea62",
   "metadata": {
    "colab": {
     "base_uri": "https://localhost:8080/"
    },
    "id": "7420ea62",
    "outputId": "4e4ac568-b226-4233-d263-78fed5ba6597"
   },
   "outputs": [
    {
     "data": {
      "text/plain": [
       "LogisticRegression(max_iter=10000, random_state=42)"
      ]
     },
     "execution_count": 23,
     "metadata": {},
     "output_type": "execute_result"
    }
   ],
   "source": [
    "bc_log_regression = LogisticRegression(random_state=42, max_iter=10000)\n",
    "bc_log_regression.fit(X_bc_train, y_bc_train)"
   ]
  },
  {
   "cell_type": "code",
   "execution_count": 24,
   "id": "yQY0vHu2kzr1",
   "metadata": {
    "colab": {
     "base_uri": "https://localhost:8080/"
    },
    "id": "yQY0vHu2kzr1",
    "outputId": "ce0a95a8-1ecf-4df0-b553-94235af2bb5e"
   },
   "outputs": [
    {
     "data": {
      "text/plain": [
       "array([[ 0.97958497,  0.22409335, -0.36962318,  0.02649233, -0.15073982,\n",
       "        -0.2417205 , -0.52852453, -0.26419291, -0.22542063, -0.04083891,\n",
       "        -0.09376801,  1.36542533, -0.19966173, -0.08629376, -0.02183132,\n",
       "         0.02886991, -0.06885303, -0.0320072 , -0.03601711,  0.00903861,\n",
       "         0.10921071, -0.51285225, -0.01213193, -0.01711022, -0.29750694,\n",
       "        -0.80517549, -1.46249383, -0.48311709, -0.7290167 , -0.10898098]])"
      ]
     },
     "execution_count": 24,
     "metadata": {},
     "output_type": "execute_result"
    }
   ],
   "source": [
    "bc_log_regression.coef_"
   ]
  },
  {
   "cell_type": "code",
   "execution_count": 25,
   "id": "77c462da",
   "metadata": {
    "colab": {
     "base_uri": "https://localhost:8080/"
    },
    "id": "77c462da",
    "outputId": "b792e9d7-a609-419e-b947-7e64110feddd"
   },
   "outputs": [
    {
     "name": "stdout",
     "output_type": "stream",
     "text": [
      "Evaluasi hasil prediksi menggunakan metric Accuracy: 0.956140350877193\n",
      "Evaluasi hasil prediksi menggunakan metric F1: 0.9655172413793103\n"
     ]
    }
   ],
   "source": [
    "# Memprediksi hasil dari model\n",
    "y_bc_pred = bc_log_regression.predict(X_bc_test)\n",
    "\n",
    "# Mengevaluasi hasil prediksi\n",
    "# Menggunakan metric Accuracy\n",
    "bc_regression_accuracy = accuracy_score(y_bc_test, y_bc_pred)\n",
    "print(\"Evaluasi hasil prediksi menggunakan metric Accuracy: {}\".format(bc_regression_accuracy))\n",
    "\n",
    "# Menggunakan metric F1\n",
    "bc_regression_f1 = f1_score(y_bc_test, y_bc_pred)\n",
    "print(\"Evaluasi hasil prediksi menggunakan metric F1: {}\".format(bc_regression_f1))\n",
    "\n",
    "bc_accuracy_scores['logistic_regression'] = bc_regression_accuracy\n",
    "bc_f1_scores['logistic_regression'] = bc_regression_f1"
   ]
  },
  {
   "cell_type": "markdown",
   "id": "1e5f3a4c",
   "metadata": {
    "id": "1e5f3a4c"
   },
   "source": [
    "#### 2. Dataset Play Tennis"
   ]
  },
  {
   "cell_type": "code",
   "execution_count": 26,
   "id": "af3c44d2",
   "metadata": {
    "colab": {
     "base_uri": "https://localhost:8080/"
    },
    "id": "af3c44d2",
    "outputId": "5e01b3a4-d4ea-4e32-e487-b8cce42776db"
   },
   "outputs": [
    {
     "data": {
      "text/plain": [
       "LogisticRegression(max_iter=10000, random_state=42)"
      ]
     },
     "execution_count": 26,
     "metadata": {},
     "output_type": "execute_result"
    }
   ],
   "source": [
    "pt_log_regression = LogisticRegression(random_state=42, max_iter=10000)\n",
    "pt_log_regression.fit(X_pt_train, y_pt_train)"
   ]
  },
  {
   "cell_type": "code",
   "execution_count": 27,
   "id": "sXZWTk8blEHB",
   "metadata": {
    "colab": {
     "base_uri": "https://localhost:8080/"
    },
    "id": "sXZWTk8blEHB",
    "outputId": "022ad9ee-2eeb-463b-bbc4-9a6a4cf62cf1"
   },
   "outputs": [
    {
     "data": {
      "text/plain": [
       "array([[-0.58244786, -0.0987447 ,  0.68889197,  0.72642571]])"
      ]
     },
     "execution_count": 27,
     "metadata": {},
     "output_type": "execute_result"
    }
   ],
   "source": [
    "pt_log_regression.coef_"
   ]
  },
  {
   "cell_type": "code",
   "execution_count": 28,
   "id": "39858f50",
   "metadata": {
    "colab": {
     "base_uri": "https://localhost:8080/"
    },
    "id": "39858f50",
    "outputId": "304b5229-593f-42e0-e4dc-d094278926d9"
   },
   "outputs": [
    {
     "name": "stdout",
     "output_type": "stream",
     "text": [
      "Evaluasi hasil prediksi menggunakan metric Accuracy: 0.6666666666666666\n",
      "Evaluasi hasil prediksi menggunakan metric F1: 0.8\n"
     ]
    }
   ],
   "source": [
    "# Memprediksi hasil dari model\n",
    "y_pt_pred = pt_log_regression.predict(X_pt_test)\n",
    "\n",
    "# Mengevaluasi hasil prediksi\n",
    "# Menggunakan metric Accuracy\n",
    "pt_regression_accuracy = accuracy_score(y_pt_test, y_pt_pred)\n",
    "print(\"Evaluasi hasil prediksi menggunakan metric Accuracy: {}\".format(pt_regression_accuracy))\n",
    "\n",
    "# Menggunakan metric F1\n",
    "pt_regression_f1 = f1_score(y_pt_test, y_pt_pred)\n",
    "print(\"Evaluasi hasil prediksi menggunakan metric F1: {}\".format(pt_regression_f1))\n",
    "\n",
    "pt_accuracy_scores['logistic_regression'] = pt_regression_accuracy\n",
    "pt_f1_scores['logistic_regression'] = pt_regression_f1"
   ]
  },
  {
   "cell_type": "markdown",
   "id": "a8dd5510",
   "metadata": {
    "id": "a8dd5510"
   },
   "source": [
    "### Neural Network\n",
    "Parameter :\n",
    "- random_state => Memberikan seed ke random number generator"
   ]
  },
  {
   "cell_type": "markdown",
   "id": "3b9b240c",
   "metadata": {
    "id": "3b9b240c"
   },
   "source": [
    "#### 1. Dataset Breast Cancer"
   ]
  },
  {
   "cell_type": "code",
   "execution_count": 29,
   "id": "726c7fed",
   "metadata": {
    "colab": {
     "base_uri": "https://localhost:8080/"
    },
    "id": "726c7fed",
    "outputId": "3f247e83-308b-4df0-c91a-43605923ba80"
   },
   "outputs": [
    {
     "data": {
      "text/plain": [
       "MLPClassifier(random_state=42)"
      ]
     },
     "execution_count": 29,
     "metadata": {},
     "output_type": "execute_result"
    }
   ],
   "source": [
    "bc_neural_network = MLPClassifier(random_state=42)\n",
    "bc_neural_network.fit(X_bc_train, y_bc_train)"
   ]
  },
  {
   "cell_type": "code",
   "execution_count": 30,
   "id": "CblPL9n1leyu",
   "metadata": {
    "colab": {
     "base_uri": "https://localhost:8080/"
    },
    "id": "CblPL9n1leyu",
    "outputId": "9960cc51-e3d9-4b31-cff1-5ade9db257b4"
   },
   "outputs": [
    {
     "data": {
      "text/plain": [
       "[array([[-6.91807926e-02,  2.15670985e-01,  7.45095830e-04, ...,\n",
       "          1.57259002e-08, -2.26490378e-01, -1.91674421e-01],\n",
       "        [-2.19908656e-01,  6.13319163e-02, -1.65912634e-04, ...,\n",
       "          1.15236141e-02,  1.63183654e-01,  1.15947144e-01],\n",
       "        [ 4.86235414e-02, -1.59413714e-01, -5.72546345e-03, ...,\n",
       "         -2.39768515e-03,  3.29609649e-02, -1.98728835e-01],\n",
       "        ...,\n",
       "        [ 7.04438586e-02,  1.66873893e-01, -9.00689687e-03, ...,\n",
       "          4.52405314e-06,  2.45289617e-01, -9.56875167e-02],\n",
       "        [ 1.36355615e-01,  1.83951499e-01,  1.77956502e-02, ...,\n",
       "         -4.94895511e-04, -4.12245164e-02, -2.08699319e-01],\n",
       "        [-1.64611978e-01,  1.22862483e-01, -2.72529905e-02, ...,\n",
       "         -1.97821579e-04, -9.93881880e-02,  1.49407893e-01]]),\n",
       " array([[-1.97529919e-01],\n",
       "        [ 1.21968255e-01],\n",
       "        [ 2.20200238e-02],\n",
       "        [ 1.80909862e-08],\n",
       "        [-1.03530816e-01],\n",
       "        [-1.97852353e-02],\n",
       "        [ 1.26926502e-03],\n",
       "        [-2.14434159e-01],\n",
       "        [ 4.91669313e-07],\n",
       "        [ 1.43071665e-02],\n",
       "        [ 4.32509227e-05],\n",
       "        [-1.10943704e-01],\n",
       "        [ 9.84878516e-04],\n",
       "        [-1.86114861e-01],\n",
       "        [-1.31957455e-01],\n",
       "        [ 1.55536431e-02],\n",
       "        [-2.28562015e-03],\n",
       "        [-3.75864471e-02],\n",
       "        [-2.45629056e-03],\n",
       "        [-4.66266848e-03],\n",
       "        [-9.60137918e-02],\n",
       "        [-1.07636925e-01],\n",
       "        [-2.06698631e-01],\n",
       "        [-1.27121428e-09],\n",
       "        [ 1.25090833e-01],\n",
       "        [ 6.55308466e-02],\n",
       "        [ 9.87151773e-02],\n",
       "        [-2.28436092e-02],\n",
       "        [ 2.32531321e-01],\n",
       "        [ 1.00272573e-02],\n",
       "        [ 6.35664511e-03],\n",
       "        [ 8.20080066e-03],\n",
       "        [ 2.55967447e-02],\n",
       "        [ 3.23367472e-02],\n",
       "        [-5.85742143e-03],\n",
       "        [ 9.99407520e-06],\n",
       "        [ 1.31930802e-01],\n",
       "        [ 9.76534260e-02],\n",
       "        [-1.69574464e-10],\n",
       "        [-2.53586701e-02],\n",
       "        [-4.59089661e-02],\n",
       "        [ 2.32151274e-02],\n",
       "        [ 2.02990500e-07],\n",
       "        [ 4.20149932e-02],\n",
       "        [-9.71349803e-02],\n",
       "        [-4.75481253e-02],\n",
       "        [ 2.04358171e-01],\n",
       "        [ 1.87894431e-04],\n",
       "        [ 1.53377791e-01],\n",
       "        [-1.32548377e-09],\n",
       "        [ 7.14866639e-02],\n",
       "        [-1.07682231e-01],\n",
       "        [ 1.14322297e-01],\n",
       "        [-1.53337892e-02],\n",
       "        [-3.53436484e-02],\n",
       "        [ 8.31279425e-05],\n",
       "        [ 2.28864454e-01],\n",
       "        [-2.62709034e-02],\n",
       "        [ 1.71204205e-01],\n",
       "        [-8.18325759e-04],\n",
       "        [ 4.77671191e-09],\n",
       "        [-2.09786081e-01],\n",
       "        [ 9.43528383e-03],\n",
       "        [ 7.35344686e-03],\n",
       "        [-2.02033261e-01],\n",
       "        [-1.82023143e-11],\n",
       "        [ 2.08649965e-01],\n",
       "        [-1.77888418e-01],\n",
       "        [ 3.18236696e-03],\n",
       "        [-4.69219727e-02],\n",
       "        [ 6.32136131e-02],\n",
       "        [-1.18959419e-01],\n",
       "        [-1.70084779e-01],\n",
       "        [-1.46458394e-01],\n",
       "        [-2.09834751e-01],\n",
       "        [-6.15001684e-03],\n",
       "        [ 9.30738797e-02],\n",
       "        [ 1.80289070e-01],\n",
       "        [ 1.65990356e-01],\n",
       "        [ 1.04011443e-01],\n",
       "        [-1.89676395e-01],\n",
       "        [-8.77651528e-02],\n",
       "        [-7.88066405e-02],\n",
       "        [-1.13202926e-01],\n",
       "        [-6.75921866e-03],\n",
       "        [ 2.78149979e-02],\n",
       "        [-9.31696205e-03],\n",
       "        [-7.04297632e-05],\n",
       "        [ 1.72180775e-01],\n",
       "        [ 1.53758112e-01],\n",
       "        [-7.90835729e-02],\n",
       "        [ 2.18760390e-02],\n",
       "        [ 1.14720167e-01],\n",
       "        [-2.49673180e-04],\n",
       "        [-5.15000101e-02],\n",
       "        [ 1.00767364e-02],\n",
       "        [ 1.70433090e-01],\n",
       "        [ 1.53715415e-02],\n",
       "        [-1.81008710e-01],\n",
       "        [-4.07978498e-02]])]"
      ]
     },
     "execution_count": 30,
     "metadata": {},
     "output_type": "execute_result"
    }
   ],
   "source": [
    "bc_neural_network.coefs_"
   ]
  },
  {
   "cell_type": "code",
   "execution_count": 31,
   "id": "15f89e2e",
   "metadata": {
    "colab": {
     "base_uri": "https://localhost:8080/"
    },
    "id": "15f89e2e",
    "outputId": "be0a343c-9d6b-4fd2-be3e-760bb2562c6d"
   },
   "outputs": [
    {
     "name": "stdout",
     "output_type": "stream",
     "text": [
      "Evaluasi hasil prediksi menggunakan metric Accuracy: 0.9385964912280702\n",
      "Evaluasi hasil prediksi menggunakan metric F1: 0.953020134228188\n"
     ]
    }
   ],
   "source": [
    "y_bc_pred = bc_neural_network.predict(X_bc_test)\n",
    "\n",
    "# Mengevaluasi hasil prediksi\n",
    "# Menggunakan metric Accuracy\n",
    "bc_nn_accuracy = accuracy_score(y_bc_test, y_bc_pred)\n",
    "print(\"Evaluasi hasil prediksi menggunakan metric Accuracy: {}\".format(bc_nn_accuracy))\n",
    "\n",
    "# Menggunakan metric F1\n",
    "bc_nn_f1 = f1_score(y_bc_test, y_bc_pred)\n",
    "print(\"Evaluasi hasil prediksi menggunakan metric F1: {}\".format(bc_nn_f1))\n",
    "\n",
    "bc_accuracy_scores['neural_network'] = bc_nn_accuracy\n",
    "bc_f1_scores['neural_network'] = bc_nn_f1"
   ]
  },
  {
   "cell_type": "markdown",
   "id": "e88c0153",
   "metadata": {
    "id": "e88c0153"
   },
   "source": [
    "#### 2. Dataset Play Tennis"
   ]
  },
  {
   "cell_type": "code",
   "execution_count": 32,
   "id": "60a272e6",
   "metadata": {
    "colab": {
     "base_uri": "https://localhost:8080/"
    },
    "id": "60a272e6",
    "outputId": "e1637d35-edbc-44c8-d310-36015bc400d3"
   },
   "outputs": [
    {
     "data": {
      "text/plain": [
       "MLPClassifier(max_iter=1000, random_state=42)"
      ]
     },
     "execution_count": 32,
     "metadata": {},
     "output_type": "execute_result"
    }
   ],
   "source": [
    "pt_neural_network = MLPClassifier(random_state=42, max_iter=1000)\n",
    "pt_neural_network.fit(X_pt_train, y_pt_train)"
   ]
  },
  {
   "cell_type": "code",
   "execution_count": 33,
   "id": "onfRO3brlmou",
   "metadata": {
    "colab": {
     "base_uri": "https://localhost:8080/"
    },
    "id": "onfRO3brlmou",
    "outputId": "a1f85243-a230-4b3e-b5dc-ea6ea829eaa2"
   },
   "outputs": [
    {
     "data": {
      "text/plain": [
       "[array([[ 5.75334379e-17,  5.90697603e-01,  2.67202836e-01,\n",
       "         -1.29043159e-01, -2.07771426e-01, -1.77061850e-01,\n",
       "         -1.48690806e-04,  2.34289944e-01, -1.93160016e-01,\n",
       "         -7.04264650e-15, -3.99567663e-04,  5.21356283e-01,\n",
       "          1.20291902e-02, -4.37271166e-01, -2.01983672e-01,\n",
       "          5.95649865e-02, -1.27151405e-01, -1.09360520e-01,\n",
       "         -3.19127421e-01, -5.13289954e-02, -1.62930283e-01,\n",
       "         -3.23544440e-01, -1.37338339e-15, -2.11685750e-16,\n",
       "          1.05777170e-17,  3.02387432e-01, -3.77730648e-01,\n",
       "          1.95441450e-01, -2.14399635e-02, -2.07030597e-04,\n",
       "          3.98000493e-02, -2.83476197e-01, -4.38359972e-01,\n",
       "          1.32552261e-01,  2.28403075e-01,  1.53386366e-01,\n",
       "         -2.51271360e-14,  5.09682356e-02,  6.55185678e-01,\n",
       "         -6.13921486e-02, -3.80058926e-01, -1.87800222e-01,\n",
       "         -2.84856518e-04,  3.21798650e-01, -3.15818137e-01,\n",
       "          5.69688350e-02,  7.26369947e-02,  8.32320539e-02,\n",
       "          8.77237292e-02, -2.40718128e-07, -1.25156435e-01,\n",
       "         -5.07300039e-02,  1.02532666e-01,  5.26239495e-01,\n",
       "          1.53425369e-01,  5.54115453e-01, -5.50220800e-05,\n",
       "         -1.67271717e-01, -2.14069007e-04, -7.07251426e-15,\n",
       "         -8.62807563e-17, -1.13455223e-01,  3.44473899e-01,\n",
       "         -8.25355487e-02, -1.54363657e-01, -2.06456963e-01,\n",
       "         -1.89739226e-01, -1.05710859e-01, -8.90274359e-05,\n",
       "          4.58018530e-01,  1.78922268e-01, -5.20857324e-01,\n",
       "         -5.61530847e-04, -4.98347122e-02,  8.36565333e-02,\n",
       "         -5.64386222e-02,  2.37122664e-01, -4.40052023e-01,\n",
       "         -3.53635591e-01, -1.83114580e-05,  5.76335519e-01,\n",
       "         -2.08065820e-01, -2.94340440e-01,  1.37558080e-02,\n",
       "         -1.00668442e-01,  1.18732587e-01,  2.43907275e-01,\n",
       "          2.80834361e-01,  3.68305080e-01,  1.52678191e-01,\n",
       "         -7.94908756e-02,  2.14787710e-01,  3.19346929e-01,\n",
       "          2.52960884e-01,  7.81562269e-02, -1.18108245e-01,\n",
       "         -1.84486509e-01,  1.81836615e-01, -6.11727037e-02,\n",
       "         -1.42133045e-02],\n",
       "        [-3.06995809e-04, -3.14616148e-01,  2.83340895e-02,\n",
       "          2.05398058e-01,  4.04320983e-01, -1.89220901e-01,\n",
       "          3.16791707e-17,  1.24719536e-01, -1.75876010e-01,\n",
       "         -8.21380094e-05,  1.11324811e-13, -1.34148246e-01,\n",
       "          3.52308866e-01,  5.03543243e-02, -3.00811731e-02,\n",
       "          2.48518909e-01,  2.58756510e-01,  1.98930274e-01,\n",
       "          4.29025815e-01, -2.50067749e-01,  4.38478818e-01,\n",
       "          1.28909353e-01,  7.80546473e-15, -2.35951012e-05,\n",
       "         -3.60580066e-10,  1.04954893e-01,  3.95358334e-01,\n",
       "         -6.11966499e-03, -2.60696978e-01,  2.61567479e-18,\n",
       "          1.51225007e-01, -2.82443868e-02,  9.98309165e-02,\n",
       "         -4.42162201e-01,  1.97613277e-01, -3.72545666e-02,\n",
       "          4.26962583e-18,  2.24789611e-01, -3.06547228e-01,\n",
       "          3.17164489e-01,  3.88151665e-01,  1.55594231e-01,\n",
       "          6.51347110e-19, -4.59567204e-01, -8.21398624e-02,\n",
       "         -2.95263414e-01, -8.89016087e-02, -1.04861567e-02,\n",
       "         -9.91217485e-03,  4.70339388e-13,  6.72583958e-01,\n",
       "          2.73380289e-02,  4.51456988e-02, -2.68432440e-01,\n",
       "          2.68125676e-01, -2.44779264e-01,  5.79521198e-15,\n",
       "          6.62659242e-02,  1.23178412e-10,  1.21171879e-12,\n",
       "         -3.16570166e-16, -4.35997512e-02, -1.56758474e-01,\n",
       "         -1.46226468e-02, -2.53537952e-01,  5.13717420e-01,\n",
       "         -1.21636262e-01,  6.35999105e-02, -2.41267571e-04,\n",
       "          1.29722079e-02,  3.43390416e-01,  8.08928346e-03,\n",
       "         -2.65691574e-18,  1.29498123e-01,  1.55047365e-01,\n",
       "         -4.67125943e-02,  9.08628503e-02,  1.41215136e-01,\n",
       "          6.24307177e-01, -6.34995662e-06, -1.32000301e-01,\n",
       "         -9.56193893e-02,  6.64599025e-01,  2.95965526e-01,\n",
       "          7.80314109e-02,  1.32798456e-01,  1.86172742e-01,\n",
       "          8.70489262e-02, -1.59243455e-01, -1.95256553e-01,\n",
       "         -2.10560752e-01,  6.79719043e-02,  1.55687699e-01,\n",
       "          1.40981539e-01, -1.23954137e-01,  2.54451431e-01,\n",
       "          3.56625961e-01,  2.11660443e-01,  9.21075442e-02,\n",
       "          1.78183961e-01],\n",
       "        [-5.54450470e-16, -6.71730333e-01, -6.43136290e-01,\n",
       "          4.20022349e-01,  3.52939248e-01, -2.58930984e-01,\n",
       "         -3.35999650e-05,  3.62284187e-01, -1.14386222e-01,\n",
       "         -1.56500206e-06, -1.06780613e-18, -4.03065094e-01,\n",
       "          2.45853893e-01,  1.42166753e-01,  1.93242825e-02,\n",
       "         -5.72344689e-01, -2.77673272e-01,  5.08879002e-01,\n",
       "          3.64349585e-01,  3.19804837e-01,  3.90523519e-01,\n",
       "          8.99221360e-02, -4.54411625e-05, -3.13426431e-16,\n",
       "         -4.52975363e-12, -7.52182267e-01,  4.66928296e-01,\n",
       "         -2.68484414e-01,  4.11840955e-01,  3.41288295e-16,\n",
       "          4.96541164e-01,  6.37900613e-02,  1.91507938e-01,\n",
       "          3.50480540e-01,  1.97502672e-01,  3.98207960e-01,\n",
       "          5.57680019e-13, -7.19626326e-01, -5.60096923e-01,\n",
       "         -4.12046104e-01,  4.94006051e-01,  5.07617826e-01,\n",
       "          1.24842036e-01, -4.07624134e-02, -2.56794850e-02,\n",
       "          2.18674574e-01, -2.14313349e-01,  4.99100147e-01,\n",
       "          6.84498446e-01,  3.73254874e-06,  4.23919967e-01,\n",
       "          2.11166853e-01,  5.47437543e-01, -5.76936757e-01,\n",
       "          2.39579251e-01, -5.09904788e-01,  1.25043879e-04,\n",
       "          3.21376356e-02, -1.59559374e-17, -3.97651238e-05,\n",
       "          1.22659430e-16,  2.56138591e-01, -4.88730982e-01,\n",
       "         -2.45727493e-02,  1.24779785e-01,  4.86665396e-01,\n",
       "          5.67695590e-02,  4.56044682e-01,  6.01285037e-16,\n",
       "         -4.50291910e-01,  4.18703915e-01,  1.77158808e-01,\n",
       "          8.08490483e-06,  4.81824476e-01,  1.42136038e-01,\n",
       "          2.14899680e-01,  5.06145149e-02,  2.19216806e-01,\n",
       "          5.17190270e-01,  6.18697961e-02, -4.08671554e-01,\n",
       "          4.12262489e-03,  4.03184925e-01, -6.65961877e-01,\n",
       "          3.81267963e-01, -6.81520568e-01, -4.92572595e-01,\n",
       "         -2.70767672e-01, -3.06679544e-01, -1.15688862e-01,\n",
       "         -1.15005160e-01, -5.88089191e-01, -9.71402209e-02,\n",
       "         -6.15193343e-01, -2.66647714e-02,  5.24799650e-01,\n",
       "          4.02482828e-01, -6.52598048e-01, -6.66800954e-02,\n",
       "         -5.41624727e-01],\n",
       "        [-1.78930584e-04, -4.60668433e-01,  5.62666019e-02,\n",
       "          3.12116432e-01,  4.70290213e-01,  1.60185017e-01,\n",
       "         -4.23072897e-18, -1.21314821e-01,  4.30972711e-01,\n",
       "         -1.63749180e-12,  2.91834568e-18, -7.70917501e-01,\n",
       "         -3.93432240e-02,  4.79011682e-01,  7.79758987e-02,\n",
       "          9.39107457e-02, -4.04631296e-01,  5.72636095e-01,\n",
       "         -8.79588006e-02, -5.00085180e-01,  3.54016490e-01,\n",
       "          1.99859636e-01, -2.21242937e-15,  5.41079513e-13,\n",
       "          2.14609150e-04,  2.08109076e-01,  5.33632381e-02,\n",
       "         -2.00145541e-01, -5.21250454e-01,  4.45274584e-11,\n",
       "          3.90292356e-01,  4.03657581e-01,  4.29149018e-01,\n",
       "         -8.84082754e-01, -4.26127500e-01, -5.52089900e-02,\n",
       "          4.30253421e-06,  1.20761169e-01, -6.63217294e-01,\n",
       "         -4.73502233e-01,  9.81555800e-02,  2.94270015e-01,\n",
       "         -6.38148536e-07,  5.56599855e-01,  4.54395992e-01,\n",
       "         -1.77608636e-01, -1.33898712e-01, -3.15798266e-02,\n",
       "          1.42198411e-01, -2.25336449e-17,  5.32855123e-01,\n",
       "          4.34700866e-01,  6.04325619e-01, -6.43467906e-01,\n",
       "         -4.51069721e-01, -5.45789448e-01, -3.46676289e-04,\n",
       "         -2.27166844e-02,  1.41435527e-04,  1.74378123e-17,\n",
       "         -1.05597387e-16, -8.67594454e-02, -3.27366257e-01,\n",
       "         -1.06589961e-02,  1.61569499e-01,  3.29615142e-01,\n",
       "          1.88722218e-01,  5.74238731e-01, -8.25201012e-08,\n",
       "         -5.73385805e-01, -4.47431425e-01, -3.66429153e-02,\n",
       "         -4.41432865e-05,  3.87708539e-01, -2.51160676e-01,\n",
       "          1.93068580e-01,  7.36694364e-02,  3.76990536e-01,\n",
       "          5.74775357e-01,  5.51019861e-13, -8.29214526e-01,\n",
       "          4.03518539e-01,  5.99239652e-01,  1.97696860e-01,\n",
       "          4.38991058e-01,  1.63925122e-01,  1.56268149e-01,\n",
       "         -5.61328590e-01, -1.25308291e-01,  3.65434519e-02,\n",
       "          2.17782598e-01,  1.08204126e-01, -3.42625243e-01,\n",
       "          2.81375028e-01, -8.40153646e-02,  7.06237382e-01,\n",
       "          4.62084209e-01,  1.19417055e-01, -2.02967497e-02,\n",
       "          8.76225414e-02]]),\n",
       " array([[ 9.05521057e-14],\n",
       "        [-5.63152038e-01],\n",
       "        [-5.30531505e-01],\n",
       "        [ 3.63384829e-01],\n",
       "        [ 4.14323698e-01],\n",
       "        [-6.48335265e-02],\n",
       "        [ 6.68468451e-05],\n",
       "        [ 6.28682500e-01],\n",
       "        [ 5.78307131e-01],\n",
       "        [ 1.58129705e-12],\n",
       "        [ 1.20359746e-16],\n",
       "        [-4.75063114e-01],\n",
       "        [ 2.61613594e-01],\n",
       "        [ 4.96247023e-01],\n",
       "        [-1.58976449e-01],\n",
       "        [-5.76898507e-01],\n",
       "        [-5.82156145e-01],\n",
       "        [ 9.48283444e-01],\n",
       "        [ 6.99241446e-01],\n",
       "        [-6.01972374e-01],\n",
       "        [ 3.01745895e-01],\n",
       "        [ 1.10238529e-01],\n",
       "        [ 3.75900600e-04],\n",
       "        [ 2.62239479e-06],\n",
       "        [ 2.05512226e-06],\n",
       "        [-5.27739110e-01],\n",
       "        [ 2.82685616e-01],\n",
       "        [-3.05039379e-01],\n",
       "        [-7.83504778e-01],\n",
       "        [ 9.42991796e-06],\n",
       "        [ 6.68957590e-01],\n",
       "        [ 5.55418362e-01],\n",
       "        [ 8.69976361e-01],\n",
       "        [-6.84710719e-01],\n",
       "        [ 2.79125602e-01],\n",
       "        [ 7.11955694e-01],\n",
       "        [ 4.14274042e-06],\n",
       "        [-3.96156312e-01],\n",
       "        [-5.52184358e-01],\n",
       "        [-5.93832418e-01],\n",
       "        [ 5.93623076e-01],\n",
       "        [ 2.64282906e-01],\n",
       "        [-7.78849225e-02],\n",
       "        [ 6.80691464e-01],\n",
       "        [ 5.93251583e-01],\n",
       "        [-1.42150091e-01],\n",
       "        [-3.06701026e-01],\n",
       "        [ 3.74605106e-01],\n",
       "        [ 3.99953360e-01],\n",
       "        [ 1.27258846e-09],\n",
       "        [ 4.67768216e-01],\n",
       "        [ 4.98216781e-01],\n",
       "        [ 3.85579468e-01],\n",
       "        [-4.21432171e-01],\n",
       "        [ 5.14907616e-01],\n",
       "        [-5.94682823e-01],\n",
       "        [-1.00522442e-05],\n",
       "        [-1.84783652e-01],\n",
       "        [-1.07767284e-10],\n",
       "        [-2.11124102e-16],\n",
       "        [ 2.80406326e-14],\n",
       "        [-1.50484901e-01],\n",
       "        [-5.67814412e-01],\n",
       "        [-2.09717279e-01],\n",
       "        [ 1.26099609e-02],\n",
       "        [ 4.58451538e-01],\n",
       "        [-2.11283299e-02],\n",
       "        [ 2.14158513e-01],\n",
       "        [ 5.23057287e-05],\n",
       "        [-4.18703137e-01],\n",
       "        [ 5.44248105e-01],\n",
       "        [ 6.20423232e-01],\n",
       "        [ 9.30057069e-17],\n",
       "        [ 2.79380512e-01],\n",
       "        [ 3.59268075e-01],\n",
       "        [ 4.52010950e-01],\n",
       "        [ 5.00376638e-02],\n",
       "        [ 8.02990225e-01],\n",
       "        [ 2.33337235e-01],\n",
       "        [-5.78258702e-02],\n",
       "        [-4.96314260e-01],\n",
       "        [ 6.13306570e-01],\n",
       "        [ 3.99295193e-01],\n",
       "        [-2.54453774e-01],\n",
       "        [ 3.95529372e-01],\n",
       "        [-5.09418117e-01],\n",
       "        [-5.75068603e-01],\n",
       "        [-6.48950122e-01],\n",
       "        [-4.30035139e-01],\n",
       "        [-1.95007083e-01],\n",
       "        [-1.52750118e-01],\n",
       "        [-3.36462354e-01],\n",
       "        [-4.69927175e-01],\n",
       "        [-6.83560931e-01],\n",
       "        [ 1.52900125e-01],\n",
       "        [ 4.49077799e-01],\n",
       "        [ 3.24957450e-01],\n",
       "        [-6.80404994e-01],\n",
       "        [-8.29705370e-02],\n",
       "        [-4.18109877e-01]])]"
      ]
     },
     "execution_count": 33,
     "metadata": {},
     "output_type": "execute_result"
    }
   ],
   "source": [
    "pt_neural_network.coefs_"
   ]
  },
  {
   "cell_type": "code",
   "execution_count": 34,
   "id": "a2408587",
   "metadata": {
    "colab": {
     "base_uri": "https://localhost:8080/"
    },
    "id": "a2408587",
    "outputId": "48553521-5d95-4272-ffad-c11c53efae13"
   },
   "outputs": [
    {
     "name": "stdout",
     "output_type": "stream",
     "text": [
      "Evaluasi hasil prediksi menggunakan metric Accuracy: 1.0\n",
      "Evaluasi hasil prediksi menggunakan metric F1: 1.0\n"
     ]
    }
   ],
   "source": [
    "# Memprediksi hasil dari model\n",
    "y_pt_pred = pt_neural_network.predict(X_pt_test)\n",
    "\n",
    "# Mengevaluasi hasil prediksi\n",
    "# Menggunakan metric Accuracy\n",
    "pt_nn_accuracy = accuracy_score(y_pt_test, y_pt_pred)\n",
    "print(\"Evaluasi hasil prediksi menggunakan metric Accuracy: {}\".format(pt_nn_accuracy))\n",
    "\n",
    "# Menggunakan metric F1\n",
    "pt_nn_f1 = f1_score(y_pt_test, y_pt_pred)\n",
    "print(\"Evaluasi hasil prediksi menggunakan metric F1: {}\".format(pt_nn_f1))\n",
    "\n",
    "pt_accuracy_scores['neural_network'] = pt_nn_accuracy\n",
    "pt_f1_scores['neural_network'] = pt_nn_f1"
   ]
  },
  {
   "cell_type": "markdown",
   "id": "a7ef2ca6",
   "metadata": {
    "id": "a7ef2ca6"
   },
   "source": [
    "### SVM\n",
    "Pada algoritma ini digunakan pipeline untuk mengenkapsulasi scaler bersamaan dengan konstruktor algoritma agar dihasilkan skor learning yang lebih baik.  \n",
    "Parameter :\n",
    "- gamma => Mendefinisikan besar pengaruh dari sebuah training"
   ]
  },
  {
   "cell_type": "markdown",
   "id": "9eaac185",
   "metadata": {
    "id": "9eaac185"
   },
   "source": [
    "#### 1. Dataset Breast Cancer"
   ]
  },
  {
   "cell_type": "code",
   "execution_count": 36,
   "id": "5d78ca20",
   "metadata": {
    "colab": {
     "base_uri": "https://localhost:8080/"
    },
    "id": "5d78ca20",
    "outputId": "ef966a1d-09b9-4a08-99cf-6e9ad9477e60"
   },
   "outputs": [
    {
     "data": {
      "text/plain": [
       "Pipeline(steps=[('standardscaler', StandardScaler()),\n",
       "                ('svc', SVC(gamma='auto'))])"
      ]
     },
     "execution_count": 36,
     "metadata": {},
     "output_type": "execute_result"
    }
   ],
   "source": [
    "bc_svm = make_pipeline(StandardScaler(), SVC(gamma='auto'))\n",
    "bc_svm.fit(X_bc_train, y_bc_train)"
   ]
  },
  {
   "cell_type": "code",
   "execution_count": 38,
   "id": "SyQpc7Qpqt-O",
   "metadata": {
    "colab": {
     "base_uri": "https://localhost:8080/"
    },
    "id": "SyQpc7Qpqt-O",
    "outputId": "9f660d5e-c7d0-4e3d-b666-66ffee5e3252"
   },
   "outputs": [
    {
     "data": {
      "text/plain": [
       "array([[-0.14351766, -1.        , -1.        , -0.36744822, -1.        ,\n",
       "        -1.        , -0.49680947, -1.        , -0.92543086, -0.5634964 ,\n",
       "        -0.18862423, -0.36761666, -1.        , -0.3573522 , -0.14472207,\n",
       "        -1.        , -0.60469529, -1.        , -1.        , -0.04314932,\n",
       "        -1.        , -1.        , -1.        , -1.        , -0.6699591 ,\n",
       "        -0.2172382 , -0.67468591, -0.14012133, -1.        , -1.        ,\n",
       "        -0.21337712, -0.6679511 , -0.68968737, -0.65335124, -1.        ,\n",
       "        -1.        , -0.83077391, -1.        , -1.        , -0.49936283,\n",
       "        -1.        , -1.        , -0.1257606 , -0.69861268, -0.69378714,\n",
       "        -0.68027369, -0.32979043, -1.        , -1.        , -1.        ,\n",
       "        -1.        , -1.        , -1.        ,  1.        ,  0.8243754 ,\n",
       "         0.13150678,  1.        ,  1.        ,  0.89816219,  1.        ,\n",
       "         0.01195675,  0.84851895,  0.76204143,  1.        ,  1.        ,\n",
       "         0.54981954,  1.        ,  0.46726034,  1.        ,  1.        ,\n",
       "         1.        ,  1.        ,  1.        ,  0.29982572,  0.62567705,\n",
       "         0.32118675,  1.        ,  0.25138207,  0.66436438,  0.82034339,\n",
       "         0.82913252,  0.34601989,  0.46729511,  1.        ,  1.        ,\n",
       "         0.53950981,  1.        ,  1.        ,  0.72011187,  0.62880706,\n",
       "         0.11500639,  1.        ,  1.        ,  1.        ,  0.91087504,\n",
       "         0.58042301,  1.        ,  0.34825432,  0.83048218,  1.        ,\n",
       "         1.        ,  1.        ,  0.47678221,  0.71847491]])"
      ]
     },
     "execution_count": 38,
     "metadata": {},
     "output_type": "execute_result"
    }
   ],
   "source": [
    "bc_svm.named_steps['svc'].dual_coef_"
   ]
  },
  {
   "cell_type": "code",
   "execution_count": 39,
   "id": "64abfdb3",
   "metadata": {
    "colab": {
     "base_uri": "https://localhost:8080/"
    },
    "id": "64abfdb3",
    "outputId": "0a7ac86e-9660-455e-8738-a76fb1ba0504"
   },
   "outputs": [
    {
     "name": "stdout",
     "output_type": "stream",
     "text": [
      "Evaluasi hasil prediksi menggunakan metric Accuracy: 0.9824561403508771\n",
      "Evaluasi hasil prediksi menggunakan metric F1: 0.9861111111111112\n"
     ]
    }
   ],
   "source": [
    "y_bc_pred = bc_svm.predict(X_bc_test)\n",
    "\n",
    "# Mengevaluasi hasil prediksi\n",
    "# Menggunakan metric Accuracy\n",
    "bc_svm_accuracy = accuracy_score(y_bc_test, y_bc_pred)\n",
    "print(\"Evaluasi hasil prediksi menggunakan metric Accuracy: {}\".format(bc_svm_accuracy))\n",
    "\n",
    "# Menggunakan metric F1\n",
    "bc_svm_f1 = f1_score(y_bc_test, y_bc_pred)\n",
    "print(\"Evaluasi hasil prediksi menggunakan metric F1: {}\".format(bc_svm_f1))\n",
    "\n",
    "bc_accuracy_scores['svm'] = bc_svm_accuracy\n",
    "bc_f1_scores['svm'] = bc_svm_f1"
   ]
  },
  {
   "cell_type": "markdown",
   "id": "0a8c87d6",
   "metadata": {
    "id": "0a8c87d6"
   },
   "source": [
    "#### 2. Dataset Play Tennis"
   ]
  },
  {
   "cell_type": "code",
   "execution_count": 40,
   "id": "56a5b09f",
   "metadata": {
    "colab": {
     "base_uri": "https://localhost:8080/"
    },
    "id": "56a5b09f",
    "outputId": "5a6815f2-cdea-4787-b2b8-469eca01899d"
   },
   "outputs": [
    {
     "data": {
      "text/plain": [
       "SVC(random_state=42)"
      ]
     },
     "execution_count": 40,
     "metadata": {},
     "output_type": "execute_result"
    }
   ],
   "source": [
    "pt_svc = SVC(random_state=42)\n",
    "pt_svc.fit(X_pt_train, y_pt_train)"
   ]
  },
  {
   "cell_type": "code",
   "execution_count": 41,
   "id": "MNGyeG2Zl6RV",
   "metadata": {
    "colab": {
     "base_uri": "https://localhost:8080/"
    },
    "id": "MNGyeG2Zl6RV",
    "outputId": "5353757e-36ff-4f64-c264-032eeb71bccf"
   },
   "outputs": [
    {
     "data": {
      "text/plain": [
       "array([[-1.        , -1.        , -1.        , -1.        ,  0.68467388,\n",
       "         0.19922452,  0.30277042,  1.        ,  1.        ,  0.81333118]])"
      ]
     },
     "execution_count": 41,
     "metadata": {},
     "output_type": "execute_result"
    }
   ],
   "source": [
    "pt_svc.dual_coef_"
   ]
  },
  {
   "cell_type": "code",
   "execution_count": 42,
   "id": "048a65d9",
   "metadata": {
    "colab": {
     "base_uri": "https://localhost:8080/"
    },
    "id": "048a65d9",
    "outputId": "6cfc6978-526a-4772-e60f-1f177dceade7"
   },
   "outputs": [
    {
     "name": "stdout",
     "output_type": "stream",
     "text": [
      "Evaluasi hasil prediksi menggunakan metric Accuracy: 0.6666666666666666\n",
      "Evaluasi hasil prediksi menggunakan metric F1: 0.8\n"
     ]
    }
   ],
   "source": [
    "# Memprediksi hasil dari model\n",
    "y_pt_pred = pt_svc.predict(X_pt_test)\n",
    "\n",
    "# Mengevaluasi hasil prediksi\n",
    "# Menggunakan metric Accuracy\n",
    "pt_svm_accuracy = accuracy_score(y_pt_test, y_pt_pred)\n",
    "print(\"Evaluasi hasil prediksi menggunakan metric Accuracy: {}\".format(pt_svm_accuracy))\n",
    "\n",
    "# Menggunakan metric F1\n",
    "pt_svm_f1 = f1_score(y_pt_test, y_pt_pred)\n",
    "print(\"Evaluasi hasil prediksi menggunakan metric F1: {}\".format(pt_svm_f1))\n",
    "\n",
    "pt_accuracy_scores['svm'] = pt_svm_accuracy\n",
    "pt_f1_scores['svm'] = pt_svm_f1"
   ]
  },
  {
   "cell_type": "code",
   "execution_count": 43,
   "id": "66f69b2b",
   "metadata": {},
   "outputs": [
    {
     "data": {
      "text/plain": [
       "<Figure size 432x288 with 0 Axes>"
      ]
     },
     "metadata": {},
     "output_type": "display_data"
    },
    {
     "data": {
      "image/png": "[encoded data removed]",
      "text/plain": [
       "<Figure size 432x288 with 1 Axes>"
      ]
     },
     "metadata": {
      "needs_background": "light"
     },
     "output_type": "display_data"
    }
   ],
   "source": [
    "bc_accuracy_df = pd.DataFrame.from_dict(bc_accuracy_scores, orient='index')\n",
    "bc_f1_df = pd.DataFrame.from_dict(bc_f1_scores, orient='index')\n",
    "bc_scores = pd.concat([bc_accuracy_df, bc_f1_df], axis=1)\n",
    "bc_scores.columns = ['Accuracy', 'F1 Score']\n",
    "\n",
    "plt.figure()\n",
    "bc_scores.plot(kind=\"barh\")\n",
    "plt.show()"
   ]
  },
  {
   "cell_type": "markdown",
   "id": "6e1df513",
   "metadata": {},
   "source": [
    "<!-- # 1. Breast Cancer\n",
    "## Algoritma\n",
    "    a. Decision Tree Classifier\n",
    "        - Accuracy Score: 0.9473684210526315 (~94.74%)\n",
    "        - F1 Score: 0.9577464788732394 (~95.77%)\n",
    "    b. Id3 Estimator\n",
    "        - Accuracy Score: 0.9385964912280702 (~93.86%)\n",
    "        - F1 Score: 0.9517241379310345 (~95.17%)\n",
    "    c. K-Means\n",
    "        - Accuracy Score: 0.12280701754385964 (~12.28%)\n",
    "        - F1 Score: 0.12280701754385964 (~12.28%)\n",
    "    d. Logistic Regression\n",
    "        - Accuracy Score: 0.956140350877193 (~95.61%)\n",
    "        - F1 Score: 0.9655172413793103 (~96.55%)\n",
    "    e. Neural Network\n",
    "        - Accuracy Score: 0.9385964912280702 (~93.86%)\n",
    "        - F1 Score: 0.953020134228188 (~95.30%)\n",
    "    f. SVM\n",
    "        - Accuracy Score: 0.9824561403508771 (~98.24%)\n",
    "        - F1 Score: 0.9861111111111112 (~98.61%)\n",
    "## Kesimpulan -->\n",
    "Berdasarkan bar horizontal tersebut, dari beberapa algoritma yang digunakan untuk training data, dapat dilihat bahwa algoritma SVM memberikan Accuracy Score dan F1 Score terbaik. Oleh karena itu, algoritma SVM adalah algoritma paling cocok untuk training data breast cancer dari beberapa algoritma yang ada."
   ]
  },
  {
   "cell_type": "code",
   "execution_count": 44,
   "id": "bd80688a",
   "metadata": {},
   "outputs": [
    {
     "data": {
      "text/plain": [
       "<Figure size 432x288 with 0 Axes>"
      ]
     },
     "metadata": {},
     "output_type": "display_data"
    },
    {
     "data": {
      "image/png": "[encoded data removed]",
      "text/plain": [
       "<Figure size 432x288 with 1 Axes>"
      ]
     },
     "metadata": {
      "needs_background": "light"
     },
     "output_type": "display_data"
    }
   ],
   "source": [
    "pt_accuracy_df = pd.DataFrame.from_dict(pt_accuracy_scores, orient='index')\n",
    "pt_f1_df = pd.DataFrame.from_dict(pt_f1_scores, orient='index')\n",
    "pt_scores = pd.concat([pt_accuracy_df, pt_f1_df], axis=1)\n",
    "pt_scores.columns = ['Accuracy', 'F1 Score']\n",
    "\n",
    "plt.figure()\n",
    "pt_scores.plot(kind=\"barh\")\n",
    "plt.show()"
   ]
  },
  {
   "cell_type": "markdown",
   "id": "b20516ff",
   "metadata": {},
   "source": [
    "<!-- # 2. Play Tennis\n",
    "## Algoritma\n",
    "    a. Decision Tree Classifier\n",
    "        - Accuracy Score: 1.0 (100%)\n",
    "        - F1 Score: 1.0 (100%)\n",
    "    b. Id3 Estimator\n",
    "        - Accuracy Score: 1.0 (100%)\n",
    "        - F1 Score: 1.0 (100%)\n",
    "    c. K-Means\n",
    "        - Accuracy Score: Accuracy: 0.6666666666666666 (~66.67%)\n",
    "        - F1 Score: 0.8 (80%)\n",
    "    d. Logistic Regression\n",
    "        - Accuracy Score: 0.6666666666666666 (~66.67%)\n",
    "        - F1 Score: 0.8 (80%)\n",
    "    e. Neural Network\n",
    "        - Accuracy Score: 1.0 (100%)\n",
    "        - F1 Score: 1.0 (100%)\n",
    "    f. SVM\n",
    "        - Accuracy Score: 0.6666666666666666 (~66.67%)\n",
    "        - F1 Score: 0.8 (80%)\n",
    "## Kesimpulan -->\n",
    "Berdasarkan bar horizonal di atas, dari beberapa algoritma yang digunakan untuk training data, dapat dilihat bahwa algoritma Decision Tree Classifier, Id3 Estimator, dan Neural Network memberikan Accuracy Score dan F1 Score terbaik. Oleh karena itu, algoritma Decision Tree Classifier, Id3 Estimator, dan Neural Network adalah algoritma paling cocok untuk training data play tennis dari beberapa algoritma yang ada."
   ]
  },
  {
   "cell_type": "markdown",
   "id": "5adcb00e",
   "metadata": {},
   "source": [
    "## Kesimpulan\n",
    "Karena algoritma Logistic Regression dan SVM memberikan skor yang lebih baik untuk data yang cenderung besar (Breast Cancer) dibandingkan data yang berukuran lebih kecil (Play Tennis), dapat disimpulkan bahwa algoritma Logistic Regression dan SVM cocok digunakan untuk data yang berukuran besar\n",
    "Selain itu, karena algoritma Id3 Estimator, K-Means, dan Neural Network memberikan skor yang lebih baik untuk data yang cenderung berukuran kecil (Play Tennis) dibandingkan data yang berukuran lebih besar (Breast Cancer), dapat disimpulkan bahwa algoritma Id3 Estimator, K-Means, dan Neural dan SVM cocok digunakan untuk data yang berukuran kecil"
   ]
  },
  {
   "cell_type": "markdown",
   "id": "7a3b1b10",
   "metadata": {
    "id": "7a3b1b10"
   },
   "source": [
    "Made by: \n",
    "- 13519107 -- Daffa Ananda Pratama Resyaly \n",
    "(4,5,6 breast cancer dataset & 1,2,3 play tennis dataset)\n",
    "- 13519113 -- Raihan Astrada Fathurrahman \n",
    "(1,2,3 breast cancer dataset  & 4,5,6 play tennis dataset)"
   ]
  }
 ],
 "metadata": {
  "colab": {
   "collapsed_sections": [
    "03bb262a",
    "c403002a",
    "9846ea75",
    "1adf85c6",
    "1e5f3a4c",
    "3b9b240c",
    "e88c0153",
    "9eaac185",
    "0a8c87d6"
   ],
   "name": "Tucil1_13519107_13519113.ipynb",
   "provenance": []
  },
  "kernelspec": {
   "display_name": "Python 3 (ipykernel)",
   "language": "python",
   "name": "python3"
  },
  "language_info": {
   "codemirror_mode": {
    "name": "ipython",
    "version": 3
   },
   "file_extension": ".py",
   "mimetype": "text/x-python",
   "name": "python",
   "nbconvert_exporter": "python",
   "pygments_lexer": "ipython3",
   "version": "3.9.0"
  }
 },
 "nbformat": 4,
 "nbformat_minor": 5
}
